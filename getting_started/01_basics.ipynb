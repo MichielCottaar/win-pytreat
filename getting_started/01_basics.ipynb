{
 "cells": [
  {
   "cell_type": "markdown",
   "metadata": {},
   "source": [
    "# Basic python\n",
    "\n",
    "This tutorial is aimed at briefly introducing you to the main language\n",
    "features of python, with emphasis on some of the common difficulties\n",
    "and pitfalls that are commonly encountered when moving to python.\n",
    "\n",
    "When going through this make sure that you _run_ each code block and\n",
    "look at the output, as these are crucial for understanding the\n",
    "explanations. You can run each block by using _shift + enter_\n",
    "(including the text blocks, so you can just move down the document\n",
    "with shift + enter).\n",
    "\n",
    "It is also possible to _change_ the contents of each code block (these pages are completely interactive) so do experiment with the code you see and try some variations!\n",
    "\n",
    "## Contents\n",
    "\n",
    "* [Basic types](#Basic-types)\n",
    " - [Strings](#Strings)\n",
    "   + [Format](#Format)\n",
    "   + [String manipulation](#String-manipulation)\n",
    " - [Tuples and lists](#Tuples-and-lists)\n",
    "   + [Adding to a list](#Adding-to-a-list)\n",
    "   + [Indexing](#Indexing)\n",
    "   + [Slicing](#Slicing)\n",
    " - [List operations](#List-operations)\n",
    "   + [Looping over elements in a list (or tuple)](#Looping)\n",
    "   + [Getting help](#Getting-help)\n",
    " - [Dictionaries](#Dictionaries)\n",
    "   + [Adding to a dictionary](#Adding-to-a-dictionary)\n",
    "   + [Removing elements from a dictionary](#Removing-elements-dictionary)\n",
    "   + [Looping over everything in a dictionary](#Looping-dictionary)\n",
    " - [Copying and references](#Copying-and-references)\n",
    "* [Control flow](#Control-flow)\n",
    "  - [Boolean operators](#Boolean-operators)\n",
    "  - [If statements](#If-statements)\n",
    "  - [For loops](#For-loops)\n",
    "  - [While loops](#While-loops)\n",
    "  - [A quick intro to conditional expressions and list comprehensions](#quick-intro)\n",
    "   + [Conditional expressions](#Conditional-expressions)\n",
    "   + [List comprehensions](#List-comprehensions)\n",
    "* [Functions](#functions)\n",
    "* [Exercise](#exercise)\n",
    "\n",
    "---\n",
    "\n",
    "<a class=\"anchor\" id=\"Basic-types\"></a>\n",
    "# Basic types\n",
    "\n",
    "Python has many different types and variables are dynamic and can change types (like MATLAB).  Some of the most commonly used in-built types are:\n",
    "* integer and floating point scalars\n",
    "* strings\n",
    "* tuples\n",
    "* lists\n",
    "* dictionary\n",
    "\n",
    "N-dimensional arrays and other types are supported through common modules (e.g., numpy, scipy, scikit-learn).  These will be covered in a subsequent exercise."
   ]
  },
  {
   "cell_type": "code",
   "execution_count": null,
   "metadata": {},
   "outputs": [],
   "source": [
    "a = 4\n",
    "b = 3.6\n",
    "c = 'abc'\n",
    "d = [10, 20, 30]\n",
    "e = {'a' : 10, 'b': 20}\n",
    "print(a)"
   ]
  },
  {
   "cell_type": "markdown",
   "metadata": {},
   "source": [
    "Any variable or combination of variables can be printed using the function `print()`:"
   ]
  },
  {
   "cell_type": "code",
   "execution_count": null,
   "metadata": {},
   "outputs": [],
   "source": [
    "print(d)\n",
    "print(e)\n",
    "print(a, b, c)"
   ]
  },
  {
   "cell_type": "markdown",
   "metadata": {},
   "source": [
    "> _*Python 3 versus python 2*_:\n",
    ">\n",
    ">   Print - for the print statement the brackets are compulsory for *python 3*, but are optional in python 2.  So you will see plenty of code without the brackets but you should never use `print` without brackets, as this is incompatible with Python 3.\n",
    ">\n",
    ">   Division - in python 3 all  division is floating point (like in MATLAB), even if the values are integers, but in python 2 integer division works like it does in C.\n",
    "\n",
    "---\n",
    "\n",
    "<a class=\"anchor\" id=\"Strings\"></a>\n",
    "## Strings\n",
    "\n",
    "Strings can be specified using single quotes *or* double quotes - as long as they are matched.\n",
    "Strings can be indexed like lists (see later).\n",
    "\n",
    "For example:"
   ]
  },
  {
   "cell_type": "code",
   "execution_count": null,
   "metadata": {},
   "outputs": [],
   "source": [
    "s1 = \"test string\"\n",
    "s2 = 'another test string'\n",
    "print(s1, ' :: ', s2)"
   ]
  },
  {
   "cell_type": "markdown",
   "metadata": {},
   "source": [
    "You can also use triple quotes to capture multi-line strings.  For example:"
   ]
  },
  {
   "cell_type": "code",
   "execution_count": null,
   "metadata": {},
   "outputs": [],
   "source": [
    "s3 = '''This is\n",
    "a string over\n",
    "multiple lines\n",
    "'''\n",
    "print(s3)"
   ]
  },
  {
   "cell_type": "markdown",
   "metadata": {},
   "source": [
    "<a class=\"anchor\" id=\"Format\"></a>\n",
    "### Format\n",
    "\n",
    "More interesting strings can be created using the `format` statement, which is very useful in print statements:"
   ]
  },
  {
   "cell_type": "code",
   "execution_count": null,
   "metadata": {},
   "outputs": [],
   "source": [
    "x = 1\n",
    "y = 'PyTreat'\n",
    "s = 'The numerical value is {} and a name is {}'.format(x, y)\n",
    "print(s)\n",
    "print('A name is {} and a number is {}'.format(y, x))"
   ]
  },
  {
   "cell_type": "markdown",
   "metadata": {},
   "source": [
    "There are also other options along these lines, but this is the more modern version, although you will see plenty of the other alternatives in \"old\" code (to python coders this means anything written before last week).\n",
    "\n",
    "<a class=\"anchor\" id=\"String-manipulation\"></a>\n",
    "### String manipulation\n",
    "\n",
    "The methods `lower()` and `upper()` are useful for strings.  For example:"
   ]
  },
  {
   "cell_type": "code",
   "execution_count": null,
   "metadata": {},
   "outputs": [],
   "source": [
    "s = 'This is a Test String'\n",
    "print(s.upper())\n",
    "print(s.lower())"
   ]
  },
  {
   "cell_type": "markdown",
   "metadata": {},
   "source": [
    "Another useful method is:"
   ]
  },
  {
   "cell_type": "code",
   "execution_count": null,
   "metadata": {},
   "outputs": [],
   "source": [
    "s = 'This is a Test String'\n",
    "s2 = s.replace('Test', 'Better')\n",
    "print(s2)"
   ]
  },
  {
   "cell_type": "markdown",
   "metadata": {},
   "source": [
    "Strings can be concatenated just by using the `+` operator:"
   ]
  },
  {
   "cell_type": "code",
   "execution_count": null,
   "metadata": {},
   "outputs": [],
   "source": [
    "s3 = s + ' :: ' + s2\n",
    "print(s3)"
   ]
  },
  {
   "cell_type": "markdown",
   "metadata": {},
   "source": [
    "If you like regular expressions then you're in luck as these are well supported in python using the `re` module.  To use this (like many other \"extensions\" - called _modules_ in Python - you need to `import` it).  For example:"
   ]
  },
  {
   "cell_type": "code",
   "execution_count": null,
   "metadata": {},
   "outputs": [],
   "source": [
    "import re\n",
    "s = 'This is a test of a Test String'\n",
    "s1 = re.sub(r'a [Tt]est', \"an example\", s)\n",
    "print(s1)"
   ]
  },
  {
   "cell_type": "markdown",
   "metadata": {},
   "source": [
    "where the `r` before the quote is used to force the regular expression specification to be a `raw string`.\n",
    "\n",
    "For more information on matching and substitutions, look up the regular expression module on the web.\n",
    "\n",
    "Two common and convenient string methods are `strip()` and `split()`.  The first will remove any whitespace at the beginning and end of a string:"
   ]
  },
  {
   "cell_type": "code",
   "execution_count": null,
   "metadata": {},
   "outputs": [],
   "source": [
    "s2 = '   A very    spacy   string       '\n",
    "print('*' + s2 + '*')\n",
    "print('*' + s2.strip() + '*')"
   ]
  },
  {
   "cell_type": "markdown",
   "metadata": {},
   "source": [
    "With `split()` we can tokenize a string (to turn it into a list of strings) like this:"
   ]
  },
  {
   "cell_type": "code",
   "execution_count": null,
   "metadata": {},
   "outputs": [],
   "source": [
    "print(s.split())\n",
    "print(s2.split())"
   ]
  },
  {
   "cell_type": "markdown",
   "metadata": {},
   "source": [
    "By default it splits at whitespace, but it can also split at a specified delimiter:"
   ]
  },
  {
   "cell_type": "code",
   "execution_count": null,
   "metadata": {},
   "outputs": [],
   "source": [
    "s4 = '  This is,  as you can    see ,   a very  weirdly spaced and punctuated    string ...  '\n",
    "print(s4.split(','))"
   ]
  },
  {
   "cell_type": "markdown",
   "metadata": {},
   "source": [
    "There are more powerful ways of dealing with this like csv files/strings, which are covered in later practicals, but even this can get you a long way.\n",
    "\n",
    "> Note that strings in python 3 are _unicode_ so can represent Chinese characters, etc, and is therefore very flexible.  However, in general you can just be blissfully ignorant of this fact.\n",
    "\n",
    "Strings can be converted to integer or floating-point values by using the `int()` and `float()` calls:"
   ]
  },
  {
   "cell_type": "code",
   "execution_count": null,
   "metadata": {},
   "outputs": [],
   "source": [
    "sint='23'\n",
    "sfp='2.03'\n",
    "print(sint + sfp)\n",
    "print(int(sint) + float(sfp))\n",
    "print(float(sint) + float(sfp))"
   ]
  },
  {
   "cell_type": "markdown",
   "metadata": {},
   "source": [
    "> Note that calling `int()` on a non-integer (e.g., on `sfp` above) will raise an error.\n",
    "\n",
    "---\n",
    "\n",
    "<a class=\"anchor\" id=\"Tuples-and-lists\"></a>\n",
    "## Tuples and lists\n",
    "\n",
    "Both tuples and lists are builtin python types and are like vectors, \n",
    "but for numerical vectors and arrays it is much better to use _numpy_\n",
    "arrays (or matrices), which are covered in a later tutorial.\n",
    "\n",
    "A tuple is like a list or a vector, but with less flexibility than a full list, however anything can be stored in either a list or tuple, without any consistency being required.  For example:"
   ]
  },
  {
   "cell_type": "code",
   "execution_count": null,
   "metadata": {},
   "outputs": [],
   "source": [
    "xtuple = (3, 7.6, 'str')\n",
    "xlist = [1, 'mj', -5.4]\n",
    "print(xtuple)\n",
    "print(xlist)"
   ]
  },
  {
   "cell_type": "markdown",
   "metadata": {},
   "source": [
    "They can also be nested:"
   ]
  },
  {
   "cell_type": "code",
   "execution_count": null,
   "metadata": {},
   "outputs": [],
   "source": [
    "x2 = (xtuple, xlist)\n",
    "x3 = [xtuple, xlist]\n",
    "print('x2 is: ', x2)\n",
    "print('x3 is: ', x3)"
   ]
  },
  {
   "cell_type": "markdown",
   "metadata": {},
   "source": [
    "<a class=\"anchor\" id=\"Adding-to-a-list\"></a>\n",
    "### Adding to a list\n",
    "\n",
    "This is easy:"
   ]
  },
  {
   "cell_type": "code",
   "execution_count": null,
   "metadata": {},
   "outputs": [],
   "source": [
    "a = [10, 20, 30]\n",
    "a = a + [70]\n",
    "a +=  [80]\n",
    "print(a)"
   ]
  },
  {
   "cell_type": "markdown",
   "metadata": {},
   "source": [
    "<a class=\"anchor\" id=\"Indexing\"></a>\n",
    "### Indexing\n",
    "\n",
    "Square brackets are used to index tuples, lists, dictionaries, etc.  For example:"
   ]
  },
  {
   "cell_type": "code",
   "execution_count": null,
   "metadata": {},
   "outputs": [],
   "source": [
    "d = [10, 20, 30]\n",
    "print(d[1])"
   ]
  },
  {
   "cell_type": "markdown",
   "metadata": {},
   "source": [
    "> _*Pitfall:*_\n",
    ">  Python uses zero-based indexing, unlike MATLAB"
   ]
  },
  {
   "cell_type": "code",
   "execution_count": null,
   "metadata": {},
   "outputs": [],
   "source": [
    "a = [10, 20, 30, 40, 50, 60]\n",
    "print(a[0])\n",
    "print(a[2])"
   ]
  },
  {
   "cell_type": "markdown",
   "metadata": {},
   "source": [
    "Indices naturally run from 0 to N-1, _but_ negative numbers can be used to reference from the end (circular wrap-around)."
   ]
  },
  {
   "cell_type": "code",
   "execution_count": null,
   "metadata": {},
   "outputs": [],
   "source": [
    "print(a[-1])\n",
    "print(a[-6])"
   ]
  },
  {
   "cell_type": "markdown",
   "metadata": {},
   "source": [
    "However, this is only true for -1 to -N.  Outside of -N to N-1 will generate an `index out of range` error."
   ]
  },
  {
   "cell_type": "code",
   "execution_count": null,
   "metadata": {},
   "outputs": [],
   "source": [
    "print(a[-7])"
   ]
  },
  {
   "cell_type": "code",
   "execution_count": null,
   "metadata": {},
   "outputs": [],
   "source": [
    "print(a[6])"
   ]
  },
  {
   "cell_type": "markdown",
   "metadata": {},
   "source": [
    "Length of a tuple or list is given by the `len()` function:"
   ]
  },
  {
   "cell_type": "code",
   "execution_count": null,
   "metadata": {},
   "outputs": [],
   "source": [
    "print(len(a))"
   ]
  },
  {
   "cell_type": "markdown",
   "metadata": {},
   "source": [
    "Nested lists can have nested indexing:"
   ]
  },
  {
   "cell_type": "code",
   "execution_count": null,
   "metadata": {},
   "outputs": [],
   "source": [
    "b = [[10, 20, 30], [40, 50, 60]]\n",
    "print(b[0][1])\n",
    "print(b[1][0])"
   ]
  },
  {
   "cell_type": "markdown",
   "metadata": {},
   "source": [
    "but *not* an index like b[0, 1].\n",
    "\n",
    "> Note that `len` will only give the length of the top level.\n",
    "> In general, numpy arrays should be preferred to nested lists when the contents are numerical.\n",
    "\n",
    "<a class=\"anchor\" id=\"Slicing\"></a>\n",
    "### Slicing\n",
    "\n",
    "A range of values for the indices can be specified to extract values from a list.  For example:"
   ]
  },
  {
   "cell_type": "code",
   "execution_count": null,
   "metadata": {},
   "outputs": [],
   "source": [
    "print(a[0:3])"
   ]
  },
  {
   "cell_type": "markdown",
   "metadata": {},
   "source": [
    "> _*Pitfall:*_\n",
    ">\n",
    ">  Slicing syntax is different from MATLAB in that second number is\n",
    ">  exclusive (i.e., one plus final index) - this is in addition to the zero index difference."
   ]
  },
  {
   "cell_type": "code",
   "execution_count": null,
   "metadata": {},
   "outputs": [],
   "source": [
    "a = [10, 20, 30, 40, 50, 60]\n",
    "print(a[0:3])    # same as a(1:3) in MATLAB\n",
    "print(a[1:3])    # same as a(2:3) in MATLAB"
   ]
  },
  {
   "cell_type": "markdown",
   "metadata": {},
   "source": [
    "> _*Pitfall:*_\n",
    ">\n",
    ">  Unlike in MATLAB, you cannot use a list as indices instead of an\n",
    ">  integer or a slice (although these can be done in _numpy_)."
   ]
  },
  {
   "cell_type": "code",
   "execution_count": null,
   "metadata": {},
   "outputs": [],
   "source": [
    "b = [3, 4]\n",
    "print(a[b])"
   ]
  },
  {
   "cell_type": "markdown",
   "metadata": {},
   "source": [
    "<a class=\"anchor\" id=\"List-operations\"></a>\n",
    "### List operations\n",
    "\n",
    "Multiplication can be used with lists, where multiplication implements replication."
   ]
  },
  {
   "cell_type": "code",
   "execution_count": null,
   "metadata": {},
   "outputs": [],
   "source": [
    "d = [10, 20, 30]\n",
    "print(d * 4)"
   ]
  },
  {
   "cell_type": "markdown",
   "metadata": {},
   "source": [
    "There are also other operations such as:"
   ]
  },
  {
   "cell_type": "code",
   "execution_count": null,
   "metadata": {},
   "outputs": [],
   "source": [
    "d.append(40)\n",
    "print(d)\n",
    "d.remove(20)\n",
    "print(d)\n",
    "d.pop(0)\n",
    "print(d)"
   ]
  },
  {
   "cell_type": "markdown",
   "metadata": {},
   "source": [
    "<a class=\"anchor\" id=\"Looping\"></a>\n",
    "### Looping over elements in a list (or tuple)"
   ]
  },
  {
   "cell_type": "code",
   "execution_count": null,
   "metadata": {},
   "outputs": [],
   "source": [
    "d = [10, 20, 30]\n",
    "for x in d:\n",
    "    print(x)"
   ]
  },
  {
   "cell_type": "markdown",
   "metadata": {},
   "source": [
    "> Note that the indentation within the loop is _*crucial*_.  All python control blocks are delineated purely by indentation.\n",
    "\n",
    "<a class=\"anchor\" id=\"Getting-help\"></a>\n",
    "### Getting help\n",
    "\n",
    "The function `help()` can be used to get information about any variable/object/function in python.   It lists the possible operations. In `ipython` you can also just type `?<blah>` or `<blah>?` instead:"
   ]
  },
  {
   "cell_type": "code",
   "execution_count": null,
   "metadata": {},
   "outputs": [],
   "source": [
    "help(d)"
   ]
  },
  {
   "cell_type": "markdown",
   "metadata": {},
   "source": [
    "There is also a `dir()` function that gives a basic listing of the operations:"
   ]
  },
  {
   "cell_type": "code",
   "execution_count": null,
   "metadata": {},
   "outputs": [],
   "source": [
    "dir(d)"
   ]
  },
  {
   "cell_type": "markdown",
   "metadata": {},
   "source": [
    "> Note that google is often more helpful!\n",
    "\n",
    "---\n",
    "\n",
    "<a class=\"anchor\" id=\"Dictionaries\"></a>\n",
    "## Dictionaries\n",
    "\n",
    "These store key-value pairs.  For example:"
   ]
  },
  {
   "cell_type": "code",
   "execution_count": null,
   "metadata": {},
   "outputs": [],
   "source": [
    "e = {'a' : 10, 'b': 20}\n",
    "print(len(e))\n",
    "print(e.keys())\n",
    "print(e.values())\n",
    "print(e['a'])"
   ]
  },
  {
   "cell_type": "markdown",
   "metadata": {},
   "source": [
    "The keys and values can take on almost any type, even dictionaries!\n",
    "Python is nothing if not flexible.  However, each key must be unique\n",
    "and the dictionary must be \"hashable\".\n",
    "\n",
    "<a class=\"anchor\" id=\"Adding-to-a-dictionary\"></a>\n",
    "### Adding to a dictionary\n",
    "\n",
    "This is very easy:"
   ]
  },
  {
   "cell_type": "code",
   "execution_count": null,
   "metadata": {},
   "outputs": [],
   "source": [
    "e['c'] = 555   # just like in Biobank!  ;)\n",
    "print(e)"
   ]
  },
  {
   "cell_type": "markdown",
   "metadata": {},
   "source": [
    "<a class=\"anchor\" id=\"Removing-elements-dictionary\"></a>\n",
    "### Removing elements from a dictionary\n",
    "\n",
    "There are two main approaches - `pop` and `del`:"
   ]
  },
  {
   "cell_type": "code",
   "execution_count": null,
   "metadata": {},
   "outputs": [],
   "source": [
    "e.pop('b')\n",
    "print(e)\n",
    "del e['c']\n",
    "print(e)"
   ]
  },
  {
   "cell_type": "markdown",
   "metadata": {},
   "source": [
    "<a class=\"anchor\" id=\"Looping-dictionary\"></a>\n",
    "### Looping over everything in a dictionary\n",
    "\n",
    "Several variables can jointly work as loop variables in python, which is very convenient.  For example:"
   ]
  },
  {
   "cell_type": "code",
   "execution_count": null,
   "metadata": {},
   "outputs": [],
   "source": [
    "e = {'a' : 10, 'b': 20, 'c':555}\n",
    "for k, v in e.items():\n",
    "   print((k, v))"
   ]
  },
  {
   "cell_type": "markdown",
   "metadata": {},
   "source": [
    "The print statement here constructs a tuple, which is often used in python.\n",
    "\n",
    "Another option is:"
   ]
  },
  {
   "cell_type": "code",
   "execution_count": null,
   "metadata": {},
   "outputs": [],
   "source": [
    "for k in e:\n",
    "    print((k, e[k]))"
   ]
  },
  {
   "cell_type": "markdown",
   "metadata": {},
   "source": [
    "> Note that in both cases the order is arbitrary. The `sorted` function can be used if you want keys in a sorted order; e.g. `for k in sorted(e):` ...\n",
    ">\n",
    "> There are also other options if you want a dictionary with ordering.\n",
    "\n",
    "---\n",
    "\n",
    "<a class=\"anchor\" id=\"Copying-and-references\"></a>\n",
    "## Copying and references \n",
    "\n",
    "In python there are immutable types (e.g. numbers) and mutable types (e.g. lists). The main thing to know is that assignment can sometimes create separate copies and sometimes create references (as in C++). In general, the more complicated types are assigned via references. For example:"
   ]
  },
  {
   "cell_type": "code",
   "execution_count": null,
   "metadata": {},
   "outputs": [],
   "source": [
    "a = 7\n",
    "b = a\n",
    "a = 2348\n",
    "print(b)"
   ]
  },
  {
   "cell_type": "markdown",
   "metadata": {},
   "source": [
    "As opposed to:"
   ]
  },
  {
   "cell_type": "code",
   "execution_count": null,
   "metadata": {},
   "outputs": [],
   "source": [
    "a = [7]\n",
    "b = a\n",
    "a[0] = 8888\n",
    "print(b)"
   ]
  },
  {
   "cell_type": "markdown",
   "metadata": {},
   "source": [
    "But if an operation is performed then a copy might be made:"
   ]
  },
  {
   "cell_type": "code",
   "execution_count": null,
   "metadata": {},
   "outputs": [],
   "source": [
    "a = [7]\n",
    "b = a * 2\n",
    "a[0] = 8888\n",
    "print(b)"
   ]
  },
  {
   "cell_type": "markdown",
   "metadata": {},
   "source": [
    "If an explicit copy is necessary then this can be made using the `list()` constructor:"
   ]
  },
  {
   "cell_type": "code",
   "execution_count": null,
   "metadata": {},
   "outputs": [],
   "source": [
    "a = [7]\n",
    "b = list(a)\n",
    "a[0] = 8888\n",
    "print(b)"
   ]
  },
  {
   "cell_type": "markdown",
   "metadata": {},
   "source": [
    "There is a constructor for each type and this con be useful for converting between types:"
   ]
  },
  {
   "cell_type": "code",
   "execution_count": null,
   "metadata": {},
   "outputs": [],
   "source": [
    "xt = (2, 5, 7)\n",
    "xl = list(xt)\n",
    "print(xt)\n",
    "print(xl)"
   ]
  },
  {
   "cell_type": "markdown",
   "metadata": {},
   "source": [
    "> _*Pitfall:*_\n",
    ">\n",
    "> When writing functions you need to be particularly careful about references and copies."
   ]
  },
  {
   "cell_type": "code",
   "execution_count": null,
   "metadata": {},
   "outputs": [],
   "source": [
    "def foo1(x):\n",
    "   x.append(10)\n",
    "def foo2(x):\n",
    "   x = x + [10]\n",
    "def foo3(x):\n",
    "   return x + [10]\n",
    "\n",
    "a = [5]\n",
    "print(a)\n",
    "foo1(a)\n",
    "print(a)\n",
    "foo2(a)\n",
    "print(a)\n",
    "foo3(a)\n",
    "print(a)"
   ]
  },
  {
   "cell_type": "markdown",
   "metadata": {},
   "source": [
    "> Note that we have defined some functions here - and the syntax\n",
    "> should be relatively intuitive.  See <a href=\"#functions\">below</a>\n",
    "> for a bit more detail on function definitions.\n",
    "\n",
    "---\n",
    "\n",
    "<a class=\"anchor\" id=\"Control-flow\"></a>\n",
    "## Control flow\n",
    "\n",
    "<a class=\"anchor\" id=\"Boolean-operators\"></a>\n",
    "### Boolean operators\n",
    "\n",
    "There is a boolean type in python that can be `True` or `False` (note the capitals). Other values can also be used for True or False (e.g., 1 for True; 0 or None or [] or {} or \"\") although they are not considered 'equal' in the sense that the operator `==` would consider them the same.\n",
    "\n",
    "Relevant boolean and comparison operators include: `not`, `and`, `or`, `==` and `!=`\n",
    "\n",
    "For example:"
   ]
  },
  {
   "cell_type": "code",
   "execution_count": null,
   "metadata": {},
   "outputs": [],
   "source": [
    "a = True\n",
    "print('Not a is:', not a)\n",
    "print('Not 1 is:', not 1)\n",
    "print('Not 0 is:', not 0)\n",
    "print('Not {} is:', not {})\n",
    "print('{}==0 is:', {}==0)"
   ]
  },
  {
   "cell_type": "markdown",
   "metadata": {},
   "source": [
    "There is also the `in` test for strings, lists, etc:"
   ]
  },
  {
   "cell_type": "code",
   "execution_count": null,
   "metadata": {},
   "outputs": [],
   "source": [
    "print('the' in 'a number of words')\n",
    "print('of' in 'a number of words')\n",
    "print(3 in [1, 2, 3, 4])"
   ]
  },
  {
   "cell_type": "markdown",
   "metadata": {},
   "source": [
    "<a class=\"anchor\" id=\"If-statements\"></a>\n",
    "### If statements\n",
    "\n",
    "The basic syntax of `if` statements is fairly standard, though don't forget that you _*must*_ indent the statements within the conditional/loop block as this is the way of delineating blocks of code in python.  For example:"
   ]
  },
  {
   "cell_type": "code",
   "execution_count": null,
   "metadata": {},
   "outputs": [],
   "source": [
    "import random\n",
    "a = random.uniform(-1, 1)\n",
    "print(a)\n",
    "if a>0:\n",
    "   print('Positive')\n",
    "elif a<0:\n",
    "   print('Negative')\n",
    "else:\n",
    "   print('Zero')"
   ]
  },
  {
   "cell_type": "markdown",
   "metadata": {},
   "source": [
    "Or more generally:"
   ]
  },
  {
   "cell_type": "code",
   "execution_count": null,
   "metadata": {},
   "outputs": [],
   "source": [
    "a = []    # just one of many examples\n",
    "if not a:\n",
    "   print('Variable is true, or at least not empty')"
   ]
  },
  {
   "cell_type": "markdown",
   "metadata": {},
   "source": [
    "This can be useful for functions where a variety of possible input types are being dealt with. \n",
    "\n",
    "---\n",
    "\n",
    "<a class=\"anchor\" id=\"For-loops\"></a>\n",
    "### For loops\n",
    "\n",
    "The `for` loop works like in bash:"
   ]
  },
  {
   "cell_type": "code",
   "execution_count": null,
   "metadata": {},
   "outputs": [],
   "source": [
    "for x in [2, 'is', 'more', 'than', 1]:\n",
    "   print(x)"
   ]
  },
  {
   "cell_type": "markdown",
   "metadata": {},
   "source": [
    "where a list or any other sequence (e.g. tuple) can be used.\n",
    "\n",
    "If you want a numerical range then use:"
   ]
  },
  {
   "cell_type": "code",
   "execution_count": null,
   "metadata": {},
   "outputs": [],
   "source": [
    "for x in range(2, 9):\n",
    "  print(x)"
   ]
  },
  {
   "cell_type": "markdown",
   "metadata": {},
   "source": [
    "Note that, like slicing, the maximum value is one less than the value specified.  Also, `range` actually returns an object that can be iterated over but is not just a list of numbers. If you want a list of numbers then `list(range(2, 9))` will give you this.\n",
    "\n",
    "A very nice feature of python is that multiple variables can be assigned from a tuple or list:"
   ]
  },
  {
   "cell_type": "code",
   "execution_count": null,
   "metadata": {},
   "outputs": [],
   "source": [
    "x, y = [4, 7]\n",
    "print(x)\n",
    "print(y)"
   ]
  },
  {
   "cell_type": "markdown",
   "metadata": {},
   "source": [
    "and this can be combined with a function called `zip` to make very convenient dual variable loops:"
   ]
  },
  {
   "cell_type": "code",
   "execution_count": null,
   "metadata": {},
   "outputs": [],
   "source": [
    "alist = ['Some', 'set', 'of', 'items']\n",
    "blist = list(range(len(alist)))\n",
    "print(list(zip(alist, blist)))\n",
    "for x, y in zip(alist, blist):\n",
    "   print(y, x)"
   ]
  },
  {
   "cell_type": "markdown",
   "metadata": {},
   "source": [
    "This type of loop can be used with any two lists (or similar) to iterate over them jointly.\n",
    "\n",
    "<a class=\"anchor\" id=\"While-loops\"></a>\n",
    "### While loops\n",
    "\n",
    "The syntax for this is pretty standard:"
   ]
  },
  {
   "cell_type": "code",
   "execution_count": null,
   "metadata": {},
   "outputs": [],
   "source": [
    "import random\n",
    "n = 0\n",
    "x = 0\n",
    "while n<100:\n",
    "   x += random.uniform(0, 1)**2   # where ** is a power operation\n",
    "   if x>50:\n",
    "      break\n",
    "   n += 1\n",
    "print(x)"
   ]
  },
  {
   "cell_type": "markdown",
   "metadata": {},
   "source": [
    "You can also use `continue` as in other languages.\n",
    "\n",
    "---\n",
    "\n",
    "<a class=\"anchor\" id=\"quick-intro\"></a>\n",
    "### A quick intro to conditional expressions and list comprehensions\n",
    "\n",
    "These are more advanced bits of python but are really useful and common, so worth having a little familiarity with at this stage.\n",
    "\n",
    "<a class=\"anchor\" id=\"Conditional-expressions\"></a>\n",
    "#### Conditional expressions\n",
    "\n",
    "A general expression that can be used in python is: A `if` condition `else` B\n",
    "\n",
    "For example:"
   ]
  },
  {
   "cell_type": "code",
   "execution_count": null,
   "metadata": {},
   "outputs": [],
   "source": [
    "import random\n",
    "x = random.uniform(0, 1)\n",
    "y = x**2 if x<0.5 else (1 - x)**2\n",
    "print(x, y)"
   ]
  },
  {
   "cell_type": "markdown",
   "metadata": {},
   "source": [
    "<a class=\"anchor\" id=\"List-comprehensions\"></a>\n",
    "#### List comprehensions\n",
    "\n",
    "This is a shorthand syntax for building a list like a for loop but doing it in one line, and is very popular in python.  It is quite similar to mathematical set notation.  For example:"
   ]
  },
  {
   "cell_type": "code",
   "execution_count": null,
   "metadata": {},
   "outputs": [],
   "source": [
    "v1 = [ x**2 for x in range(10) ]\n",
    "print(v1)\n",
    "v2 = [ x**2 for x in range(10) if x!=7 ]\n",
    "print(v2)"
   ]
  },
  {
   "cell_type": "markdown",
   "metadata": {},
   "source": [
    "You'll find that python programmers use this kind of construction _*a lot*_.\n",
    "\n",
    "\n",
    "---\n",
    "\n",
    "<a class=\"anchor\" id=\"functions\"></a>\n",
    "## Functions\n",
    "\n",
    "You will find functions pretty familiar in python to start with,\n",
    "although they have a few options which are really handy and different\n",
    "from C++ or matlab (to be covered in a later practical).  To start\n",
    "with we'll look at a simple function but note a few key points:\n",
    " * you _must_ indent everything inside the function (it is a code\n",
    "   block and indentation is the only way of determining this - just\n",
    "   like for the guts of a loop)\n",
    " * you can return _whatever you want_ from a python function, but only\n",
    " a single object - it is usual to package up multiple things in a\n",
    " tuple or list, which is easily unpacked by the calling invocation:\n",
    " e.g., `a, b, c = myfunc(x)`\n",
    " * parameters are passed by reference (see section on <a\n",
    "    href=\"#Copying-and-references\">copying and references</a>)"
   ]
  },
  {
   "cell_type": "code",
   "execution_count": null,
   "metadata": {},
   "outputs": [],
   "source": [
    "def myfunc(x, y, z=0):\n",
    "    r2 = x*x + y*y + z*z\n",
    "    r = r2**0.5\n",
    "    return (r,  r2)\n",
    "\n",
    "rad = myfunc(10, 20)\n",
    "print(rad)\n",
    "rad, dummy = myfunc(10, 20, 30)\n",
    "print(rad)\n",
    "rad, _ = myfunc(10,20,30)\n",
    "print(rad)"
   ]
  },
  {
   "cell_type": "markdown",
   "metadata": {},
   "source": [
    "> Note that the `_` is used as shorthand here for a dummy variable\n",
    "> that you want to throw away.\n",
    "\n",
    "One nice feature of python functions is that you can name the\n",
    "arguments when you call them, rather than only doing it by position.\n",
    "For example:"
   ]
  },
  {
   "cell_type": "code",
   "execution_count": null,
   "metadata": {},
   "outputs": [],
   "source": [
    "def myfunc(x, y, z=0, flag=''):\n",
    "   if flag=='L1':\n",
    "       r = abs(x) + abs(y) + abs(z)\n",
    "   else:\n",
    "       r = (x*x + y*y + z*z)**0.5\n",
    "   return r\n",
    "\n",
    "rA = myfunc(10, 20)\n",
    "rB = myfunc(10, 20, flag='L1')\n",
    "rC = myfunc(10, 20, flag='L1', z=30)\n",
    "print(rA, rB, rC)"
   ]
  },
  {
   "cell_type": "markdown",
   "metadata": {},
   "source": [
    "You will often see python functions called with these named arguments.\n",
    "\n",
    "---\n",
    "\n",
    "<a class=\"anchor\" id=\"exercise\"></a>\n",
    "## Exercises\n",
    "\n",
    "Let's say you are given a single string with comma separated elements\n",
    "that represent filenames and ID codes: e.g., `/vols/Data/pytreat/AAC, 165873, /vols/Data/pytreat/AAG, 170285, ...`\n",
    "\n",
    "Write some code to do the following: \n",
    " * separate out the filenames and ID codes into separate lists (ID's\n",
    " should be numerical values, not strings)\n",
    " * loop over the two and generate a _string_ that could be used to\n",
    "   rename the directories (e.g., `mv /vols/Data/pytreat/AAC /vols/Data/pytreat/S165873`) - we will cover how to actually execute these in a later practical\n",
    " * convert your dual lists into a dictionary, with ID as the key\n",
    " * write a small function to determine if an ID is present in this\n",
    " set of not, and also return the filename if it is\n",
    " * write a for loop to create a list of all the odd-numbered IDs (you can use the `%` operator for modulus - i.e., `5 % 2` is 1)\n",
    " * re-write the for loop as a list comprehension\n",
    " * now generate a list of the filenames corresponding to these odd-numbered IDs"
   ]
  },
  {
   "cell_type": "code",
   "execution_count": null,
   "metadata": {},
   "outputs": [],
   "source": [
    "mstr = '/vols/Data/pytreat/AAC, 165873,  /vols/Data/pytreat/AAG,   170285, /vols/Data/pytreat/AAH, 196792, /vols/Data/pytreat/AAK, 212577, /vols/Data/pytreat/AAQ, 385376, /vols/Data/pytreat/AB, 444600, /vols/Data/pytreat/AC6, 454578, /vols/Data/pytreat/V8, 501502,   /vols/Data/pytreat/2YK, 667688, /vols/Data/pytreat/C3PO, 821971'"
   ]
  }
 ],
 "metadata": {},
 "nbformat": 4,
 "nbformat_minor": 2
}
