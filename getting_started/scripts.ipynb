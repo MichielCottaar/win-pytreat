{
 "cells": [
  {
   "cell_type": "markdown",
   "metadata": {},
   "source": [
    "# Callable scripts in python\n",
    "\n",
    "In this tutorial we will cover how to write simple stand-alone scripts in python that can be used as alternatives to bash scripts.\n",
    "\n",
    "There are some code blocks within this webpage, but we recommend that you write the code in an IDE or editor instead and then run the scripts from a terminal.\n",
    "\n",
    "## Basic script\n",
    "\n",
    "The first line of a python script is usually:"
   ]
  },
  {
   "cell_type": "code",
   "execution_count": null,
   "metadata": {},
   "outputs": [],
   "source": [
    "#!/usr/bin/env python"
   ]
  },
  {
   "cell_type": "markdown",
   "metadata": {},
   "source": [
    "which invokes whichever version of python can be found by `/usr/bin/env` since python can be located in many different places.\n",
    "\n",
    "For FSL scripts we use an alternative, to ensure that we pick up the version of python (and associated packages) that we ship with FSL.  To do this we use the line:"
   ]
  },
  {
   "cell_type": "code",
   "execution_count": null,
   "metadata": {},
   "outputs": [],
   "source": [
    "#!/usr/bin/env fslpython"
   ]
  },
  {
   "cell_type": "markdown",
   "metadata": {},
   "source": [
    "After this line the rest of the file just uses regular python syntax, as in the other tutorials.\n",
    "\n",
    "## Calling other executables\n",
    "\n",
    "The most essential call that you need to use to replicate the way a bash script calls executables is `subprocess.run()`.  A simple call looks like this:"
   ]
  },
  {
   "cell_type": "code",
   "execution_count": null,
   "metadata": {},
   "outputs": [],
   "source": [
    "import subprocess\n",
    "subprocess.run([\"ls\",\"-la\"])"
   ]
  },
  {
   "cell_type": "markdown",
   "metadata": {},
   "source": [
    "To suppress the output do this:"
   ]
  },
  {
   "cell_type": "code",
   "execution_count": null,
   "metadata": {},
   "outputs": [],
   "source": [
    "sp=subprocess.run([\"ls\"],stdout=subprocess.PIPE)"
   ]
  },
  {
   "cell_type": "markdown",
   "metadata": {},
   "source": [
    "To store the output do this:"
   ]
  },
  {
   "cell_type": "code",
   "execution_count": null,
   "metadata": {},
   "outputs": [],
   "source": [
    "sp=subprocess.run(\"ls -la\".split(),stdout=subprocess.PIPE)\n",
    "sout=sp.stdout.decode('utf-8')\n",
    "print(sout)"
   ]
  },
  {
   "cell_type": "markdown",
   "metadata": {},
   "source": [
    "Note that the `decode` call in the middle line converts the string from a byte string to a normal string.\n",
    "\n",
    "If the output is numerical then this can be extracted like this:"
   ]
  },
  {
   "cell_type": "code",
   "execution_count": null,
   "metadata": {},
   "outputs": [],
   "source": [
    "import os\n",
    "fsldir=os.getenv('FSLDIR')\n",
    "sp=subprocess.run([fsldir+'/bin/fslstats',fsldir+'/data/standard/MNI152_T1_1mm_brain','-V'],stdout=subprocess.PIPE)\n",
    "sout=sp.stdout.decode('utf-8')\n",
    "vol_vox=float(sout.split()[0])\n",
    "vol_mm=float(sout.split()[1])\n",
    "print('Volumes are: ',vol_vox,' in voxels and ',vol_mm,' in mm')"
   ]
  },
  {
   "cell_type": "markdown",
   "metadata": {},
   "source": [
    "## Command line arguments\n",
    "\n",
    "The simplest way of dealing with command line arguments is use the module `sys`, which gives access to an `argv` list:"
   ]
  },
  {
   "cell_type": "code",
   "execution_count": null,
   "metadata": {},
   "outputs": [],
   "source": [
    "import sys\n",
    "print(len(sys.argv))\n",
    "print(sys.argv[0])"
   ]
  },
  {
   "cell_type": "markdown",
   "metadata": {},
   "source": [
    "There are also some modules that are useful for parsing arguments:\n",
    " - `getopt`\n",
    " - `argparse`\n",
    " and you can find good documentation and examples of these on the web.\n",
    "\n",
    "\n",
    "## Example script\n",
    "\n",
    "Here is a simple bash script (it masks an image and calculates volumes - just as random examples):"
   ]
  },
  {
   "cell_type": "code",
   "execution_count": null,
   "metadata": {},
   "outputs": [],
   "source": [
    "#!/bin/bash\n",
    "if [ $# -lt 2 ] ; then\n",
    "  echo \"Usage: $0 <input image> <output image>\"\n",
    "  exit 1\n",
    "fi\n",
    "infile=$1\n",
    "outfile=$2\n",
    "# mask input image with MNI\n",
    "$FSLDIR/bin/fslmaths $infile -mas $FSLDIR/data/standard/MNI152_T1_1mm_brain $outfile\n",
    "# calculate volumes of masked image  \n",
    "vv=`$FSLDIR/bin/fslstats $outfile -V`\n",
    "vol_vox=`echo $vv | awk '{ print $1 }'`\n",
    "vol_mm=`echo $vv | awk '{ print $2 }'`\n",
    "echo \"Volumes are: $vol_vox in voxels and $vol_mm in mm\""
   ]
  },
  {
   "cell_type": "markdown",
   "metadata": {},
   "source": [
    "And an alternative in python:"
   ]
  },
  {
   "cell_type": "code",
   "execution_count": null,
   "metadata": {},
   "outputs": [],
   "source": [
    "#!/usr/bin/env fslpython\n",
    "import os, sys, subprocess\n",
    "fsldir=os.getenv('FSLDIR')\n",
    "if len(sys.argv)<2:\n",
    "  print('Usage: ',sys.argv[0],' <input image> <output image>')\n",
    "  sys.exit(1)\n",
    "infile=sys.argv[1]\n",
    "outfile=sys.argv[2]\n",
    "# mask input image with MNI\n",
    "sp=subprocess.run([fsldir+'/bin/fslmaths',infile,'-mas',fsldir+'/data/standard/MNI152_T1_1mm_brain',outfile],stdout=subprocess.PIPE)\n",
    "# calculate volumes of masked image  \n",
    "sp=subprocess.run([fsldir+'/bin/fslstats',outfile,'-V'],stdout=subprocess.PIPE)\n",
    "sout=sp.stdout.decode('utf-8')\n",
    "vol_vox=float(sout.split()[0])\n",
    "vol_mm=float(sout.split()[1])\n",
    "print('Volumes are: ',vol_vox,' in voxels and ',vol_mm,' in mm')"
   ]
  }
 ],
 "metadata": {
  "kernelspec": {
   "display_name": "Python 3",
   "language": "python",
   "name": "python3"
  },
  "language_info": {
   "codemirror_mode": {
    "name": "ipython",
    "version": 3
   },
   "file_extension": ".py",
   "mimetype": "text/x-python",
   "name": "python",
   "nbconvert_exporter": "python",
   "pygments_lexer": "ipython3",
   "version": "3.5.2"
  }
 },
 "nbformat": 4,
 "nbformat_minor": 2
}
