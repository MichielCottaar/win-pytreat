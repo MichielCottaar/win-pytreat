{
 "cells": [
  {
   "cell_type": "markdown",
   "metadata": {},
   "source": [
    "# Context managers\n",
    "\n",
    "\n",
    "The recommended way to open a file in Python is via the `with` statement:"
   ]
  },
  {
   "cell_type": "code",
   "execution_count": null,
   "metadata": {},
   "outputs": [],
   "source": [
    "with open('05_context_managers.md', 'rt') as f:\n",
    "    firstlines = f.readlines()[:4]\n",
    "    firstlines = [l.strip() for l in firstlines]\n",
    "    print('\\n'.join(firstlines))"
   ]
  },
  {
   "cell_type": "markdown",
   "metadata": {},
   "source": [
    "This is because the `with` statement ensures that the file will be closed\n",
    "automatically, even if an error occurs inside the `with` statement.\n",
    "\n",
    "\n",
    "The `with` statement is obviously hiding some internal details from us. But\n",
    "these internals are in fact quite straightforward, and are known as [_context\n",
    "managers_](https://docs.python.org/3.5/reference/datamodel.html#context-managers).\n",
    "\n",
    "\n",
    "## Anatomy of a context manager\n",
    "\n",
    "\n",
    "A _context manager_ is simply an object which has two specially named methods\n",
    "`__enter__` and `__exit__`. Any object which has these methods can be used in\n",
    "a `with` statement.\n",
    "\n",
    "\n",
    "Let's define a context manager class that we can play with:"
   ]
  },
  {
   "cell_type": "code",
   "execution_count": null,
   "metadata": {},
   "outputs": [],
   "source": [
    "class MyContextManager(object):\n",
    "    def __enter__(self):\n",
    "        print('In enter')\n",
    "    def __exit__(self, *args):\n",
    "        print('In exit')"
   ]
  },
  {
   "cell_type": "markdown",
   "metadata": {},
   "source": [
    "Now, what happens when we use `MyContextManager` in a `with` statement?"
   ]
  },
  {
   "cell_type": "code",
   "execution_count": null,
   "metadata": {},
   "outputs": [],
   "source": [
    "with MyContextManager():\n",
    "    print('In with block')"
   ]
  },
  {
   "cell_type": "markdown",
   "metadata": {},
   "source": [
    "So the `__enter__` method is called before the statements in the `with` block,\n",
    "and the `__exit__` method is called afterwards.\n",
    "\n",
    "\n",
    "Context managers are that simple. What makes them really useful though, is\n",
    "that the `__exit__` method will be called even if the code in the `with` block\n",
    "raises an error. The error will be held, and only raised after the `__exit__`\n",
    "method has finished:"
   ]
  },
  {
   "cell_type": "code",
   "execution_count": null,
   "metadata": {},
   "outputs": [],
   "source": [
    "with MyContextManager():\n",
    "    print('In with block')\n",
    "    assert 1 == 0"
   ]
  },
  {
   "cell_type": "markdown",
   "metadata": {},
   "source": [
    "This means that we can use context managers to perform any sort of clean up or\n",
    "finalisation logic that we always want to have executed.\n",
    "\n",
    "\n",
    "### Why not just use `try ... finally`?\n",
    "\n",
    "\n",
    "Context managers do not provide anything that cannot be accomplished in other\n",
    "ways.  For example, we could accomplish very similar behaviour using\n",
    "[`try` - `finally` logic](https://docs.python.org/3.5/tutorial/errors.html#handling-exceptions) -\n",
    "the statements in the `finally` clause will *always* be executed, whether an\n",
    "error is raised or not:"
   ]
  },
  {
   "cell_type": "code",
   "execution_count": null,
   "metadata": {},
   "outputs": [],
   "source": [
    "print('Before try block')\n",
    "try:\n",
    "    print('In try block')\n",
    "    assert 1 == 0\n",
    "finally:\n",
    "    print('In finally block')"
   ]
  },
  {
   "cell_type": "markdown",
   "metadata": {},
   "source": [
    "But context managers have the advantage that you can implement your clean-up\n",
    "logic in one place, and re-use it as many times as you want.\n",
    "\n",
    "\n",
    "## Uses for context managers\n",
    "\n",
    "\n",
    "We have already talked about how context managers can be used to perform any\n",
    "task which requires some initialistion and/or clean-up logic. As an example,\n",
    "here is a context manager which creates a temporary directory, and then makes\n",
    "sure that it is deleted afterwards."
   ]
  },
  {
   "cell_type": "code",
   "execution_count": null,
   "metadata": {},
   "outputs": [],
   "source": [
    "import os\n",
    "import shutil\n",
    "import tempfile\n",
    "\n",
    "class TempDir(object):\n",
    "\n",
    "    def __enter__(self):\n",
    "\n",
    "        self.tempDir = tempfile.mkdtemp()\n",
    "        self.prevDir = os.getcwd()\n",
    "\n",
    "        print('Changing to temp dir: {}'.format(self.tempDir))\n",
    "        print('Previous directory:   {}'.format(self.prevDir))\n",
    "\n",
    "        os.chdir(self.tempDir)\n",
    "\n",
    "    def __exit__(self, *args):\n",
    "\n",
    "        print('Changing back to:  {}'.format(self.prevDir))\n",
    "        print('Removing temp dir: {}'.format(self.tempDir))\n",
    "\n",
    "        os    .chdir( self.prevDir)\n",
    "        shutil.rmtree(self.tempDir)"
   ]
  },
  {
   "cell_type": "markdown",
   "metadata": {},
   "source": [
    "Now imagine that we have a function which loads data from a file, and performs\n",
    "some calculation on it:"
   ]
  },
  {
   "cell_type": "code",
   "execution_count": null,
   "metadata": {},
   "outputs": [],
   "source": [
    "import numpy as np\n",
    "\n",
    "def complexAlgorithm(infile):\n",
    "    data = np.loadtxt(infile)\n",
    "    return data.mean()"
   ]
  },
  {
   "cell_type": "markdown",
   "metadata": {},
   "source": [
    "We could use the `TempDir` context manager to write a test case for this\n",
    "function,  and not have to worry about cleaning up the test data:"
   ]
  },
  {
   "cell_type": "code",
   "execution_count": null,
   "metadata": {},
   "outputs": [],
   "source": [
    "with TempDir():\n",
    "    print('Testing complex algorithm')\n",
    "\n",
    "    data = np.random.random((100, 100))\n",
    "    np.savetxt('data.txt', data)\n",
    "\n",
    "    result = complexAlgorithm('data.txt')\n",
    "\n",
    "    assert result > 0.1 and result < 0.9\n",
    "    print('Test passed (result: {})'.format(result))"
   ]
  },
  {
   "cell_type": "markdown",
   "metadata": {},
   "source": [
    "### Handling errors in `__exit__`\n",
    "\n",
    "\n",
    "By now you must be [panicking](https://youtu.be/cSU_5MgtDc8?t=9) about why I\n",
    "haven't mentioned those conspicuous `*args` that get passed to the`__exit__`\n",
    "method.  It turns out that a context manager's [`__exit__`\n",
    "method](https://docs.python.org/3.5/reference/datamodel.html#object.__exit__)\n",
    "is always passed three arguments.\n",
    "\n",
    "\n",
    "Let's adjust our `MyContextManager` class a little so we can see what these\n",
    "arguments are for:"
   ]
  },
  {
   "cell_type": "code",
   "execution_count": null,
   "metadata": {},
   "outputs": [],
   "source": [
    "class MyContextManager(object):\n",
    "    def __enter__(self):\n",
    "        print('In enter')\n",
    "\n",
    "    def __exit__(self, arg1, arg2, arg3):\n",
    "        print('In exit')\n",
    "        print('  arg1: ', arg1)\n",
    "        print('  arg2: ', arg2)\n",
    "        print('  arg3: ', arg3)"
   ]
  },
  {
   "cell_type": "markdown",
   "metadata": {},
   "source": [
    "If the code inside the `with` statement does not raise an error, these three\n",
    "arguments will all be `None`."
   ]
  },
  {
   "cell_type": "code",
   "execution_count": null,
   "metadata": {},
   "outputs": [],
   "source": [
    "with MyContextManager():\n",
    "    print('In with block')"
   ]
  },
  {
   "cell_type": "markdown",
   "metadata": {},
   "source": [
    "However, if the code inside the `with` statement raises an error, things look\n",
    "a little different:"
   ]
  },
  {
   "cell_type": "code",
   "execution_count": null,
   "metadata": {},
   "outputs": [],
   "source": [
    "with MyContextManager():\n",
    "    print('In with block')\n",
    "    raise ValueError('Oh no!')"
   ]
  },
  {
   "cell_type": "markdown",
   "metadata": {},
   "source": [
    "So when an error occurs, the `__exit__` method is passed the following:\n",
    "\n",
    "- The [`Exception`](https://docs.python.org/3.5/tutorial/errors.html)\n",
    "  type that was raised.\n",
    "- The `Exception` instance that was raised.\n",
    "- A [`traceback`](https://docs.python.org/3.5/library/traceback.html) object\n",
    "  which can be used to get more information about the exception (e.g. line\n",
    "  number).\n",
    "\n",
    "\n",
    "### Suppressing errors with `__exit__`\n",
    "\n",
    "\n",
    "The `__exit__` method is also capable of suppressing errors - if it returns a\n",
    "value of `True`, then any error that was raised will be ignored. For example,\n",
    "we could write a context manager which ignores any assertion errors, but\n",
    "allows other errors to halt execution as normal:"
   ]
  },
  {
   "cell_type": "code",
   "execution_count": null,
   "metadata": {},
   "outputs": [],
   "source": [
    "class MyContextManager(object):\n",
    "    def __enter__(self):\n",
    "        print('In enter')\n",
    "\n",
    "    def __exit__(self, arg1, arg2, arg3):\n",
    "        print('In exit')\n",
    "        if issubclass(arg1, AssertionError):\n",
    "            return True\n",
    "        print('  arg1: ', arg1)\n",
    "        print('  arg2: ', arg2)\n",
    "        print('  arg3: ', arg3)"
   ]
  },
  {
   "cell_type": "markdown",
   "metadata": {},
   "source": [
    "> Note that if a function or method does not explicitly return a value, its\n",
    "> return value is `None` (which would evaluate to `False` when converted to a\n",
    "> `bool`).  Also note that we are using the built-in\n",
    "> [`issubclass`](https://docs.python.org/3.5/library/functions.html#issubclass)\n",
    "> function, which allows us to test the type of a class.\n",
    "\n",
    "\n",
    "Now, when we use `MyContextManager`, any assertion errors are suppressed,\n",
    "whereas other errors will be raised as normal:"
   ]
  },
  {
   "cell_type": "code",
   "execution_count": null,
   "metadata": {},
   "outputs": [],
   "source": [
    "with MyContextManager():\n",
    "    assert 1 == 0\n",
    "\n",
    "print('Continuing execution!')\n",
    "\n",
    "with MyContextManager():\n",
    "    raise ValueError('Oh no!')"
   ]
  },
  {
   "cell_type": "markdown",
   "metadata": {},
   "source": [
    "## Functions as context managers\n",
    "\n",
    "\n",
    "In fact, there is another way to create context managers in Python. The\n",
    "built-in [`contextlib`\n",
    "module](https://docs.python.org/3.5/library/contextlib.html#contextlib.contextmanager)\n",
    "has a decorator called `@contextmanager`, which allows us to turn __any\n",
    "function__ into a context manager.  The only requirement is that the function\n",
    "must have a `yield` statement<sup>1</sup>. So we could rewrite our `TempDir`\n",
    "class from above as a function:"
   ]
  },
  {
   "cell_type": "code",
   "execution_count": null,
   "metadata": {},
   "outputs": [],
   "source": [
    "import os\n",
    "import shutil\n",
    "import tempfile\n",
    "import contextlib\n",
    "\n",
    "@contextlib.contextmanager\n",
    "def tempdir():\n",
    "    testdir = tempfile.mkdtemp()\n",
    "    prevdir = os.getcwd()\n",
    "    try:\n",
    "\n",
    "        os.chdir(testdir)\n",
    "        yield testdir\n",
    "\n",
    "    finally:\n",
    "        os.chdir(prevdir)\n",
    "        shutil.rmtree(testdir)"
   ]
  },
  {
   "cell_type": "markdown",
   "metadata": {},
   "source": [
    "This new `tempdir` function is used in exactly the same way as our `TempDir`\n",
    "class:"
   ]
  },
  {
   "cell_type": "code",
   "execution_count": null,
   "metadata": {},
   "outputs": [],
   "source": [
    "print('In directory:      {}'.format(os.getcwd()))\n",
    "\n",
    "with tempdir():\n",
    "    print('Now in directory:  {}'.format(os.getcwd()))\n",
    "\n",
    "print('Back in directory: {}'.format(os.getcwd()))"
   ]
  },
  {
   "cell_type": "markdown",
   "metadata": {},
   "source": [
    "> <sup>1</sup> The `yield` keyword is used in _generator functions_.\n",
    "> Functions which are used with the `@contextmanager` decorator must be\n",
    "> generator functions which yield exactly one value.\n",
    "> [Generators](https://www.python.org/dev/peps/pep-0289/) and [generator\n",
    "> functions](https://docs.python.org/3.5/glossary.html#term-generator) are\n",
    "> beyond the scope of this practical.\n",
    "\n",
    "\n",
    "## Methods as context managers\n",
    "\n",
    "\n",
    "Since it is possible to write a function which is a context manager, it is of\n",
    "course also possible to write a _method_ which is a context manager. Let's\n",
    "play with another example. We have a `Notifier` class which can be used to\n",
    "notify interested listeners when an event occurs. Listeners can be registered\n",
    "for notification via the `register` method:"
   ]
  },
  {
   "cell_type": "code",
   "execution_count": null,
   "metadata": {},
   "outputs": [],
   "source": [
    "from collections import OrderedDict\n",
    "\n",
    "class Notifier(object):\n",
    "    def __init__(self):\n",
    "        super().__init__()\n",
    "        self.listeners = OrderedDict()\n",
    "\n",
    "    def register(self, name, func):\n",
    "        self.listeners[name] = func\n",
    "\n",
    "    def notify(self):\n",
    "        for listener in self.listeners.values():\n",
    "            listener()"
   ]
  },
  {
   "cell_type": "markdown",
   "metadata": {},
   "source": [
    "Now, let's build a little plotting application. First of all, we have a `Line`\n",
    "class, which represents a line plot. The `Line` class is a sub-class of\n",
    "`Notifier`, so whenever its display properties (`colour`, `width`, or `name`)\n",
    "change, it emits a notification, and whatever is drawing it can refresh the\n",
    "display:"
   ]
  },
  {
   "cell_type": "code",
   "execution_count": null,
   "metadata": {},
   "outputs": [],
   "source": [
    "import numpy as np\n",
    "\n",
    "class Line(Notifier):\n",
    "\n",
    "    def __init__(self, data):\n",
    "        super().__init__()\n",
    "        self.__data   = data\n",
    "        self.__colour = '#000000'\n",
    "        self.__width  = 1\n",
    "        self.__name   = 'line'\n",
    "\n",
    "    @property\n",
    "    def xdata(self):\n",
    "        return np.arange(len(self.__data))\n",
    "\n",
    "    @property\n",
    "    def ydata(self):\n",
    "        return np.copy(self.__data)\n",
    "\n",
    "    @property\n",
    "    def colour(self):\n",
    "        return self.__colour\n",
    "\n",
    "    @colour.setter\n",
    "    def colour(self, newColour):\n",
    "        self.__colour = newColour\n",
    "        print('Line: colour changed: {}'.format(newColour))\n",
    "        self.notify()\n",
    "\n",
    "    @property\n",
    "    def width(self):\n",
    "        return self.__width\n",
    "\n",
    "    @width.setter\n",
    "    def width(self, newWidth):\n",
    "        self.__width = newWidth\n",
    "        print('Line: width changed: {}'.format(newWidth))\n",
    "        self.notify()\n",
    "\n",
    "    @property\n",
    "    def name(self):\n",
    "        return self.__name\n",
    "\n",
    "    @name.setter\n",
    "    def name(self, newName):\n",
    "        self.__name = newName\n",
    "        print('Line: name changed: {}'.format(newName))\n",
    "        self.notify()"
   ]
  },
  {
   "cell_type": "markdown",
   "metadata": {},
   "source": [
    "Now let's write a `Plotter` class, which can plot one or more `Line`\n",
    "instances:"
   ]
  },
  {
   "cell_type": "code",
   "execution_count": null,
   "metadata": {},
   "outputs": [],
   "source": [
    "import matplotlib.pyplot as plt\n",
    "\n",
    "# this line is only necessary when\n",
    "# working in jupyer notebook/ipython\n",
    "%matplotlib\n",
    "\n",
    "class Plotter(object):\n",
    "    def __init__(self, axis):\n",
    "        self.__axis   = axis\n",
    "        self.__lines  = []\n",
    "\n",
    "    def addData(self, data):\n",
    "        line = Line(data)\n",
    "        self.__lines.append(line)\n",
    "        line.register('plot', self.lineChanged)\n",
    "        self.draw()\n",
    "        return line\n",
    "\n",
    "    def lineChanged(self):\n",
    "        self.draw()\n",
    "\n",
    "    def draw(self):\n",
    "        print('Plotter: redrawing plot')\n",
    "\n",
    "        ax = self.__axis\n",
    "        ax.clear()\n",
    "        for line in self.__lines:\n",
    "            ax.plot(line.xdata,\n",
    "                    line.ydata,\n",
    "                    color=line.colour,\n",
    "                    linewidth=line.width,\n",
    "                    label=line.name)\n",
    "        ax.legend()"
   ]
  },
  {
   "cell_type": "markdown",
   "metadata": {},
   "source": [
    "Let's create a `Plotter` object, and add a couple of lines to it (note that\n",
    "the `matplotlib` plot will open in a separate window):"
   ]
  },
  {
   "cell_type": "code",
   "execution_count": null,
   "metadata": {},
   "outputs": [],
   "source": [
    "fig     = plt.figure()\n",
    "ax      = fig.add_subplot(111)\n",
    "plotter = Plotter(ax)\n",
    "l1      = plotter.addData(np.sin(np.linspace(0, 6 * np.pi, 50)))\n",
    "l2      = plotter.addData(np.cos(np.linspace(0, 6 * np.pi, 50)))\n",
    "\n",
    "fig.show()"
   ]
  },
  {
   "cell_type": "markdown",
   "metadata": {},
   "source": [
    "Now, when we change the properties of our `Line` instances, the plot will be\n",
    "automatically updated:"
   ]
  },
  {
   "cell_type": "code",
   "execution_count": null,
   "metadata": {},
   "outputs": [],
   "source": [
    "l1.colour = '#ff0000'\n",
    "l2.colour = '#00ff00'\n",
    "l1.width  = 2\n",
    "l2.width  = 2\n",
    "l1.name   = 'sine'\n",
    "l2.name   = 'cosine'"
   ]
  },
  {
   "cell_type": "markdown",
   "metadata": {},
   "source": [
    "Pretty cool! However, this seems very inefficient - every time we change the\n",
    "properties of a `Line`, the `Plotter` will refresh the plot. If we were\n",
    "plotting large amounts of data, this would be unacceptable, as plotting would\n",
    "simply take too long.\n",
    "\n",
    "\n",
    "Wouldn't it be nice if we were able to perform batch-updates of `Line`\n",
    "properties, and only refresh the plot when we are done? Let's add an extra\n",
    "method to the `Plotter` class:"
   ]
  },
  {
   "cell_type": "code",
   "execution_count": null,
   "metadata": {},
   "outputs": [],
   "source": [
    "import contextlib\n",
    "\n",
    "class Plotter(object):\n",
    "    def __init__(self, axis):\n",
    "        self.__axis        = axis\n",
    "        self.__lines       = []\n",
    "        self.__holdUpdates = False\n",
    "\n",
    "    def addData(self, data):\n",
    "        line = Line(data)\n",
    "        self.__lines.append(line)\n",
    "        line.register('plot', self.lineChanged)\n",
    "\n",
    "        if not self.__holdUpdates:\n",
    "            self.draw()\n",
    "        return line\n",
    "\n",
    "    def lineChanged(self):\n",
    "        if not self.__holdUpdates:\n",
    "            self.draw()\n",
    "\n",
    "    def draw(self):\n",
    "        print('Plotter: redrawing plot')\n",
    "\n",
    "        ax = self.__axis\n",
    "        ax.clear()\n",
    "        for line in self.__lines:\n",
    "            ax.plot(line.xdata,\n",
    "                    line.ydata,\n",
    "                    color=line.colour,\n",
    "                    linewidth=line.width,\n",
    "                    label=line.name)\n",
    "        ax.legend()\n",
    "\n",
    "    @contextlib.contextmanager\n",
    "    def holdUpdates(self):\n",
    "        self.__holdUpdates = True\n",
    "        try:\n",
    "            yield\n",
    "            self.draw()\n",
    "        finally:\n",
    "            self.__holdUpdates = False"
   ]
  },
  {
   "cell_type": "markdown",
   "metadata": {},
   "source": [
    "This new `holdUpdates` method allows us to temporarily suppress notifications\n",
    "from all `Line` instances. So now, we can update many `Line` properties\n",
    "without performing any redundant redraws:"
   ]
  },
  {
   "cell_type": "code",
   "execution_count": null,
   "metadata": {},
   "outputs": [],
   "source": [
    "fig     = plt.figure()\n",
    "ax      = fig.add_subplot(111)\n",
    "plotter = Plotter(ax)\n",
    "\n",
    "plt.show()\n",
    "\n",
    "with plotter.holdUpdates():\n",
    "    l1        = plotter.addData(np.sin(np.linspace(0, 6 * np.pi, 50)))\n",
    "    l2        = plotter.addData(np.cos(np.linspace(0, 6 * np.pi, 50)))\n",
    "    l1.colour = '#0000ff'\n",
    "    l2.colour = '#ffff00'\n",
    "    l1.width  = 1\n",
    "    l2.width  = 1\n",
    "    l1.name   = '$sin(x)$'\n",
    "    l2.name   = '$cos(x)$'"
   ]
  },
  {
   "cell_type": "markdown",
   "metadata": {},
   "source": [
    "## Nesting context managers\n",
    "\n",
    "\n",
    "\n",
    "\n",
    "## Useful references\n",
    "\n",
    "\n",
    "* [Context manager classes](https://docs.python.org/3.5/reference/datamodel.html#context-managers)\n",
    "* The [`contextlib` module](https://docs.python.org/3.5/library/contextlib.html)"
   ]
  }
 ],
 "metadata": {},
 "nbformat": 4,
 "nbformat_minor": 2
}
