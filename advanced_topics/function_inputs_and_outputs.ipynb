{
 "cells": [
  {
   "cell_type": "markdown",
   "metadata": {},
   "source": [
    "# Function inputs and outputs\n",
    "\n",
    "\n",
    "In Python, arguments to a function can be specified in two different ways - by\n",
    "using _positional_ arguments, or by using _keyword_ arguments.\n",
    "\n",
    "\n",
    "## Positional arguments\n",
    "\n",
    "\n",
    "Let's say we have a function that looks like this"
   ]
  },
  {
   "cell_type": "code",
   "execution_count": null,
   "metadata": {},
   "outputs": [],
   "source": [
    "def myfunc(a, b, c):\n",
    "   print('First argument: ', a)\n",
    "   print('Second argument:', b)\n",
    "   print('Third argument: ', c)"
   ]
  },
  {
   "cell_type": "markdown",
   "metadata": {},
   "source": [
    "If we call this function like so:"
   ]
  },
  {
   "cell_type": "code",
   "execution_count": null,
   "metadata": {},
   "outputs": [],
   "source": [
    "myfunc(1, 2, 3)"
   ]
  },
  {
   "cell_type": "markdown",
   "metadata": {},
   "source": [
    "The values `1`, `2` and `3` get assigned to arguments `a`, `b`, and `c`\n",
    "respectively, based on the position in which they are passed.\n",
    "\n",
    "\n",
    "Python allows us to pass positional arguments into a function from a sequence,\n",
    "using the star (`*`) operator. So we could store our arguments in a list or\n",
    "tuple, and then pass the list straight in:"
   ]
  },
  {
   "cell_type": "code",
   "execution_count": null,
   "metadata": {},
   "outputs": [],
   "source": [
    "args = [3, 4, 5]\n",
    "myfunc(*args)"
   ]
  },
  {
   "cell_type": "markdown",
   "metadata": {},
   "source": [
    "You can think of the star operator as _unpacking_ the contents of the\n",
    "sequence.\n",
    "\n",
    "\n",
    "## Keyword arguments\n",
    "\n",
    "\n",
    "Using keyword arguments allows us to pass arguments to a function in any order\n",
    "we like.  We could just as easily call our `myfunc` function like so, and get\n",
    "the same result that we did earlier when using positional arguments:"
   ]
  },
  {
   "cell_type": "code",
   "execution_count": null,
   "metadata": {},
   "outputs": [],
   "source": [
    "myfunc(c=3, b=2, a=1)"
   ]
  },
  {
   "cell_type": "markdown",
   "metadata": {},
   "source": [
    "Python has another operator - the double-star (`**`), which will unpack\n",
    "keyword arguments from a `dict`. For example:"
   ]
  },
  {
   "cell_type": "code",
   "execution_count": null,
   "metadata": {},
   "outputs": [],
   "source": [
    "kwargs = {'a' : 4, 'b' : 5, 'c' : 6}\n",
    "myfunc(**kwargs)"
   ]
  },
  {
   "cell_type": "markdown",
   "metadata": {},
   "source": [
    "## Combining positional and keyword arguments\n",
    "\n",
    "\n",
    "In fact, we can use both of these techniques at once, like so:"
   ]
  },
  {
   "cell_type": "code",
   "execution_count": null,
   "metadata": {},
   "outputs": [],
   "source": [
    "args   = (100, 200)\n",
    "kwargs = {'c' : 300}\n",
    "\n",
    "myfunc(*args, **kwargs)"
   ]
  },
  {
   "cell_type": "markdown",
   "metadata": {},
   "source": [
    "## Default argument values\n",
    "\n",
    "\n",
    "Function arguments can be given default values, like so:"
   ]
  },
  {
   "cell_type": "code",
   "execution_count": null,
   "metadata": {},
   "outputs": [],
   "source": [
    "def myfunc(a=1, b=2, c=3):\n",
    "    print('First argument: ', a)\n",
    "    print('Second argument:', b)\n",
    "    print('Third argument: ', c)"
   ]
  },
  {
   "cell_type": "markdown",
   "metadata": {},
   "source": [
    "Now we can call `myfunc`, only passing the arguments that we need to. The\n",
    "arguments which are unspecified in the function call will be assigned their\n",
    "default value:"
   ]
  },
  {
   "cell_type": "code",
   "execution_count": null,
   "metadata": {},
   "outputs": [],
   "source": [
    "myfunc()\n",
    "myfunc(10)\n",
    "myfunc(10, b=30)\n",
    "myfunc(c=300)"
   ]
  },
  {
   "cell_type": "markdown",
   "metadata": {},
   "source": [
    "__WARNING:__ _Never_ define a function with a mutable default value, such as a\n",
    "`list`, `dict` or other non-primitive type. Let's see what happens when we do:"
   ]
  },
  {
   "cell_type": "code",
   "execution_count": null,
   "metadata": {},
   "outputs": [],
   "source": [
    "def badfunc(a=[]):\n",
    "    a.append('end of sequence')\n",
    "    output = ', '.join([str(elem) for elem in a])\n",
    "    print(output)"
   ]
  },
  {
   "cell_type": "markdown",
   "metadata": {},
   "source": [
    "With this function, all is well and good if we pass in our own value for `a`:"
   ]
  },
  {
   "cell_type": "code",
   "execution_count": null,
   "metadata": {},
   "outputs": [],
   "source": [
    "badfunc([1, 2, 3, 4])\n",
    "badfunc([2, 4, 6])"
   ]
  },
  {
   "cell_type": "markdown",
   "metadata": {},
   "source": [
    "But what happens when we let `badfunc` use the default value for `a`?"
   ]
  },
  {
   "cell_type": "code",
   "execution_count": null,
   "metadata": {},
   "outputs": [],
   "source": [
    "badfunc()\n",
    "badfunc()\n",
    "badfunc()"
   ]
  },
  {
   "cell_type": "markdown",
   "metadata": {},
   "source": [
    "This happens because default argument values are created when the function is\n",
    "defined, and will persist for the duration of your program. So in this\n",
    "example, the default value for `a`, a Python `list`, gets created when\n",
    "`badfunc` is defined, and hangs around for the lifetime of the `badfunc`\n",
    "function!\n",
    "\n",
    "\n",
    "## Variable numbers of arguments - `args` and `kwargs`\n",
    "\n",
    "\n",
    "The `*` and `**` operators can also be used in function definitions - this\n",
    "indicates that a function may accept a variable number of arguments.\n",
    "\n",
    "\n",
    "Let's redefine `myfunc` to accept any number of positional arguments - here,\n",
    "all positional arguments will be passed into `myfunc` as a tuple called\n",
    "`args`:"
   ]
  },
  {
   "cell_type": "code",
   "execution_count": null,
   "metadata": {},
   "outputs": [],
   "source": [
    "def myfunc(*args):\n",
    "    print('myfunc({})'.format(args))\n",
    "    print('  Number of arguments: {}'.format(len(args)))\n",
    "    for i, arg in enumerate(args):\n",
    "        print('  Argument {:2d}: {}'.format(i, arg))\n",
    "\n",
    "myfunc()\n",
    "myfunc(1)\n",
    "myfunc(1, 2, 3)\n",
    "myfunc(1, 'a', [3, 4])"
   ]
  },
  {
   "cell_type": "markdown",
   "metadata": {},
   "source": [
    "Similarly, we can define a function to accept any number of keyword\n",
    "arguments. In this case, the keyword arguments will be packed into a `dict`\n",
    "called `kwargs`:"
   ]
  },
  {
   "cell_type": "code",
   "execution_count": null,
   "metadata": {},
   "outputs": [],
   "source": [
    "def myfunc(**kwargs):\n",
    "    print('myfunc({})'.format(kwargs))\n",
    "    for k, v in kwargs.items():\n",
    "        print('  Argument {} = {}'.format(k, v))\n",
    "\n",
    "myfunc()\n",
    "myfunc(a=1, b=2)\n",
    "myfunc(a='abc', foo=123)"
   ]
  },
  {
   "cell_type": "markdown",
   "metadata": {},
   "source": [
    "This is a useful technique in many circumstances. For example, if you are\n",
    "writing a function which calls another function that takes many arguments, you\n",
    "can use ``**kwargs`` to pass-through arguments to the second function.  As an\n",
    "example, let's say we have functions `flirt` and `fnirt`, which respectively\n",
    "perform linear and non-linear registration:"
   ]
  },
  {
   "cell_type": "code",
   "execution_count": null,
   "metadata": {},
   "outputs": [],
   "source": [
    "def flirt(infile,\n",
    "          ref,\n",
    "          outfile=None,\n",
    "          init=None,\n",
    "          omat=None,\n",
    "          dof=12):\n",
    "    # TODO get MJ to fill this bit in\n",
    "    pass\n",
    "\n",
    "def fnirt(infile,\n",
    "          ref,\n",
    "          outfile=None,\n",
    "          aff=None,\n",
    "          interp='nn',\n",
    "          refmask=None,\n",
    "          minmet='lg',\n",
    "          subsamp=4):\n",
    "    # TODO get Jesper to fill this bit in\n",
    "    pass"
   ]
  },
  {
   "cell_type": "markdown",
   "metadata": {},
   "source": [
    "We want to write our own registration function which uses the `flirt` and\n",
    "`fnirt` functions, while also allowing the `fnirt` parameters to be\n",
    "customised. We can use `**kwargs` to do this:"
   ]
  },
  {
   "cell_type": "code",
   "execution_count": null,
   "metadata": {},
   "outputs": [],
   "source": [
    "def do_nonlinear_reg(infile, ref, outfile, **kwargs):\n",
    "    \"\"\"Aligns infile to ref using non-linear registration. All keyword\n",
    "    arguments are passed through to the fnirt function.\n",
    "    \"\"\"\n",
    "\n",
    "    affmat = '/tmp/aff.mat'\n",
    "\n",
    "    # calculate a rough initial linear alignemnt\n",
    "    flirt(infile, ref, omat=affmat)\n",
    "\n",
    "    fnirt(infile, ref, outfile, aff=affmat, **kwargs)"
   ]
  }
 ],
 "metadata": {},
 "nbformat": 4,
 "nbformat_minor": 2
}
