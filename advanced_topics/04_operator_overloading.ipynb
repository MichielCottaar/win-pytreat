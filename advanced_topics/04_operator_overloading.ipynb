{
 "cells": [
  {
   "cell_type": "markdown",
   "metadata": {},
   "source": [
    "# Operator overloading\n",
    "\n",
    "\n",
    "> This practical assumes you are familiar with the basics of object-oriented\n",
    "> programming in Python.\n",
    "\n",
    "\n",
    "Operator overloading, in an object-oriented programming language, is the\n",
    "process of customising the behaviour of _operators_ (e.g. `+`, `*`, `/` and\n",
    "`-`) on user-defined types. This practical aims to show you that operator\n",
    "overloading is __very__ easy to do in Python.\n",
    "\n",
    "\n",
    "This practical gives a brief overview of the operators which you may be most\n",
    "interested in implementing. However, there are many operators (and other\n",
    "special methods) which you can support in your own classes - the [official\n",
    "documentation](https://docs.python.org/3.5/reference/datamodel.html#basic-customization)\n",
    "is the best reference if you are interested in learning more.\n",
    "\n",
    "\n",
    "* [Overview](#overview)\n",
    "* [Arithmetic operators](#arithmetic-operators)\n",
    "* [Equality and comparison operators](#equality-and-comparison-operators)\n",
    "* [The indexing operator `[]`](#the-indexing-operator)\n",
    "* [The call operator `()`](#the-call-operator)\n",
    "* [The dot operator `.`](#the-dot-operator)\n",
    "\n",
    "\n",
    "<a class=\"anchor\" id=\"overview\"></a>\n",
    "## Overview\n",
    "\n",
    "\n",
    "In Python, when you add two numbers together:"
   ]
  },
  {
   "cell_type": "code",
   "execution_count": null,
   "metadata": {},
   "outputs": [],
   "source": [
    "a = 5\n",
    "b = 10\n",
    "r = a + b\n",
    "print(r)"
   ]
  },
  {
   "cell_type": "markdown",
   "metadata": {},
   "source": [
    "What actually goes on behind the scenes is this:"
   ]
  },
  {
   "cell_type": "code",
   "execution_count": null,
   "metadata": {},
   "outputs": [],
   "source": [
    "r = a.__add__(b)\n",
    "print(r)"
   ]
  },
  {
   "cell_type": "markdown",
   "metadata": {},
   "source": [
    "In other words, whenever you use the `+` operator on two variables (the\n",
    "operands to the `+` operator), the Python interpreter calls the `__add__`\n",
    "method of the first operand (`a`), and passes the second operand (`b`) as an\n",
    "argument.\n",
    "\n",
    "\n",
    "So it is very easy to use the `+` operator with our own classes - all we have\n",
    "to do is implement a method called `__add__`.\n",
    "\n",
    "\n",
    "<a class=\"anchor\" id=\"arithmetic-operators\"></a>\n",
    "## Arithmetic operators\n",
    "\n",
    "\n",
    "Let's play with an example - a class which represents a 2D vector:"
   ]
  },
  {
   "cell_type": "code",
   "execution_count": null,
   "metadata": {},
   "outputs": [],
   "source": [
    "class Vector2D(object):\n",
    "    def __init__(self, x, y):\n",
    "        self.x = x\n",
    "        self.y = y\n",
    "\n",
    "    def __str__(self):\n",
    "        return 'Vector2D({}, {})'.format(self.x, self.y)"
   ]
  },
  {
   "cell_type": "markdown",
   "metadata": {},
   "source": [
    "> Note that we have implemented the special `__str__` method, which allows our\n",
    "> `Vector2D` instances to be converted into strings.\n",
    "\n",
    "\n",
    "If we try to use the `+` operator on this class, we are bound to get an error:"
   ]
  },
  {
   "cell_type": "code",
   "execution_count": null,
   "metadata": {},
   "outputs": [],
   "source": [
    "v1 = Vector2D(2, 3)\n",
    "v2 = Vector2D(4, 5)\n",
    "print(v1 + v2)"
   ]
  },
  {
   "cell_type": "markdown",
   "metadata": {},
   "source": [
    "But all we need to do to support the `+` operator is to implement a method\n",
    "called `__add__`:"
   ]
  },
  {
   "cell_type": "code",
   "execution_count": null,
   "metadata": {},
   "outputs": [],
   "source": [
    "class Vector2D(object):\n",
    "    def __init__(self, x, y):\n",
    "        self.x = x\n",
    "        self.y = y\n",
    "\n",
    "    def __str__(self):\n",
    "        return 'Vector2D({}, {})'.format(self.x, self.y)\n",
    "\n",
    "    def __add__(self, other):\n",
    "        return Vector2D(self.x + other.x,\n",
    "                        self.y + other.y)"
   ]
  },
  {
   "cell_type": "markdown",
   "metadata": {},
   "source": [
    "And now we can use `+` on `Vector2D` objects - it's that easy:"
   ]
  },
  {
   "cell_type": "code",
   "execution_count": null,
   "metadata": {},
   "outputs": [],
   "source": [
    "v1 = Vector2D(2, 3)\n",
    "v2 = Vector2D(4, 5)\n",
    "print('{} + {} = {}'.format(v1, v2, v1 + v2))"
   ]
  },
  {
   "cell_type": "markdown",
   "metadata": {},
   "source": [
    "Our `__add__` method creates and returns a new `Vector2D` which contains the\n",
    "sum of the `x` and `y` components of the `Vector2D` on which it is called, and\n",
    "the `Vector2D` which is passed in.  We could also make the `__add__` method\n",
    "work with scalars, by extending its definition a bit:"
   ]
  },
  {
   "cell_type": "code",
   "execution_count": null,
   "metadata": {},
   "outputs": [],
   "source": [
    "class Vector2D(object):\n",
    "    def __init__(self, x, y):\n",
    "        self.x = x\n",
    "        self.y = y\n",
    "\n",
    "    def __add__(self, other):\n",
    "        if isinstance(other, Vector2D):\n",
    "            return Vector2D(self.x + other.x,\n",
    "                            self.y + other.y)\n",
    "        else:\n",
    "            return Vector2D(self.x + other, self.y + other)\n",
    "\n",
    "    def __str__(self):\n",
    "        return 'Vector2D({}, {})'.format(self.x, self.y)"
   ]
  },
  {
   "cell_type": "markdown",
   "metadata": {},
   "source": [
    "So now we can add both `Vector2D` instances and scalars numbers together:"
   ]
  },
  {
   "cell_type": "code",
   "execution_count": null,
   "metadata": {},
   "outputs": [],
   "source": [
    "v1 = Vector2D(2, 3)\n",
    "v2 = Vector2D(4, 5)\n",
    "n  = 6\n",
    "\n",
    "print('{} + {} = {}'.format(v1, v2, v1 + v2))\n",
    "print('{} + {} = {}'.format(v1, n,  v1 + n))"
   ]
  },
  {
   "cell_type": "markdown",
   "metadata": {},
   "source": [
    "Other numeric and logical operators can be supported by implementing the\n",
    "appropriate method, for example:\n",
    "\n",
    "- Multiplication (`*`): `__mul__`\n",
    "- Division (`/`): `__div__`\n",
    "- Negation (`-`): `__neg__`\n",
    "- In-place addition (`+=`): `__iadd__`\n",
    "- Exclusive or (`^`): `__xor__`\n",
    "\n",
    "\n",
    "When an operator is applied to operands of different types, a set of fall-back\n",
    "rules are followed depending on the set of methods implemented on the\n",
    "operands. For example, in the expression `a + b`, if `a.__add__` is not\n",
    "implemented, but but `b.__radd__` is implemented, then the latter will be\n",
    "called.  Take a look at the [official\n",
    "documentation](https://docs.python.org/3.5/reference/datamodel.html#emulating-numeric-types)\n",
    "for further details, including a full list of the arithmetic and logical\n",
    "operators that your classes can support.\n",
    "\n",
    "\n",
    "<a class=\"anchor\" id=\"equality-and-comparison-operators\"></a>\n",
    "## Equality and comparison operators\n",
    "\n",
    "\n",
    "Adding support for equality (`==`, `!=`) and comparison (e.g. `>=`) operators\n",
    "is just as easy. Imagine that we have a class called `Label`, which represents\n",
    "a label in a lookup table. Our `Label` has an integer label, a name, and an\n",
    "RGB colour:"
   ]
  },
  {
   "cell_type": "code",
   "execution_count": null,
   "metadata": {},
   "outputs": [],
   "source": [
    "class Label(object):\n",
    "    def __init__(self, label, name, colour):\n",
    "        self.label  = label\n",
    "        self.name   = name\n",
    "        self.colour = colour"
   ]
  },
  {
   "cell_type": "markdown",
   "metadata": {},
   "source": [
    "In order to ensure that a list of `Label` objects is ordered by their label\n",
    "values, we can implement a set of functions, so that `Label` classes can be\n",
    "compared using the standard comparison operators:"
   ]
  },
  {
   "cell_type": "code",
   "execution_count": null,
   "metadata": {},
   "outputs": [],
   "source": [
    "import functools\n",
    "\n",
    "# Don't worry about this statement\n",
    "# just yet - it is explained below\n",
    "@functools.total_ordering\n",
    "\n",
    "class Label(object):\n",
    "    def __init__(self, label, name, colour):\n",
    "        self.label  = label\n",
    "        self.name   = name\n",
    "        self.colour = colour\n",
    "\n",
    "    def __str__(self):\n",
    "        rgb = ''.join(['{:02x}'.format(c) for c in self.colour])\n",
    "        return 'Label({}, {}, #{})'.format(self.label, self.name, rgb)\n",
    "\n",
    "    def __repr__(self):\n",
    "        return str(self)\n",
    "\n",
    "    # implement Label == Label\n",
    "    def __eq__(self, other):\n",
    "        return self.label == other.label\n",
    "\n",
    "    # implement Label < Label\n",
    "    def __lt__(self, other):\n",
    "        return self.label < other.label"
   ]
  },
  {
   "cell_type": "markdown",
   "metadata": {},
   "source": [
    "> We also added `__str__` and `__repr__` methods to the `Label` class so that\n",
    "> `Label` instances will be printed nicely.\n",
    "\n",
    "\n",
    "Now we can compare and sort our `Label` instances:"
   ]
  },
  {
   "cell_type": "code",
   "execution_count": null,
   "metadata": {},
   "outputs": [],
   "source": [
    "l1 = Label(1, 'Parietal',  (255,   0,   0))\n",
    "l2 = Label(2, 'Occipital', (  0, 255,   0))\n",
    "l3 = Label(3, 'Temporal',  (  0,   0, 255))\n",
    "\n",
    "print('{} >  {}: {}'.format(l1, l2, l1  > l2))\n",
    "print('{} <  {}: {}'.format(l1, l3, l1 <= l3))\n",
    "print('{} != {}: {}'.format(l2, l3, l2 != l3))\n",
    "print(sorted((l3, l1, l2)))"
   ]
  },
  {
   "cell_type": "markdown",
   "metadata": {},
   "source": [
    "The\n",
    "[`@functools.total_ordering`](https://docs.python.org/3.5/library/functools.html#functools.total_ordering)\n",
    "is a convenience\n",
    "[decorator](https://docs.python.org/3.5/glossary.html#term-decorator) which,\n",
    "given a class that implements equality and a single comparison function\n",
    "(`__lt__` in the above code), will \"fill in\" the remainder of the comparison\n",
    "operators.  If you need very specific or complicated behaviour, then you can\n",
    "provide methods for _all_ of the comparison operators, e.g. `__gt__` for `>`,\n",
    "`__ge__` for `>=`, etc.).\n",
    "\n",
    "\n",
    "> Decorators are introduced in another practical.\n",
    "\n",
    "\n",
    "But if you just want the operators to work in the conventional manner, you can\n",
    "simply use the `@functools.total_ordering` decorator, and provide `__eq__`,\n",
    "and just one of `__lt__`, `__le__`, `__gt__` or `__ge__`.\n",
    "\n",
    "\n",
    "Refer to the [official\n",
    "documentation](https://docs.python.org/3.5/reference/datamodel.html#object.__lt__)\n",
    "for all of the details on supporting comparison operators.\n",
    "\n",
    "\n",
    "> You may see the `__cmp__` method in older code bases - this provides a\n",
    "> C-style comparison function which returns `<0`, `0`, or `>0` based on\n",
    "> comparing two items. This has been superseded by the rich comparison\n",
    "> operators introduced here, and is no longer supported in Python 3.\n",
    "\n",
    "\n",
    "<a class=\"anchor\" id=\"the-indexing-operator\"></a>\n",
    "## The indexing operator `[]`\n",
    "\n",
    "\n",
    "The indexing operator (`[]`) is generally used by \"container\" types, such as\n",
    "the built-in `list` and `dict` classes.\n",
    "\n",
    "\n",
    "At its essence, there are only three types of behaviours that are possible\n",
    "with the `[]` operator. All that is needed to support them are to implement\n",
    "three special methods in your class, regardless of whether your class will be\n",
    "indexed by sequential integers (like a `list`) or by\n",
    "[hashable](https://docs.python.org/3.5/glossary.html#term-hashable) values\n",
    "(like a `dict`):\n",
    "\n",
    "\n",
    "- __Retrieval__ is performed by the `__getitem__` method\n",
    "- __Assignment__ is performed by the `__setitem__` method\n",
    "- __Deletion__ is performed by the `__delitem__` method\n",
    "\n",
    "\n",
    "Note that, if you implement these methods in your own class, there is no\n",
    "requirement for them to actually provide any form of data storage or\n",
    "retrieval. However if you don't, you will probably confuse users of your code\n",
    "who are used to how the `list` and `dict` types work. Whenever you deviate\n",
    "from conventional behaviour, make sure you explain it well in your\n",
    "documentation!\n",
    "\n",
    "\n",
    "The following contrived example demonstrates all three behaviours:"
   ]
  },
  {
   "cell_type": "code",
   "execution_count": null,
   "metadata": {},
   "outputs": [],
   "source": [
    "class TwoTimes(object):\n",
    "\n",
    "    def __init__(self):\n",
    "        self.__deleted  = set()\n",
    "        self.__assigned = {}\n",
    "\n",
    "    def __getitem__(self, key):\n",
    "        if key in self.__deleted:\n",
    "            raise KeyError('{} has been deleted!'.format(key))\n",
    "        elif key in self.__assigned:\n",
    "            return self.__assigned[key]\n",
    "        else:\n",
    "            return key * 2\n",
    "\n",
    "    def __setitem__(self, key, value):\n",
    "        self.__assigned[key] = value\n",
    "\n",
    "    def __delitem__(self, key):\n",
    "        self.__deleted.add(key)"
   ]
  },
  {
   "cell_type": "markdown",
   "metadata": {},
   "source": [
    "Guess what happens whenever we index a `TwoTimes` object:"
   ]
  },
  {
   "cell_type": "code",
   "execution_count": null,
   "metadata": {},
   "outputs": [],
   "source": [
    "tt = TwoTimes()\n",
    "print('TwoTimes[{}] = {}'.format(2,     tt[2]))\n",
    "print('TwoTimes[{}] = {}'.format(6,     tt[6]))\n",
    "print('TwoTimes[{}] = {}'.format('abc', tt['abc']))"
   ]
  },
  {
   "cell_type": "markdown",
   "metadata": {},
   "source": [
    "The `TwoTimes` class allows us to override the value for a specific key:"
   ]
  },
  {
   "cell_type": "code",
   "execution_count": null,
   "metadata": {},
   "outputs": [],
   "source": [
    "print(tt[4])\n",
    "tt[4] = 'this is not 4 * 4'\n",
    "print(tt[4])"
   ]
  },
  {
   "cell_type": "markdown",
   "metadata": {},
   "source": [
    "And we can also \"delete\" keys:"
   ]
  },
  {
   "cell_type": "code",
   "execution_count": null,
   "metadata": {},
   "outputs": [],
   "source": [
    "print(tt['12345'])\n",
    "del tt['12345']\n",
    "\n",
    "# this is going to raise an error\n",
    "print(tt['12345'])"
   ]
  },
  {
   "cell_type": "markdown",
   "metadata": {},
   "source": [
    "If you wish to support the Python `start:stop:step` [slice\n",
    "notation](https://docs.python.org/3.5/library/functions.html#slice), you\n",
    "simply need to write your `__getitem__` and `__setitem__` methods so that they\n",
    "can detect `slice` objects:"
   ]
  },
  {
   "cell_type": "code",
   "execution_count": null,
   "metadata": {},
   "outputs": [],
   "source": [
    "class TwoTimes(object):\n",
    "\n",
    "    def __init__(self, max):\n",
    "        self.__max = max\n",
    "\n",
    "    def __getitem__(self, key):\n",
    "        if isinstance(key, slice):\n",
    "            start = key.start or 0\n",
    "            stop  = key.stop  or self.__max\n",
    "            step  = key.step  or 1\n",
    "        else:\n",
    "            start = key\n",
    "            stop  = key + 1\n",
    "            step  = 1\n",
    "\n",
    "        return [i * 2 for i in range(start, stop, step)]"
   ]
  },
  {
   "cell_type": "markdown",
   "metadata": {},
   "source": [
    "Now we can \"slice\" a `TwoTimes` instance:"
   ]
  },
  {
   "cell_type": "code",
   "execution_count": null,
   "metadata": {},
   "outputs": [],
   "source": [
    "tt = TwoTimes(10)\n",
    "\n",
    "print(tt[5])\n",
    "print(tt[3:7])\n",
    "print(tt[::2])"
   ]
  },
  {
   "cell_type": "markdown",
   "metadata": {},
   "source": [
    "> It is possible to sub-class the built-in `list` and `dict` classes if you\n",
    "> wish to extend their functionality in some way. However, if you are writing\n",
    "> a class that should mimic the one of the `list` or `dict` classes, but work\n",
    "> in a different way internally (e.g. a `dict`-like object which uses a\n",
    "> different hashing algorithm), the `Sequence` and `MutableMapping` classes\n",
    "> are [a better choice](https://stackoverflow.com/a/7148602) - you can find\n",
    "> them in the\n",
    "> [`collections.abc`](https://docs.python.org/3.5/library/collections.abc.html)\n",
    "> module.\n",
    "\n",
    "\n",
    "<a class=\"anchor\" id=\"the-call-operator\"></a>\n",
    "## The call operator `()`\n",
    "\n",
    "\n",
    "Remember how everything in Python is an object, even functions? When you call\n",
    "a function, a method called `__call__` is called on the function object. We can\n",
    "implement the `__call__` method on our own class, which will allow us to \"call\"\n",
    "objects as if they are functions.\n",
    "\n",
    "\n",
    "For example, the `TimedFunction` class allows us to calculate the execution\n",
    "time of any function:"
   ]
  },
  {
   "cell_type": "code",
   "execution_count": null,
   "metadata": {},
   "outputs": [],
   "source": [
    "import time\n",
    "\n",
    "class TimedFunction(object):\n",
    "\n",
    "    def __init__(self, func):\n",
    "        self.func = func\n",
    "\n",
    "    def __call__(self, *args, **kwargs):\n",
    "        print('Timing {}...'.format(self.func.__name__))\n",
    "\n",
    "        start  = time.time()\n",
    "        retval = self.func(*args, **kwargs)\n",
    "        end    = time.time()\n",
    "\n",
    "        print('Elapsed time: {:0.2f} seconds'.format(end - start))\n",
    "        return retval"
   ]
  },
  {
   "cell_type": "markdown",
   "metadata": {},
   "source": [
    "Let's see how the `TimedFunction` behaves:"
   ]
  },
  {
   "cell_type": "code",
   "execution_count": null,
   "metadata": {},
   "outputs": [],
   "source": [
    "import numpy        as np\n",
    "import numpy.linalg as npla\n",
    "\n",
    "def inverse(data):\n",
    "    return npla.inv(data)\n",
    "\n",
    "tf   = TimedFunction(inverse)\n",
    "data = np.random.random((5000, 5000))\n",
    "\n",
    "# Wait a few seconds after\n",
    "# running this code block!\n",
    "inv = tf(data)"
   ]
  },
  {
   "cell_type": "markdown",
   "metadata": {},
   "source": [
    "> The `TimedFunction` class is conceptually very similar to a\n",
    "> [decorator](https://docs.python.org/3.5/glossary.html#term-decorator) -\n",
    "> decorators are covered in another practical.\n",
    "\n",
    "\n",
    "<a class=\"anchor\" id=\"the-dot-operator\"></a>\n",
    "## The dot operator `.`\n",
    "\n",
    "\n",
    "Python allows us to override the `.` (dot) operator which is used to access\n",
    "the attributes and methods of an object.  This is very powerful, but is also\n",
    "quite a niche feature, and it is easy to trip yourself up, so if you wish to\n",
    "use this in your own project, make sure that you carefully read (and\n",
    "understand) [the\n",
    "documentation](https://docs.python.org/3.5/reference/datamodel.html#customizing-attribute-access),\n",
    "and test your code comprehensively!\n",
    "\n",
    "\n",
    "For this example, we need a little background information.  OpenGL includes\n",
    "the native data types `vec2`, `vec3`, and `vec4`, which can be used to\n",
    "represent 2, 3, or 4 component vectors respectively. These data types have a\n",
    "neat feature called [_swizzling_][glslref], which allows you to access any\n",
    "component (`x`,`y`, `z`, `w` for vectors, or `r`, `g`, `b`, `a` for colours)\n",
    "in any order, with a syntax similar to attribute access in Python.\n",
    "\n",
    "\n",
    "[glslref]: https://www.khronos.org/opengl/wiki/Data_Type_(GLSL)#Swizzling\n",
    "\n",
    "\n",
    "So here is an example which implements this swizzle-style attribute access on\n",
    "a class called `Vector`, in which we have customised the behaviour of the `.`\n",
    "operator:"
   ]
  },
  {
   "cell_type": "code",
   "execution_count": null,
   "metadata": {},
   "outputs": [],
   "source": [
    "class Vector(object):\n",
    "    def __init__(self, xyz):\n",
    "        self.__xyz = list(xyz)\n",
    "\n",
    "    def __str__(self):\n",
    "        return 'Vector({})'.format(self.__xyz)\n",
    "\n",
    "    def __getattr__(self, key):\n",
    "\n",
    "        # Swizzling behaviour only occurs when\n",
    "        # the attribute name is entirely comprised\n",
    "        # of 'x', 'y', and 'z'.\n",
    "        if not all([c in 'xyz' for c in key]):\n",
    "            raise AttributeError(key)\n",
    "\n",
    "        key = ['xyz'.index(c) for c in key]\n",
    "        return [self.__xyz[c] for c in key]\n",
    "\n",
    "    def __setattr__(self, key, value):\n",
    "\n",
    "        # Restrict swizzling behaviour as above\n",
    "        if not all([c in 'xyz' for c in key]):\n",
    "            return super().__setattr__(key, value)\n",
    "\n",
    "        if len(key) == 1:\n",
    "            value = (value,)\n",
    "\n",
    "        idxs = ['xyz'.index(c) for c in key]\n",
    "\n",
    "        for i, v in sorted(zip(idxs, value)):\n",
    "            self.__xyz[i] = v\n"
   ]
  },
  {
   "cell_type": "markdown",
   "metadata": {},
   "source": [
    "And here it is in action:"
   ]
  },
  {
   "cell_type": "code",
   "execution_count": null,
   "metadata": {},
   "outputs": [],
   "source": [
    "v = Vector((1, 2, 3))\n",
    "\n",
    "print('v:   ', v)\n",
    "print('xyz: ', v.xyz)\n",
    "print('zy:  ', v.zy)\n",
    "print('xx:  ', v.xx)\n",
    "\n",
    "v.xz = 10, 30\n",
    "print(v)\n",
    "v.y = 20\n",
    "print(v)"
   ]
  }
 ],
 "metadata": {},
 "nbformat": 4,
 "nbformat_minor": 2
}
