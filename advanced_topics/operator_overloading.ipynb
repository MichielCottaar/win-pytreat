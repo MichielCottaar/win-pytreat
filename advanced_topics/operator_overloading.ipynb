{
 "cells": [
  {
   "cell_type": "markdown",
   "metadata": {},
   "source": [
    "# Operator overloading\n",
    "\n",
    "\n",
    "> This practical assumes you are familiar with the basics of object-oriented\n",
    "> programming in Python.\n",
    "\n",
    "\n",
    "Operator overloading, in an object-oriented programming language, is the\n",
    "process of customising the behaviour of _operators_ (e.g. `+`, `*`, `/` and\n",
    "`-`) on user-defined types. This practical aims to show you that operator\n",
    "overloading is __very__ easy to do in Python.\n",
    "\n",
    "\n",
    "## Overview\n",
    "\n",
    "\n",
    "In Python, when you add two numbers together:"
   ]
  },
  {
   "cell_type": "code",
   "execution_count": null,
   "metadata": {},
   "outputs": [],
   "source": [
    "a = 5\n",
    "b = 10\n",
    "r = a + b\n",
    "print(r)"
   ]
  },
  {
   "cell_type": "markdown",
   "metadata": {},
   "source": [
    "What actually goes on behind the scenes is this:"
   ]
  },
  {
   "cell_type": "code",
   "execution_count": null,
   "metadata": {},
   "outputs": [],
   "source": [
    "r = a.__add__(b)\n",
    "print(r)"
   ]
  },
  {
   "cell_type": "markdown",
   "metadata": {},
   "source": [
    "In other words, whenever you use the `+` operator on two variables (the\n",
    "operands to the `+` operator), the Python interpreter calls the `__add__`\n",
    "method of the first operand (`a`), and passes the second operand (`b`) as an\n",
    "argument.\n",
    "\n",
    "\n",
    "So it is very easy to use the `+` operator with our own classes - all we have\n",
    "to do is implement a method called `__add__`.\n",
    "\n",
    "\n",
    "## Arithmetic operators\n",
    "\n",
    "\n",
    "Let's play with an example - a class which represents a 2D vector:"
   ]
  },
  {
   "cell_type": "code",
   "execution_count": null,
   "metadata": {},
   "outputs": [],
   "source": [
    "class Vector(object):\n",
    "    def __init__(self, x, y):\n",
    "        self.x = x\n",
    "        self.y = y\n",
    "\n",
    "    def __str__(self):\n",
    "        return 'Vector({}, {})'.format(self.x, self.y)"
   ]
  },
  {
   "cell_type": "markdown",
   "metadata": {},
   "source": [
    "> Note that we have implemented the special `__str__` method, which allows our\n",
    "> `Vector` instances to be converted into strings.\n",
    "\n",
    "\n",
    "If we try to use the `+` operator on this class, we are bound to get an error:"
   ]
  },
  {
   "cell_type": "code",
   "execution_count": null,
   "metadata": {},
   "outputs": [],
   "source": [
    "v1 = Vector(2, 3)\n",
    "v2 = Vector(4, 5)\n",
    "print(v1 + v2)"
   ]
  },
  {
   "cell_type": "markdown",
   "metadata": {},
   "source": [
    "But all we need to do to support the `+` operator is to implement a method\n",
    "called `__add__`:"
   ]
  },
  {
   "cell_type": "code",
   "execution_count": null,
   "metadata": {},
   "outputs": [],
   "source": [
    "class Vector(object):\n",
    "    def __init__(self, x, y):\n",
    "        self.x = x\n",
    "        self.y = y\n",
    "\n",
    "    def __str__(self):\n",
    "        return 'Vector({}, {})'.format(self.x, self.y)\n",
    "\n",
    "    def __add__(self, other):\n",
    "        return Vector(self.x + other.x,\n",
    "                      self.y + other.y)"
   ]
  },
  {
   "cell_type": "markdown",
   "metadata": {},
   "source": [
    "And now we can use `+` on `Vector` objects - it's that easy:"
   ]
  },
  {
   "cell_type": "code",
   "execution_count": null,
   "metadata": {},
   "outputs": [],
   "source": [
    "v1 = Vector(2, 3)\n",
    "v2 = Vector(4, 5)\n",
    "print('{} + {} = {}'.format(v1, v2, v1 + v2))"
   ]
  },
  {
   "cell_type": "markdown",
   "metadata": {},
   "source": [
    "Our `__add__` method creates and returns a new `Vector` which contains the sum\n",
    "of the `x` and `y` components of the `Vector` on which it is called, and the\n",
    "`Vector` which is passed in.  We could also make the `__add__` method work\n",
    "with scalars, by extending its definition a bit:"
   ]
  },
  {
   "cell_type": "code",
   "execution_count": null,
   "metadata": {},
   "outputs": [],
   "source": [
    "class Vector(object):\n",
    "    def __init__(self, x, y):\n",
    "        self.x = x\n",
    "        self.y = y\n",
    "\n",
    "    def __add__(self, other):\n",
    "        if isinstance(other, Vector):\n",
    "            return Vector(self.x + other.x,\n",
    "                          self.y + other.y)\n",
    "        else:\n",
    "            return Vector(self.x + other, self.y + other)\n",
    "\n",
    "    def __str__(self):\n",
    "        return 'Vector({}, {})'.format(self.x, self.y)"
   ]
  },
  {
   "cell_type": "markdown",
   "metadata": {},
   "source": [
    "So now we can add both `Vectors` and scalars numbers together:"
   ]
  },
  {
   "cell_type": "code",
   "execution_count": null,
   "metadata": {},
   "outputs": [],
   "source": [
    "v1 = Vector(2, 3)\n",
    "v2 = Vector(4, 5)\n",
    "n  = 6\n",
    "\n",
    "print('{} + {} = {}'.format(v1, v2, v1 + v2))\n",
    "print('{} + {} = {}'.format(v1, n,  v1 + n))"
   ]
  },
  {
   "cell_type": "markdown",
   "metadata": {},
   "source": [
    "Other nuemric and logical operators can be supported by implementing the\n",
    "appropriate method, for example:\n",
    "\n",
    "- Multiplication (`*`): `__mul__`\n",
    "- Division (`/`): `__div__`\n",
    "- Negation (`-`): `__neg__`\n",
    "- In-place addition (`+=`): `__iadd__`\n",
    "- Exclusive or (`^`): `__xor__`\n",
    "\n",
    "\n",
    "Take a look at the [official\n",
    "documentation](https://docs.python.org/3.5/reference/datamodel.html#emulating-numeric-types)\n",
    "for a full list of the arithmetic and logical operators that your classes can\n",
    "support.\n",
    "\n",
    "\n",
    "## Equality and comparison operators\n",
    "\n",
    "\n",
    "Adding support for equality (`==`, `!=`) and comparison (e.g. `>=`) operators\n",
    "is just as easy. Imagine that we have a class called `Label`, which represents\n",
    "a label in a lookup table. Our `Label` has an integer label, a name, and an\n",
    "RGB colour:"
   ]
  },
  {
   "cell_type": "code",
   "execution_count": null,
   "metadata": {},
   "outputs": [],
   "source": [
    "class Label(object):\n",
    "    def __init__(self, label, name, colour):\n",
    "        self.label  = label\n",
    "        self.name   = name\n",
    "        self.colour = colour"
   ]
  },
  {
   "cell_type": "markdown",
   "metadata": {},
   "source": [
    "In order to ensure that a list of `Label` objects is ordered by their label\n",
    "values, we can implement a set of functions, so that `Label` classes can be\n",
    "compared using the standard comparison operators:"
   ]
  },
  {
   "cell_type": "code",
   "execution_count": null,
   "metadata": {},
   "outputs": [],
   "source": [
    "import functools\n",
    "\n",
    "@functools.total_ordering\n",
    "class Label(object):\n",
    "    def __init__(self, label, name, colour):\n",
    "        self.label  = label\n",
    "        self.name   = name\n",
    "        self.colour = colour\n",
    "\n",
    "    def __str__(self):\n",
    "        rgb = ''.join(['{:02x}'.format(c) for c in self.colour])\n",
    "        return 'Label({}, {}, #{})'.format(self.label, self.name, rgb)\n",
    "\n",
    "    def __repr__(self):\n",
    "        return str(self)\n",
    "\n",
    "    def __eq__(self, other):\n",
    "        return self.label == other.label\n",
    "\n",
    "    def __lt__(self, other):\n",
    "        return self.label < other.label"
   ]
  },
  {
   "cell_type": "markdown",
   "metadata": {},
   "source": [
    "> We also added `__str__` and `__repr__` methods to the `Label` class so that\n",
    "> `Label` instances will be printed nicely.\n",
    "\n",
    "\n",
    "Now we can compare and sort our `Label` instances:"
   ]
  },
  {
   "cell_type": "code",
   "execution_count": null,
   "metadata": {},
   "outputs": [],
   "source": [
    "l1 = Label(1, 'Parietal',  (255,   0,   0))\n",
    "l2 = Label(2, 'Occipital', (  0, 255,   0))\n",
    "l3 = Label(3, 'Temporal',  (  0,   0, 255))\n",
    "\n",
    "print('{} >  {}: {}'.format(l1, l2, l1  > l2))\n",
    "print('{} <  {}: {}'.format(l1, l3, l1  < l3))\n",
    "print('{} != {}: {}'.format(l2, l3, l2 != l3))\n",
    "print(sorted((l3, l1, l2)))"
   ]
  },
  {
   "cell_type": "markdown",
   "metadata": {},
   "source": [
    "The `@functools.total_ordering` is a convenience decorator which, given a\n",
    "class that implements equality and a single comparison function (`__lt__` in\n",
    "the above code), will \"fill in\" the remainder of the comparison operators.  If\n",
    "you need very specific or complicated behaviour, then you can provide methods\n",
    "for _all_ of the comparison operators, e.g. `__gt__` for `>`, `__ge__` for\n",
    "`>=`, etc.).\n",
    "\n",
    "\n",
    "But if you just want the operators to work in the conventional manner, you can\n",
    "just use the `@functools.total_ordering` decorator, and provide `__eq__`, and\n",
    "just one of `__lt__`, `__le__`, `__gt__` or `__ge__`.\n",
    "\n",
    "\n",
    "Refer to the [official\n",
    "documentation](https://docs.python.org/3.5/reference/datamodel.html#object.__lt__)\n",
    "for all of the details on supporting comparison operators.\n",
    "\n",
    "\n",
    "> You may see the `__cmp__` method in older code bases - this provides a\n",
    "> C-style comparison function which returns `<0`, `0`, or `>0` based on\n",
    "> comparing two items. This has been superseded by the rich\n",
    "> comparison operators and is no longer used in Python 3.\n",
    "\n",
    "\n",
    "## The indexing operator `[]`\n",
    "\n",
    "\n",
    "The indexing operator (`[]`) is generally used by \"container\" types, such as\n",
    "the built-in `list` and `dict` classes.\n",
    "\n",
    "\n",
    "At its essence, there are only three types of behaviours that are possible\n",
    "with the `[]` operator. All that is needed to support them are to implement\n",
    "three special methods in your class, regardless of whether your class will be\n",
    "indexed by sequential integers (like a `list`) or by hashable values (like a\n",
    "`dict`):\n",
    "\n",
    "\n",
    "- __Retrieval__ is performed by the `__getitem__` method\n",
    "- __Assignment__ is performed by the `__setitem__` method\n",
    "- __Deletion__ is performed by the `__delitem__` method\n",
    "\n",
    "\n",
    "Note that, if you implement these methods in your own class, there is no\n",
    "requirement for them to actually provide any form. However if you don't, you\n",
    "will probably confuse users of your code - make sure you explain it all in\n",
    "your comprehensive documentation!\n",
    "\n",
    "\n",
    "The following contrived example demonstrates all three behaviours:"
   ]
  },
  {
   "cell_type": "code",
   "execution_count": null,
   "metadata": {},
   "outputs": [],
   "source": [
    "class TwoTimes(object):\n",
    "\n",
    "    def __init__(self):\n",
    "        self.__deleted  = set()\n",
    "        self.__assigned = {}\n",
    "\n",
    "    def __getitem__(self, key):\n",
    "        if key in self.__deleted:\n",
    "            raise KeyError('{} has been deleted!')\n",
    "        elif key in self.__assigned:\n",
    "            return self.__assigned[key]\n",
    "        else:\n",
    "            return key * 2\n",
    "\n",
    "    def __setitem__(self, key, value):\n",
    "        self.__assigned[key] = value\n",
    "\n",
    "    def __delitem__(self, key):\n",
    "        self.__deleted.add(key)"
   ]
  },
  {
   "cell_type": "markdown",
   "metadata": {},
   "source": [
    "Guess what happens whenever we index a `TwoTimes` object:"
   ]
  },
  {
   "cell_type": "code",
   "execution_count": null,
   "metadata": {},
   "outputs": [],
   "source": [
    "tt = TwoTimes()\n",
    "print('TwoTimes[{}] = {}'.format(2,     tt[2]))\n",
    "print('TwoTimes[{}] = {}'.format(6,     tt[6]))\n",
    "print('TwoTimes[{}] = {}'.format('abc', tt['abc']))"
   ]
  },
  {
   "cell_type": "markdown",
   "metadata": {},
   "source": [
    "For some unknown reason, the `TwoTimes` class allows us to override the value\n",
    "for a specific key:"
   ]
  },
  {
   "cell_type": "code",
   "execution_count": null,
   "metadata": {},
   "outputs": [],
   "source": [
    "print(tt[4])\n",
    "tt[4] = 'this is not 4 * 4'\n",
    "print(tt[4])"
   ]
  },
  {
   "cell_type": "markdown",
   "metadata": {},
   "source": [
    "And we can also \"delete\" keys:"
   ]
  },
  {
   "cell_type": "code",
   "execution_count": null,
   "metadata": {},
   "outputs": [],
   "source": [
    "print(tt['12345'])\n",
    "del tt['12345']\n",
    "\n",
    "# this is going to raise an error\n",
    "print(tt['12345'])"
   ]
  },
  {
   "cell_type": "markdown",
   "metadata": {},
   "source": [
    "If you wish to support the Python `start:stop:step` [slice\n",
    "notation](https://www.pythoncentral.io/how-to-slice-listsarrays-and-tuples-in-python/),\n",
    "you simply need to write your `__getitem__` and `__setitem__` methods so that they\n",
    "can detect `slice` objects:"
   ]
  },
  {
   "cell_type": "code",
   "execution_count": null,
   "metadata": {},
   "outputs": [],
   "source": [
    "class TwoTimes(object):\n",
    "\n",
    "    def __init__(self, max):\n",
    "        self.__max = max\n",
    "\n",
    "    def __getitem__(self, key):\n",
    "        if isinstance(key, slice):\n",
    "            start = key.start or 0\n",
    "            stop  = key.stop  or self.__max\n",
    "            step  = key.step  or 1\n",
    "        else:\n",
    "            start = key\n",
    "            stop  = key + 1\n",
    "            step  = 1\n",
    "\n",
    "        return [i * 2 for i in range(start, stop, step)]"
   ]
  },
  {
   "cell_type": "code",
   "execution_count": null,
   "metadata": {},
   "outputs": [],
   "source": [
    "tt = TwoTimes(10)\n",
    "\n",
    "print(tt[5])\n",
    "print(tt[3:7])\n",
    "print(tt[::2])"
   ]
  },
  {
   "cell_type": "markdown",
   "metadata": {},
   "source": [
    "> It is possible to sub-class the built-in `list` and `dict` classes if you\n",
    "> wish to extend their functionality in some way. However, if you are writing\n",
    "> a class that should mimic the one of the `list` or `dict` classes, but work\n",
    "> in a different way internally (e.g. a `dict`-like object which uses a\n",
    "> different hashing algorithm), the `Sequence` and `MutableMapping` classes\n",
    "> are [a better choice](https://stackoverflow.com/a/7148602) - you can find\n",
    "> them in the\n",
    "> [`collections.abc`](https://docs.python.org/3.5/library/collections.abc.html)\n",
    "> module.\n",
    "\n",
    "\n",
    "## The call operator `()`\n",
    "\n",
    "\n",
    "Remember how everything in Python is an object, even functions? When you call\n",
    "a function, a method called `__call__` is called on the function object. We can\n",
    "implement the `__call__` method on our own class, which will allow us to \"call\"\n",
    "objects as if they are functions.\n",
    "\n",
    "\n",
    "For example, the `TimedFunction` class allows us to calculate the execution\n",
    "time of any function:\n",
    "\n",
    "\n",
    "## The dot operator `.`\n",
    "\n",
    "\n",
    "Python allows us to override the `.` (dot) operator which is used to access\n",
    "the attributes and methods of an object.  attributes and methods of an\n",
    "object. This is a fairly niche feature, and you need to be careful that you\n",
    "don't unintentionally introduce recursive attribute lookups into your code."
   ]
  },
  {
   "cell_type": "code",
   "execution_count": null,
   "metadata": {},
   "outputs": [],
   "source": [
    "class Vector(object):\n",
    "    def __init__(self, xyz):\n",
    "        self.__xyz = list(xyz)\n",
    "\n",
    "    def __str__(self):\n",
    "        return 'Vector({})'.format(', '.join(self.__xyz))\n",
    "\n",
    "    def __getattr__(self, key):\n",
    "        key = ['xyz'.index(c) for c in key]\n",
    "        return [self.__xyz[c] for c in key]\n",
    "\n",
    "    def __setattr__(self, key, value):\n",
    "        pass        # key = ['xyz'.index(c) for c in key]"
   ]
  },
  {
   "cell_type": "code",
   "execution_count": null,
   "metadata": {},
   "outputs": [],
   "source": [
    "v = Vector((4, 5, 6))\n",
    "\n",
    "print('xyz: ', v.xyz)\n",
    "print('yz:  ', v.yz)\n",
    "print('zxy: ', v.xzy)\n",
    "print('y:   ', v.y)"
   ]
  },
  {
   "cell_type": "markdown",
   "metadata": {},
   "source": [
    "## Other special methods"
   ]
  }
 ],
 "metadata": {},
 "nbformat": 4,
 "nbformat_minor": 2
}
