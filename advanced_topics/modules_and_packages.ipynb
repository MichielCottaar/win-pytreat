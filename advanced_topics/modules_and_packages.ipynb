{
 "cells": [
  {
   "cell_type": "markdown",
   "metadata": {},
   "source": [
    "# Modules and packages\n",
    "\n",
    "\n",
    "Python gives you a lot of flexibility in how you organise your code. If you\n",
    "want, you can write a Python program just as you would write a Bash script.\n",
    "You don't _have_ to use functions, classes, modules or packages if you don't\n",
    "want to, or if the script's task does not require them.\n",
    "\n",
    "\n",
    "But when your code starts to grow beyond what can reasonably be defined in a\n",
    "single file, you will (hopefully) want to start arranging it in a more\n",
    "understandable manner.\n",
    "\n",
    "\n",
    "For this practical we have prepared a handful of example files - you can find\n",
    "them alongside this notebook file, in a directory called\n",
    "`modules_and_packages/`."
   ]
  },
  {
   "cell_type": "code",
   "execution_count": null,
   "metadata": {},
   "outputs": [],
   "source": [
    "import os\n",
    "os.chdir('modules_and_packages')"
   ]
  },
  {
   "cell_type": "markdown",
   "metadata": {},
   "source": [
    "## What is a module?\n",
    "\n",
    "\n",
    "Any file ending with `.py` is considered to be a module in Python. Take a look\n",
    "at `modules_and_packages/numfuncs.py` - either open it in your editor, or run\n",
    "this code block:"
   ]
  },
  {
   "cell_type": "code",
   "execution_count": null,
   "metadata": {},
   "outputs": [],
   "source": [
    "with open('numfuncs.py', 'rt') as f:\n",
    "    for line in f:\n",
    "        print(line.rstrip())"
   ]
  },
  {
   "cell_type": "markdown",
   "metadata": {},
   "source": [
    "This is a perfectly valid Python module, although not a particularly useful\n",
    "one. It contains an attribute called `PI`, and a function `add`.\n",
    "\n",
    "\n",
    "## Importing modules\n",
    "\n",
    "\n",
    "Before we can use our module, we must `import` it. Importing a module in\n",
    "Python will make its contents available to the local scope.  We can import the\n",
    "contents of `mymodule` like so:"
   ]
  },
  {
   "cell_type": "code",
   "execution_count": null,
   "metadata": {},
   "outputs": [],
   "source": [
    "import numfuncs"
   ]
  },
  {
   "cell_type": "markdown",
   "metadata": {},
   "source": [
    "This imports `numfuncs` into the local scope - everything defined in the\n",
    "`numfuncs` module can be accessed by prefixing it with `numfuncs.`:"
   ]
  },
  {
   "cell_type": "code",
   "execution_count": null,
   "metadata": {},
   "outputs": [],
   "source": [
    "print('PI:', numfuncs.PI)\n",
    "print(numfuncs.add(1, 50))"
   ]
  },
  {
   "cell_type": "markdown",
   "metadata": {},
   "source": [
    "There are a couple of other ways to import items from a module...\n",
    "\n",
    "\n",
    "### Importing specific items from a module\n",
    "\n",
    "\n",
    "If you only want to use one, or a few items from a module, you can import just\n",
    "those items - a reference to just those items will be created in the local\n",
    "scope:"
   ]
  },
  {
   "cell_type": "code",
   "execution_count": null,
   "metadata": {},
   "outputs": [],
   "source": [
    "from numfuncs import add\n",
    "print(add(1, 3))"
   ]
  },
  {
   "cell_type": "markdown",
   "metadata": {},
   "source": [
    "### Importing everything from a module\n",
    "\n",
    "\n",
    "It is possible to import _everything_ that is defined in a module like so:"
   ]
  },
  {
   "cell_type": "code",
   "execution_count": null,
   "metadata": {},
   "outputs": [],
   "source": [
    "from numfuncs import *\n",
    "print('PI: ', PI)\n",
    "print(add(1, 5))"
   ]
  },
  {
   "cell_type": "markdown",
   "metadata": {},
   "source": [
    "__PLEASE DON'T DO THIS!__ Because every time you do, somewhere in the world, a\n",
    "software developer will will spontaneously stub his/her toe, and start crying.\n",
    "Using this approach can make more complicated programs very difficult to read,\n",
    "because it is not possible to determine the origin of the functions and\n",
    "attributes that are being used.\n",
    "\n",
    "\n",
    "And naming collisions are inevitable when importing multiple modules in this\n",
    "way, making it very difficult for somebody else to figure out what your code\n",
    "is doing:"
   ]
  },
  {
   "cell_type": "code",
   "execution_count": null,
   "metadata": {},
   "outputs": [],
   "source": [
    "from numfuncs import *\n",
    "from strfuncs import *\n",
    "\n",
    "print(add(1, 5))"
   ]
  },
  {
   "cell_type": "markdown",
   "metadata": {},
   "source": [
    "Instead, it is better to give modules a name when you import them.  While this\n",
    "requires you to type more code, the benefits of doing this far outweighs the\n",
    "hassle of typing a few extra characters - it becomes much easier to read and\n",
    "trace through code when the functions you use are accessed through a namespace\n",
    "for each module:"
   ]
  },
  {
   "cell_type": "code",
   "execution_count": null,
   "metadata": {},
   "outputs": [],
   "source": [
    "import numfuncs\n",
    "import strfuncs\n",
    "print('number add: ', numfuncs.add(1, 2))\n",
    "print('string add: ', strfuncs.add(1, 2))"
   ]
  },
  {
   "cell_type": "markdown",
   "metadata": {},
   "source": [
    "And Python allows you to define an _alias_ for a module when you import it,\n",
    "so you don't necessarily need to type out the full module name each time\n",
    "you want to access something inside:"
   ]
  },
  {
   "cell_type": "code",
   "execution_count": null,
   "metadata": {},
   "outputs": [],
   "source": [
    "import numfuncs as nf\n",
    "import strfuncs as sf\n",
    "print('number add: ', nf.add(1, 2))\n",
    "print('string add: ', sf.add(1, 2))"
   ]
  },
  {
   "cell_type": "markdown",
   "metadata": {},
   "source": [
    "## What happens when I import a module?\n",
    "\n",
    "\n",
    "When you `import` a module, the contents of the module file are literally\n",
    "executed by the Python runtime, exactly the same as if you had typed its\n",
    "contents into `ipython`. Any attributes, functions, or classes which are\n",
    "defined in the module will be bundled up into an object that represents the\n",
    "module, and through which you can access the module's contents.\n",
    "\n",
    "\n",
    "When we typed `import numfuncs` in the examples above, the following events\n",
    "occurred:\n",
    "\n",
    "\n",
    "1. Python created a `module` object to represent the module.\n",
    "\n",
    "2. The `numfuncs.py` file was read and executed, and all of the items defined\n",
    "   inside `numfuncs.py` (i.e. the `PI` attribute and the `add` function) were\n",
    "   added to the `module` object.\n",
    "\n",
    "3. A local variable called `numfuncs`, pointing to the `module` object,\n",
    "   was added to the local scope.\n",
    "\n",
    "\n",
    "Because module files are literally executed on import, any statements in the\n",
    "module file which are not encapsulated inside a class or function will be\n",
    "executed.  As an example, take a look at the file `sideeffects.py`. Let's\n",
    "import it and see what happens:"
   ]
  },
  {
   "cell_type": "code",
   "execution_count": null,
   "metadata": {},
   "outputs": [],
   "source": [
    "import sideeffects"
   ]
  },
  {
   "cell_type": "markdown",
   "metadata": {},
   "source": [
    "Ok, hopefully that wasn't too much of a surprise. Something which may be less\n",
    "intuitive, however, is that a module's contents will only be executed on the\n",
    "_first_ time that it is imported. After the first import, Python caches the\n",
    "module's contents (all loaded modules are accessible through\n",
    "[`sys.modules`](https://docs.python.org/3.5/library/sys.html#sys.modules)). On\n",
    "subsequent imports, the cached version of the module is returned:"
   ]
  },
  {
   "cell_type": "code",
   "execution_count": null,
   "metadata": {},
   "outputs": [],
   "source": [
    "import sideeffects"
   ]
  },
  {
   "cell_type": "markdown",
   "metadata": {},
   "source": [
    "## What is a package?\n",
    "\n",
    "\n",
    "\n",
    "\n",
    "# Useful references\n",
    "\n",
    "* [Modules in Python](https://docs.python.org/3.5/tutorial/modules.html)"
   ]
  }
 ],
 "metadata": {},
 "nbformat": 4,
 "nbformat_minor": 2
}
