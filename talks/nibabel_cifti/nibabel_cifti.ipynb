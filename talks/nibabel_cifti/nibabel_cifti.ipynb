{
 "cells": [
  {
   "cell_type": "code",
   "execution_count": 1,
   "metadata": {},
   "outputs": [
    {
     "name": "stderr",
     "output_type": "stream",
     "text": [
      "/Users/ndcn0236/miniconda3/lib/python3.6/site-packages/h5py/__init__.py:34: FutureWarning: Conversion of the second argument of issubdtype from `float` to `np.floating` is deprecated. In future, it will be treated as `np.float64 == np.dtype(float).type`.\n",
      "  from ._conv import register_converters as _register_converters\n"
     ]
    }
   ],
   "source": [
    "%matplotlib nbagg\n",
    "import numpy as np\n",
    "import nibabel as nib\n",
    "import matplotlib.pyplot as plt"
   ]
  },
  {
   "cell_type": "markdown",
   "metadata": {},
   "source": [
    "# Nibabel: loading MRI volumes\n",
    "## Image file formats beyond NIFTI\n",
    "Nibabel can also read:\n",
    "- ANALYZE (plain, SPM99, SPM2 and later)\n",
    "- Freesurfer MGH/MGZ format\n",
    "- MINC1 and MINC2\n",
    "- limited support for [Dicom](http://nipy.org/nibabel/dicom/dicom.html#dicom)\n",
    "- Philips PAR/REC\n",
    "\n",
    "You can get the data and affine for all these formats using:\n",
    "> ```\n",
    "> img = nib.load(<filename>)\n",
    "> affine = img.affine\n",
    "> data = img.get_data() # repeated calls of get_data() will return a cached version\n",
    "> ```\n",
    "Other metadata is available through `img.header`, but will be format-specific.\n",
    "\n",
    "## Acessing part of the data\n",
    "Running `nibabel.load` will only read in the header, not the full data.\n",
    "You can exploit this using the `[dataobj](http://nipy.org/nibabel/nibabel_images.html#array-proxies-and-proxy-images)` object:"
   ]
  },
  {
   "cell_type": "code",
   "execution_count": null,
   "metadata": {
    "collapsed": true
   },
   "outputs": [],
   "source": [
    "img = nib.load('100307/T1w.nii.gz')\n",
    "zslice = img.dataobj[:, :, 50]  # only loads the slice with k=50\n",
    "plt.imshow(slice.T, cmap='gray')"
   ]
  },
  {
   "cell_type": "markdown",
   "metadata": {},
   "source": [
    "## Surfaces in nibabel\n",
    "Nibabel supports surfaces in both [Freesurfer](http://nipy.org/nibabel/reference/nibabel.freesurfer.html#module-nibabel.freesurfer)\n",
    "and [GIFTI](http://nipy.org/nibabel/reference/nibabel.gifti.html#module-nibabel.gifti) formats\n",
    "\n",
    "![Gifti tree structure](gifti_tree.png)"
   ]
  },
  {
   "cell_type": "code",
   "execution_count": null,
   "metadata": {
    "collapsed": true
   },
   "outputs": [],
   "source": [
    "img = nib.load('100307/fsaverage_LR32k/100307.L.white.32k_fs_LR.surf.gii')\n",
    "vertices, faces = [darray.data for darray in img.darrays]\n",
    "vertices, faces"
   ]
  },
  {
   "cell_type": "code",
   "execution_count": null,
   "metadata": {
    "collapsed": true
   },
   "outputs": [],
   "source": [
    "from nibabel import freesurfer\n",
    "freesurfer.io.write_geometry('lh.white', vertices, faces)"
   ]
  },
  {
   "cell_type": "code",
   "execution_count": 3,
   "metadata": {},
   "outputs": [
    {
     "data": {
      "text/plain": [
       "array([2.9977965, 2.7661548, 3.0803757, ..., 2.47089  , 2.2333388,\n",
       "       2.363499 ], dtype=float32)"
      ]
     },
     "execution_count": 3,
     "metadata": {},
     "output_type": "execute_result"
    }
   ],
   "source": [
    "thickness = nib.load('100307/fsaverage_LR32k/100307.L.thickness.32k_fs_LR.shape.gii').darrays[0].data\n",
    "thickness"
   ]
  },
  {
   "cell_type": "markdown",
   "metadata": {},
   "source": [
    "## [Tractography streamlines](http://nipy.org/nibabel/reference/nibabel.streamlines.html#module-nibabel.streamlines) in nibabel\n",
    "# [CIFTI](https://github.com/MichielCottaar/cifti): easy creation/manipulation\n",
    "This module allows for straight-forward creation of CIFTI files and the reading and manipulating of existing ones\n",
    "\n",
    "The CIFTI format is used in brain imaging to store data acquired across the brain volume (in voxels) and/or\n",
    "the brain surface (in vertices). The format is unique in that it can store data from both volume and\n",
    "surface as opposed to NIftI, which only covers the brain volume, and GIftI, which only covers the brain surface.\n",
    "See http://www.nitrc.org/projects/cifti for specification of the CIFTI format.\n",
    "\n",
    "Each type of CIFTI axes describing the rows/columns in a CIFTI matrix is given a unique class:\n",
    "- `BrainModel`: each row/column is a voxel or vertex\n",
    "- `Parcels`: each row/column is a group of voxels and/or vertices\n",
    "- `Series`: each row/column is a timepoint, which increases monotonically\n",
    "- `Scalar`: each row/column has a unique name (with optional meta-data)\n",
    "- `Label`: each row/column has a unique name and label table (with optional meta-data)\n",
    "All of these classes are derived from `Axis`\n",
    "\n",
    "Reading a CIFTI file (through `read`) will return a matrix and a pair of axes describing the rows and columns of the matrix.\n",
    "Similarly to write a CIFTI file (through `write`) requires a matrix and a pair of axes.\n",
    "\n",
    "CIFTI axes of the same type can be concatenated by adding them together.\n",
    "Numpy indexing also works on them (except for Series objects, which have to remain monotonically increasing or decreasing)\n",
    "\n",
    "## Installation\n",
    "\n",
    "This package can be installed directly from github using:"
   ]
  },
  {
   "cell_type": "code",
   "execution_count": null,
   "metadata": {
    "collapsed": true
   },
   "outputs": [],
   "source": [
    "!pip install git+https://github.com/MichielCottaar/cifti.git"
   ]
  },
  {
   "cell_type": "markdown",
   "metadata": {},
   "source": [
    "![Cifti tree structure](cifti_tree.png)\n",
    "\n",
    "## Examples"
   ]
  },
  {
   "cell_type": "code",
   "execution_count": 4,
   "metadata": {},
   "outputs": [],
   "source": [
    "import cifti\n",
    "ctx = thickness != 0\n",
    "arr = np.random.rand(ctx.sum())\n",
    "\n",
    "bm_ctx = cifti.BrainModel.from_mask(ctx, name='CortexLeft')\n",
    "sc = cifti.Scalar.from_names(['random'])\n",
    "cifti.write('random_ctx.dscalar.nii', arr[None, :], (sc, bm_ctx))"
   ]
  },
  {
   "cell_type": "code",
   "execution_count": null,
   "metadata": {
    "collapsed": true
   },
   "outputs": [],
   "source": [
    "!wb_view 100307/fsaverage_LR32k/100307.*.32k_fs_LR.surf.gii random_ctx.dscalar.nii"
   ]
  },
  {
   "cell_type": "code",
   "execution_count": 6,
   "metadata": {},
   "outputs": [],
   "source": [
    "img = ni.load('100307/aparc+aseg.nii.gz')\n",
    "cerebellum = img.get_data() == 8\n",
    "\n",
    "bm_cerebellum = cifti.BrainModel.from_mask(cerebellum, name='CerebellumLeft', affine=img.affine)\n",
    "bm = bm_ctx + bm_cerebellum\n",
    "sc = cifti.Scalar.from_names(['random'])\n",
    "arr = np.random.rand(len(bm))\n",
    "cifti.write('random_ctx_cerebellum.dscalar.nii', arr[None, :], (sc, bm))"
   ]
  },
  {
   "cell_type": "code",
   "execution_count": null,
   "metadata": {
    "collapsed": true
   },
   "outputs": [],
   "source": [
    "!wb_view 100307/fsaverage_LR32k/100307.*.32k_fs_LR.surf.gii 100307/T1w.nii.gz random_ctx_cerebellum.dscalar.nii"
   ]
  },
  {
   "cell_type": "code",
   "execution_count": null,
   "metadata": {
    "collapsed": true
   },
   "outputs": [],
   "source": [
    "arr = abs(thickness[ctx, None] - thickness[None, ctx])\n",
    "cifti.write('diff_thickness.dconn.nii', arr, (bm_ctx, bm_ctx))"
   ]
  },
  {
   "cell_type": "code",
   "execution_count": null,
   "metadata": {
    "collapsed": true
   },
   "outputs": [],
   "source": [
    "!wb_view 100307/fsaverage_LR32k/100307.*.32k_fs_LR.surf.gii diff_thickness.dconn.nii"
   ]
  },
  {
   "cell_type": "markdown",
   "metadata": {},
   "source": [
    "Let's finally create a parcellated label file:"
   ]
  },
  {
   "cell_type": "code",
   "execution_count": 7,
   "metadata": {
    "collapsed": true
   },
   "outputs": [],
   "source": [
    "parcels = cifti.Parcels.from_brain_models([('thin', bm_ctx[thickness[ctx] < 2]),\n",
    "                                           ('cerbellum', bm_cerebellum),\n",
    "                                           ('thick', bm_ctx[thickness[ctx] > 3]),\n",
    "                                          ])\n",
    "scl = cifti.Scalar.from_names(['rgb'])\n",
    "label = scl.to_label([{1: ('red', (1, 0, 0, 1)), 2: ('green', (0, 1, 0, 1)), 3: ('blue', (0, 0, 1, 1))}])\n",
    "arr = np.array([[1, 2, 3]])\n",
    "cifti.write('labels.plabel.nii', arr, (label, parcels))"
   ]
  },
  {
   "cell_type": "code",
   "execution_count": null,
   "metadata": {},
   "outputs": [
    {
     "name": "stdout",
     "output_type": "stream",
     "text": [
      "\n",
      "Info: Resources loaded:\n",
      "   :/About   :/Cursor   :/Fonts   :/HelpFiles   :/LayersPanel   :/PaletteSettings   :/resources.qrc   :/SpecFileDialog   :/Splash   :/ToolBar   :/trolltech   :/update_resources.sh\n",
      "\n",
      "\n",
      "Info: Time to color volume data is 0.581 seconds.\n",
      "\n",
      "\n",
      "Info: Time to read /Users/ndcn0236/Work/projects/pytreat-2018-practicals/talks/nibabel_cifti/100307/T1w.nii.gz was 1.06257 seconds.\n",
      "\n",
      "\n",
      "Info: Time to read /Users/ndcn0236/Work/projects/pytreat-2018-practicals/talks/nibabel_cifti/100307/fsaverage_LR32k/100307.L.inflated.32k_fs_LR.surf.gii was 0.111264 seconds.\n",
      "\n",
      "\n",
      "Info: Time to read /Users/ndcn0236/Work/projects/pytreat-2018-practicals/talks/nibabel_cifti/100307/fsaverage_LR32k/100307.L.midthickness.32k_fs_LR.surf.gii was 0.019432 seconds.\n",
      "\n",
      "\n",
      "Info: Time to read /Users/ndcn0236/Work/projects/pytreat-2018-practicals/talks/nibabel_cifti/100307/fsaverage_LR32k/100307.L.pial.32k_fs_LR.surf.gii was 0.019506 seconds.\n",
      "\n",
      "\n",
      "Info: Time to read /Users/ndcn0236/Work/projects/pytreat-2018-practicals/talks/nibabel_cifti/100307/fsaverage_LR32k/100307.L.very_inflated.32k_fs_LR.surf.gii was 0.019134 seconds.\n",
      "\n",
      "\n",
      "Info: Time to read /Users/ndcn0236/Work/projects/pytreat-2018-practicals/talks/nibabel_cifti/100307/fsaverage_LR32k/100307.L.white.32k_fs_LR.surf.gii was 0.018743 seconds.\n",
      "\n",
      "\n",
      "Info: Time to read /Users/ndcn0236/Work/projects/pytreat-2018-practicals/talks/nibabel_cifti/100307/fsaverage_LR32k/100307.R.inflated.32k_fs_LR.surf.gii was 0.087767 seconds.\n",
      "\n",
      "\n",
      "Info: Time to read /Users/ndcn0236/Work/projects/pytreat-2018-practicals/talks/nibabel_cifti/100307/fsaverage_LR32k/100307.R.midthickness.32k_fs_LR.surf.gii was 0.019677 seconds.\n",
      "\n",
      "\n",
      "Info: Time to read /Users/ndcn0236/Work/projects/pytreat-2018-practicals/talks/nibabel_cifti/100307/fsaverage_LR32k/100307.R.pial.32k_fs_LR.surf.gii was 0.019088 seconds.\n",
      "\n",
      "\n",
      "Info: Time to read /Users/ndcn0236/Work/projects/pytreat-2018-practicals/talks/nibabel_cifti/100307/fsaverage_LR32k/100307.R.very_inflated.32k_fs_LR.surf.gii was 0.019656 seconds.\n",
      "\n",
      "\n",
      "Info: Time to read /Users/ndcn0236/Work/projects/pytreat-2018-practicals/talks/nibabel_cifti/100307/fsaverage_LR32k/100307.R.white.32k_fs_LR.surf.gii was 0.018397 seconds.\n",
      "\n",
      "\n",
      "Info: Time to read /Users/ndcn0236/Work/projects/pytreat-2018-practicals/talks/nibabel_cifti/labels.plabel.nii was 0.651135 seconds.\n",
      "\n"
     ]
    }
   ],
   "source": [
    "!wb_view 100307/fsaverage_LR32k/100307.*.32k_fs_LR.surf.gii 100307/T1w.nii.gz labels.plabel.nii"
   ]
  },
  {
   "cell_type": "code",
   "execution_count": null,
   "metadata": {
    "collapsed": true
   },
   "outputs": [],
   "source": []
  }
 ],
 "metadata": {
  "kernelspec": {
   "display_name": "Python 3",
   "language": "python",
   "name": "python3"
  },
  "language_info": {
   "codemirror_mode": {
    "name": "ipython",
    "version": 3
   },
   "file_extension": ".py",
   "mimetype": "text/x-python",
   "name": "python",
   "nbconvert_exporter": "python",
   "pygments_lexer": "ipython3",
   "version": "3.6.2"
  },
  "toc": {
   "colors": {
    "hover_highlight": "#DAA520",
    "running_highlight": "#FF0000",
    "selected_highlight": "#FFD700"
   },
   "moveMenuLeft": true,
   "nav_menu": {
    "height": "176px",
    "width": "252px"
   },
   "navigate_menu": true,
   "number_sections": true,
   "sideBar": true,
   "threshold": 4,
   "toc_cell": false,
   "toc_section_display": "block",
   "toc_window_display": false
  }
 },
 "nbformat": 4,
 "nbformat_minor": 2
}
