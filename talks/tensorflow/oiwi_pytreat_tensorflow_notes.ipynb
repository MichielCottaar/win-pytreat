{
 "cells": [
  {
   "cell_type": "markdown",
   "metadata": {},
   "source": [
    "<img src=\"img/copyright_infringement.png\" width=\"500\">\n",
    "See [https://www.tensorflow.org/](https://www.tensorflow.org/)"
   ]
  },
  {
   "cell_type": "markdown",
   "metadata": {},
   "source": [
    "### Project Overview\n",
    "* **[TensorFlow](https://www.tensorflow.org/)**<sup>TM</sup> is a software library for numerical computation on computation graphs.\n",
    "* It was open-sourced in 2015 and is currently very popular for Deep Learning.\n",
    "* Backed by \n",
    "**<span style=\"color:blue\">G</span><span style=\"color:red\">o</span><span style=\"color:yellow\">o</span><span style=\"color:blue\">g</span><span style=\"color:green\">l</span><span style=\"color:red\">e</span>**."
   ]
  },
  {
   "cell_type": "markdown",
   "metadata": {},
   "source": [
    "<div class=\"myimages\">\n",
    "    <div style=\"float:left;margin-right:5px;\">\n",
    "        <img class=\"middle-img\" src=\"img/so_hot_right_now.jpg\"/ width=\"300\"/>\n",
    "    </div>\n",
    "    <div style=\"float:left;margin-right:5px;\">\n",
    "        <img src=\"img/fchollet_popularity_2017.jpg\" width=\"400\">\n",
    "    </div>\n",
    "</div>\n",
    "\n",
    "<p>[https://imgflip.com/memegenerator/](https://imgflip.com/memegenerator/48288540/So-hot-right-now)</p>"
   ]
  },
  {
   "cell_type": "markdown",
   "metadata": {},
   "source": [
    "Another view: [http://nicodjimenez.github.io/2017/10/08/tensorflow.html](http://nicodjimenez.github.io/2017/10/08/tensorflow.html)."
   ]
  },
  {
   "cell_type": "markdown",
   "metadata": {},
   "source": [
    "### Motivating Problem\n",
    "#### Given:\n",
    "$\n",
    "\\mathcal{L}(w) = w^2 - 10 w + 25 \n",
    "$\n",
    "#### Find:\n",
    "$\n",
    "\\underset{w}{\\mathrm{argmin}} \\, \\mathcal{L}(w)\n",
    "$\n",
    "#### Hint:\n",
    "Answer = 5"
   ]
  },
  {
   "cell_type": "code",
   "execution_count": 14,
   "metadata": {},
   "outputs": [
    {
     "data": {
      "image/png": "[encoded data removed]",
      "text/plain": [
       "<matplotlib.figure.Figure at 0x1118aea90>"
      ]
     },
     "metadata": {},
     "output_type": "display_data"
    }
   ],
   "source": [
    "# Actually, let's graph this function.\n",
    "import matplotlib.pyplot as plt\n",
    "%matplotlib inline\n",
    "def loss(w):\n",
    "    return [w**2 - 10*w + 25 for w in w]\n",
    "w = list(range(-10,10))\n",
    "plt.plot(w,loss(w)); plt.plot([5],loss([5]),'x')\n",
    "plt.xlabel('w'); plt.ylabel('loss(w)')\n",
    "plt.show(); del w, loss"
   ]
  },
  {
   "cell_type": "markdown",
   "metadata": {},
   "source": [
    "### Computational Graphs\n",
    "Artificial neural networks are graphs. So is our loss function $\\mathcal{L}(w)$.\n",
    "<img src=\"img/cg/cg1.png\" width=\"400\">"
   ]
  },
  {
   "cell_type": "code",
   "execution_count": 15,
   "metadata": {
    "collapsed": true
   },
   "outputs": [],
   "source": [
    "import tensorflow as tf"
   ]
  },
  {
   "cell_type": "code",
   "execution_count": 16,
   "metadata": {
    "collapsed": true
   },
   "outputs": [],
   "source": [
    "# Set up variables\n",
    "w = tf.Variable(0,dtype=tf.float32)\n",
    "loss = w**2 - 10 * w + 25\n",
    "# Equivalently:\n",
    "#loss = tf.add(tf.add(w**2,tf.multiply(-10.,w)),25)\n",
    "train = tf.train.RMSPropOptimizer(0.01).minimize(loss)"
   ]
  },
  {
   "cell_type": "code",
   "execution_count": 17,
   "metadata": {
    "collapsed": true
   },
   "outputs": [],
   "source": [
    "# Itiomatic: run session, initialise variables\n",
    "init = tf.global_variables_initializer()\n",
    "session = tf.Session()\n",
    "session.run(init)"
   ]
  },
  {
   "cell_type": "code",
   "execution_count": 18,
   "metadata": {},
   "outputs": [
    {
     "name": "stdout",
     "output_type": "stream",
     "text": [
      "0.0\n"
     ]
    }
   ],
   "source": [
    "# Check initial value of w\n",
    "print(session.run(w))"
   ]
  },
  {
   "cell_type": "code",
   "execution_count": 19,
   "metadata": {},
   "outputs": [
    {
     "name": "stdout",
     "output_type": "stream",
     "text": [
      "0.0302891\n"
     ]
    }
   ],
   "source": [
    "# Take one gradient step (check updated w)\n",
    "session.run(train)\n",
    "print(session.run(w))"
   ]
  },
  {
   "cell_type": "code",
   "execution_count": 20,
   "metadata": {},
   "outputs": [
    {
     "name": "stdout",
     "output_type": "stream",
     "text": [
      "5.0\n"
     ]
    }
   ],
   "source": [
    "# Take 1000 gradient steps (relish result)\n",
    "for _ in range(1000): session.run(train)\n",
    "print(session.run(w))"
   ]
  },
  {
   "cell_type": "code",
   "execution_count": 21,
   "metadata": {
    "collapsed": true
   },
   "outputs": [],
   "source": [
    "# Close the door behind you\n",
    "session.close()"
   ]
  },
  {
   "cell_type": "markdown",
   "metadata": {},
   "source": [
    "### Key Concepts (Interm Summary)\n",
    "* Computation Graph\n",
    "* Variables\n",
    "* Sessions\n",
    "* Modularity (try replacing trainer, e.g. s/GradientDescentOptimizer/RMSPropOptimizer/)"
   ]
  },
  {
   "cell_type": "code",
   "execution_count": 26,
   "metadata": {
    "collapsed": true
   },
   "outputs": [],
   "source": [
    "# Passing numpy arrays into the graph as data\n",
    "import numpy as np\n",
    "data = np.array([[1.],[-10.],[25.]])\n",
    "w = tf.Variable(0,dtype=tf.float32)\n",
    "x = tf.placeholder(tf.float32, [3,1])\n",
    "loss = x[0][0]*w**2 + x[1][0]*w + x[2][0]\n",
    "train = tf.train.RMSPropOptimizer(0.01).minimize(loss)"
   ]
  },
  {
   "cell_type": "code",
   "execution_count": 27,
   "metadata": {},
   "outputs": [
    {
     "name": "stdout",
     "output_type": "stream",
     "text": [
      "5.0\n"
     ]
    }
   ],
   "source": [
    "# Initialise variables + run session + train\n",
    "init = tf.global_variables_initializer()\n",
    "with tf.Session() as session:\n",
    "    session.run(init)\n",
    "    for _ in range(1000): session.run(train, feed_dict={x:data})\n",
    "    print(session.run(w))"
   ]
  },
  {
   "cell_type": "markdown",
   "metadata": {
    "collapsed": true
   },
   "source": [
    "### Bonus: Interactive Sessions\n",
    "If you are using jupyter notebook, you can use an interactive session."
   ]
  },
  {
   "cell_type": "code",
   "execution_count": 28,
   "metadata": {},
   "outputs": [
    {
     "data": {
      "text/plain": [
       "3"
      ]
     },
     "execution_count": 28,
     "metadata": {},
     "output_type": "execute_result"
    }
   ],
   "source": [
    "sess = tf.InteractiveSession()\n",
    "a = tf.constant(1)\n",
    "b = tf.constant(2)\n",
    "c = a + b\n",
    "# instead of sess.run(c)\n",
    "c.eval()"
   ]
  },
  {
   "cell_type": "code",
   "execution_count": 29,
   "metadata": {},
   "outputs": [
    {
     "data": {
      "text/plain": [
       "1"
      ]
     },
     "execution_count": 29,
     "metadata": {},
     "output_type": "execute_result"
    }
   ],
   "source": [
    "a.eval()"
   ]
  },
  {
   "cell_type": "code",
   "execution_count": 30,
   "metadata": {
    "collapsed": true
   },
   "outputs": [],
   "source": [
    "# Close the sess when you are done.\n",
    "sess.close()"
   ]
  },
  {
   "cell_type": "markdown",
   "metadata": {},
   "source": [
    "<img src=\"img/what_leo_needs.png\" width=\"500\">\n",
    "### Models in the wild\n",
    "* CNNs.\n",
    "* RNNs.\n",
    "* VAEs.\n",
    "* GANs.\n",
    "\n",
    "(*And many other fine acronyms!*)\n",
    "\n",
    "Demo1 [here](demos/convolutional_network_demo.ipynb).\n"
   ]
  },
  {
   "cell_type": "markdown",
   "metadata": {},
   "source": [
    "### TensorBoard\n",
    "\n",
    "* TensorBoard can be used to visualise the network graph, training accuracy, loss, inputs, and model internal representations--including feature embeddings. \n",
    "* These visualisations can be used for decoding and understanding the model.\n",
    "\n",
    "Demo2 [here](demos/tensorboard_demo.ipynb)."
   ]
  },
  {
   "cell_type": "markdown",
   "metadata": {},
   "source": [
    "### Discussion: Big Data, Big Models, Big Computing..."
   ]
  },
  {
   "cell_type": "markdown",
   "metadata": {},
   "source": [
    "<div class=\"myimages\">\n",
    "    <div style=\"float:left;margin-right:5px;\">\n",
    "        <img class=\"middle-img\" src=\"img/how_big_is_your_data.png\"/ width=\"400\"/>\n",
    "    </div>\n",
    "    <div style=\"float:left;margin-right:5px;\">\n",
    "        <img src=\"img/model_zoo.png\" width=\"300\">\n",
    "    </div>\n",
    "</div>"
   ]
  },
  {
   "cell_type": "markdown",
   "metadata": {},
   "source": [
    "<img class=\"middle-img\" src=\"img/multiple_devices.png\"/ width=\"400\"/>\n",
    "\n",
    "Demo multi GPU computing (*internet/time permitting*)\n",
    "\n",
    "**Warning**: the following won't run unless you are running on a system with at least 2 GPUs (+1 CPU)."
   ]
  },
  {
   "cell_type": "code",
   "execution_count": null,
   "metadata": {
    "collapsed": true
   },
   "outputs": [],
   "source": [
    "# Multi GPU computing\n",
    "# import numpy as np\n",
    "# import tensorflow as tf\n",
    "import datetime\n",
    "\n",
    "# Example: compute A^n + B^n on 2 GPUs\n",
    "\n",
    "#Processing Units logs\n",
    "log_device_placement = True\n",
    "\n",
    "#num of multiplications to perform\n",
    "n = 10\n",
    "\n",
    "# Create random large matrix\n",
    "A = np.random.rand(10000, 10000).astype('float32')\n",
    "B = np.random.rand(10000, 10000).astype('float32')\n",
    "\n",
    "# Create a graph to store results\n",
    "g = []\n",
    "\n",
    "# Define matrix power\n",
    "def matpow(M, n):\n",
    "    if n < 1: #Abstract cases where n < 1\n",
    "        return M\n",
    "    else:\n",
    "        return tf.matmul(M, matpow(M, n-1))\n",
    "\n",
    "# GPU:0 computes A^n\n",
    "with tf.device('/gpu:0'):\n",
    "    #compute A^n and store result in g\n",
    "    a = tf.constant(A)\n",
    "    g.append(matpow(a, n))\n",
    "\n",
    "#GPU:1 computes B^n\n",
    "with tf.device('/gpu:1'):\n",
    "    #compute B^n and store result in g\n",
    "    b = tf.constant(B)\n",
    "    g.append(matpow(b, n))\n",
    "\n",
    "with tf.device('/cpu:0'):\n",
    "    s = tf.add_n(g) #Add all elements in g, i.e. A^n + B^n\n",
    "\n",
    "t1 = datetime.datetime.now()\n",
    "with tf.Session(config=tf.ConfigProto(log_device_placement=log_device_placement)) as sess:\n",
    "    # Runs the op.\n",
    "    sess.run(s)\n",
    "\n",
    "t2 = datetime.datetime.now()\n",
    "print(t1, t2)"
   ]
  },
  {
   "cell_type": "code",
   "execution_count": null,
   "metadata": {
    "collapsed": true
   },
   "outputs": [],
   "source": []
  }
 ],
 "metadata": {
  "anaconda-cloud": {},
  "kernelspec": {
   "display_name": "Python [conda env:tensorflow]",
   "language": "python",
   "name": "conda-env-tensorflow-py"
  },
  "language_info": {
   "codemirror_mode": {
    "name": "ipython",
    "version": 3
   },
   "file_extension": ".py",
   "mimetype": "text/x-python",
   "name": "python",
   "nbconvert_exporter": "python",
   "pygments_lexer": "ipython3",
   "version": "3.5.2"
  }
 },
 "nbformat": 4,
 "nbformat_minor": 2
}
