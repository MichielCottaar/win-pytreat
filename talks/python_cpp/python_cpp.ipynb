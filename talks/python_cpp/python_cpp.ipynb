{
 "cells": [
  {
   "cell_type": "markdown",
   "metadata": {},
   "source": [
    "\n",
    "![Translation](trans.png)\n",
    "\n",
    "# Calling C++ code from Python\n",
    "\n",
    "## Problem\n",
    "\n",
    " - We have some existing C++ code which operates on array/image data\n",
    " - We want to call it from Python\n",
    " - We want to use Numpy arrays to pass input and receive output\n",
    " - **Ideally, want to avoid too much copying of large data**\n",
    " "
   ]
  },
  {
   "cell_type": "markdown",
   "metadata": {},
   "source": [
    "## Solution I will present\n",
    "\n",
    " - Build a **Cython** extension\n",
    " "
   ]
  },
  {
   "cell_type": "markdown",
   "metadata": {},
   "source": [
    "## Alternative solutions I will mention briefly\n",
    "\n",
    " - Create a pure-C API and use `ctypes`\n",
    " - Wrapper-generators (e.g. `swig`)\n",
    " - Wrapping a command line tool\n"
   ]
  },
  {
   "cell_type": "markdown",
   "metadata": {},
   "source": [
    "# Sample C++ code\n",
    "    #include \"newimage/newimageall.h\"\n",
    "\n",
    "    void process_volume(NEWIMAGE::volume4D<float> &invol)\n",
    "    {\n",
    "        // Do some clever stuff\n",
    "        invol.binarise(0.5);\n",
    "    }\n",
    "\n",
    "    int main(int argc, char **argv)\n",
    "    {\n",
    "        char *input_file = argv[1];\n",
    "        char *output_file = argv[2];\n",
    "\n",
    "        NEWIMAGE::volume4D<float> invol;\n",
    "        read_volume4D(invol, input_file);\n",
    "\n",
    "        process_volume(invol);\n",
    "        save_volume4D(invol, output_file);\n",
    "    }\n"
   ]
  },
  {
   "cell_type": "markdown",
   "metadata": {},
   "source": [
    "    \n",
    "## First provide an entry point using C++ native types\n",
    "\n",
    "    #include <vector>\n",
    "    #include <iostream>\n",
    "    \n",
    "    std::vector<float> process_vectors(std::vector<float> &input, int nx, int ny, int nz, int nt)\n",
    "    {\n",
    "        // This is just so we can see if the data has been copied\n",
    "        std::cerr << \"In C++ the input vector starts at address \" << &input[0] << std::endl;\n",
    "        \n",
    "        // Here we ought to check that nx, ny, nz, nt is consistent with overall length of input\n",
    "        \n",
    "        // Create a volume4D using an existing data buffer\n",
    "        // when we do this, NEWIMAGE will not try to delete the data buffer\n",
    "        NEWIMAGE::volume4D<float> invol(nx, ny, nz, nt, &input[0]);\n",
    "\n",
    "        // Do our processing step\n",
    "        process_volume(invol);\n",
    "        \n",
    "        // Input data has been modified, so return it directly\n",
    "        return input;\n",
    "    }\n"
   ]
  },
  {
   "cell_type": "markdown",
   "metadata": {},
   "source": [
    "\n",
    "# Array ordering\n",
    "\n",
    "![Ordering](abc.png)\n",
    "\n",
    "If `input` is a 4D image, it's pretty clear that the first element is the voxel with co-ordinates `(0, 0, 0, 0)`\n",
    "\n",
    "But what is the next element?\n",
    "\n",
    "Is it voxel `(1, 0, 0, 0)`?\n",
    "\n",
    "Or `(0, 0, 0, 1)`?\n",
    "\n",
    "If the *first* axis is the one which varies fastest, we are using **Column-Major** ordering\n",
    "If the *last* axis is the one which varies fastest, we are using **Row-Major** ordering"
   ]
  },
  {
   "cell_type": "markdown",
   "metadata": {},
   "source": [
    "## So, which is the standard?\n",
    "\n",
    "| Row-major            | Column-major | \n",
    "| ------------         | ---------    | \n",
    "| C/C++ native arrays  | Fortran      | \n",
    "| Python/Numpy default | Matlab       |\n",
    "| SAS                  | FSL NEWIMAGE | \n"
   ]
  },
  {
   "cell_type": "markdown",
   "metadata": {},
   "source": [
    "\n",
    "### Here, we will need to make sure our Numpy arrays are passed as 1-dimensional float arrays in Column-major order to match NEWIMAGE\n",
    "\n",
    "    data.flatten(order='F').astype(np.float32)\n",
    "    \n",
    " - `'F'` stands for 'Fortran order'\n",
    " - A C++ `float` is *almost* guaranteed to be 32 bits\n",
    " "
   ]
  },
  {
   "cell_type": "markdown",
   "metadata": {},
   "source": [
    "\n",
    "![Cython](cython.png)\n",
    "\n",
    "# Cython extension\n",
    "\n",
    "## First, the Cython wrapper\n"
   ]
  },
  {
   "cell_type": "code",
   "execution_count": null,
   "metadata": {
    "collapsed": true
   },
   "outputs": [],
   "source": [
    "# my_analysis_wrapper.pyx\n",
    "\n",
    "import numpy as np\n",
    "cimport numpy as np\n",
    "\n",
    "from libcpp.vector cimport vector\n",
    "\n",
    "cdef extern from \"my_analysis.h\":\n",
    "    vector[float] process_vector(vector[float] &, int, int, int, int)\n",
    "    \n",
    "def process_using_vectors(data):\n",
    "    # Save the dimensions of the data because we're going to flatten it to 1D array\n",
    "    # Should be checking the dimensions at this point!\n",
    "    nx, ny, nz, nt = data.shape\n",
    "\n",
    "    # Convert data to 1D in Column-major (Fortran) order\n",
    "    # This always copies the data\n",
    "    data = data.flatten(order='F').astype(np.float32)\n",
    "\n",
    "    # This line is just so we can see if the data is being copied\n",
    "    print(\"In python the input data starts at %X\" % data.__array_interface__['data'][0])\n",
    "\n",
    "    # Call the C++ code\n",
    "    output = process_vectors(data, nx, ny, nz, nt)\n",
    "\n",
    "    # Output is a 1D array in Fortran order - turn it back into a multidimensional array\n",
    "    # This should not copy the data\n",
    "    output = np.reshape(output, [nx, ny, nz, nt], order='F')\n",
    "    print(\"In python the reshaped data starts at %X\" % output.__array_interface__['data'][0])\n",
    "    \n",
    "    return output\n",
    "    "
   ]
  },
  {
   "cell_type": "markdown",
   "metadata": {},
   "source": [
    "        \n",
    "## Next, build the extension\n",
    "\n",
    "This would normally go in `setup.py`\n"
   ]
  },
  {
   "cell_type": "code",
   "execution_count": null,
   "metadata": {},
   "outputs": [],
   "source": [
    "import os\n",
    "import sys\n",
    "import numpy\n",
    "\n",
    "from setuptools import setup\n",
    "from Cython.Build import cythonize\n",
    "from setuptools.extension import Extension\n",
    "\n",
    "# My Cython extension\n",
    "fsldir = os.environ[\"FSLDIR\"]\n",
    "\n",
    "ext = Extension(\"my_analysis_wrapper\",\n",
    "                 sources=['my_analysis_wrapper.pyx',\n",
    "                          'my_analysis.cpp'],\n",
    "                 language=\"c++\",\n",
    "                 include_dirs=[\".\", numpy.get_include(), \n",
    "                               os.path.join(fsldir, \"include\"), \n",
    "                               os.path.join(fsldir, \"extras/include\"), \n",
    "                               os.path.join(fsldir, \"extras/include/newmat\")], \n",
    "                 libraries=['newimage', 'miscmaths', 'fslio', 'niftiio', 'newmat', 'znz', \"zlib\"],\n",
    "                 library_dirs=[os.path.join(fsldir, \"lib\"), os.path.join(fsldir, \"extras/lib\")])\n",
    "\n",
    "# setup parameters\n",
    "setup(name='my_app',\n",
    "      description='My Python application which calls C++',\n",
    "      ext_modules=cythonize(ext))"
   ]
  },
  {
   "cell_type": "code",
   "execution_count": 1,
   "metadata": {},
   "outputs": [
    {
     "name": "stdout",
     "output_type": "stream",
     "text": [
      "running build_ext\n",
      "copying build\\lib.win-amd64-2.7\\my_analysis_wrapper.pyd -> \n"
     ]
    }
   ],
   "source": [
    "%run setup.py build_ext"
   ]
  },
  {
   "cell_type": "code",
   "execution_count": 2,
   "metadata": {},
   "outputs": [
    {
     "data": {
      "image/png": "[encoded data removed]",
      "text/plain": [
       "<matplotlib.figure.Figure at 0x8d4a6d8>"
      ]
     },
     "metadata": {},
     "output_type": "display_data"
    },
    {
     "name": "stdout",
     "output_type": "stream",
     "text": [
      "In python the input data starts at A55A980\n",
      "In C++ the input vector starts at address 000000000A87D5A0\n",
      "\n",
      "In python the reshaped data starts at A6B2040\n"
     ]
    },
    {
     "data": {
      "image/png": "[encoded data removed]",
      "text/plain": [
       "<matplotlib.figure.Figure at 0x9ab35f8>"
      ]
     },
     "metadata": {},
     "output_type": "display_data"
    }
   ],
   "source": [
    "import numpy\n",
    "import my_analysis_wrapper\n",
    "import matplotlib.pyplot as plt\n",
    "\n",
    "data = numpy.random.rand(10, 10, 10, 10)\n",
    "\n",
    "plt.imshow(data[:,:,5,5])\n",
    "plt.show()\n",
    "\n",
    "output = my_analysis_wrapper.process_with_vectors(data)\n",
    "plt.imshow(output[:,:,5,5])\n",
    "plt.show()\n"
   ]
  },
  {
   "cell_type": "markdown",
   "metadata": {},
   "source": [
    "# Great, it worked\n",
    "\n",
    "## But we did copy our data  - several times\n",
    "\n",
    " - We copied the input once in Python to flatten it in the right order\n",
    " - Cython copied it again, because the pointer to the memory in the `vector` is different from the pointer to the data in the Numpy array.\n",
    " - Similarly, converting the output `vector` back to a Numpy array would involve a copy\n",
    " \n",
    "\n",
    "## Do we care?\n",
    "\n",
    "It depends on:\n",
    "\n",
    " - Is the processing time per-voxel much greater than the data copying time?\n",
    "   - If so, copying will not add significant overhead\n",
    " - Might the data be comparable in size to system memory?\n",
    "   - If so, copying may result in swapping and significant slowness\n",
    "   \n",
    "\n"
   ]
  },
  {
   "cell_type": "markdown",
   "metadata": {},
   "source": [
    "# Solution with less copying\n",
    "\n",
    "We can't use a `vector`, it needs to be free to manage its own memory, not use an existing fixed buffer.\n",
    "\n",
    "Instead pass a pure C array:"
   ]
  },
  {
   "cell_type": "markdown",
   "metadata": {},
   "source": [
    "\n",
    "    void process_array(float *input, int nx, int ny, int nz, int nt)\n",
    "    {\n",
    "        cerr << \"In C++ the input array starts at address \" << input << std::endl;\n",
    "\n",
    "        NEWIMAGE::volume4D<float> invol(nx, ny, nz, nt, input);\n",
    "\n",
    "        process_volume(invol);\n",
    "        \n",
    "        // Volume data buffer is modified directly, so provided it was not copied\n",
    "        // we should be able to see the output directly in Python   \n",
    "    }\n"
   ]
  },
  {
   "cell_type": "markdown",
   "metadata": {},
   "source": [
    " - Note that we cannot check the size of the `input` buffer! It had better be correct"
   ]
  },
  {
   "cell_type": "code",
   "execution_count": null,
   "metadata": {},
   "outputs": [],
   "source": [
    "# my_analysis_wrapper.pyx\n",
    "\n",
    "import numpy as np\n",
    "cimport numpy as np\n",
    "\n",
    "from libcpp.vector cimport vector\n",
    "\n",
    "cdef extern from \"my_analysis.h\":\n",
    "    void process_array(float *, int, int, int, int)\n",
    "\n",
    "def process_c(np.ndarray[np.float32_t, ndim=1] input,\n",
    "              nx, ny, nz, nt):\n",
    "    process_array(&input[0], nx, ny, nz, nt)\n",
    "\n",
    "def process_with_arrays(data):\n",
    "    # Save the dimension of the data because we're going to flatten it to 1D array\n",
    "    nx, ny, nz, nt = data.shape\n",
    "\n",
    "    # Convert data to 1D in Column-major (Fortran) order\n",
    "    data = data.flatten(order='F').astype(np.float32)\n",
    "\n",
    "    print(\"In python the data starts at %X\" % data.__array_interface__['data'][0])\n",
    "\n",
    "    process_c(data, nx, ny, nz, nt)\n",
    "\n",
    "    data = np.reshape(data, [nx, ny, nz, nt], order='F')\n",
    "    print(\"In python the reshaped data starts at %X\" % data.__array_interface__['data'][0])\n",
    "    \n",
    "    return data\n"
   ]
  },
  {
   "cell_type": "code",
   "execution_count": 3,
   "metadata": {},
   "outputs": [
    {
     "data": {
      "image/png": "[encoded data removed]",
      "text/plain": [
       "<matplotlib.figure.Figure at 0xa4908d0>"
      ]
     },
     "metadata": {},
     "output_type": "display_data"
    },
    {
     "name": "stdout",
     "output_type": "stream",
     "text": [
      "In python the data starts at A870040\n",
      "In C++ the input array starts at address 000000000A870040\n",
      "\n",
      "In python the reshaped data starts at A870040\n"
     ]
    },
    {
     "data": {
      "image/png": "[encoded data removed]",
      "text/plain": [
       "<matplotlib.figure.Figure at 0xaa4b128>"
      ]
     },
     "metadata": {},
     "output_type": "display_data"
    }
   ],
   "source": [
    "import numpy\n",
    "import my_analysis_wrapper\n",
    "\n",
    "plt.imshow(data[:,:,5,5])\n",
    "plt.show()\n",
    "\n",
    "output = my_analysis_wrapper.process_with_arrays(data)\n",
    "plt.imshow(output[:,:,5,5])\n",
    "plt.show()\n"
   ]
  },
  {
   "cell_type": "markdown",
   "metadata": {},
   "source": [
    " - We copied our input data once when we flattened it into Fortran order\n",
    " - C++ code operated directly on that buffer\n",
    " - Output data was not copied when reshaped "
   ]
  },
  {
   "cell_type": "markdown",
   "metadata": {},
   "source": [
    "# Summary\n",
    "\n",
    " - Easy-ish recipe for passing Numpy arrays to C++ either as a `std::vector` or as a `float *` array.\n",
    " - Can construct `NEWIMAGE::volume<float>` or other complex containers from within C++\n",
    " - Easy modification to instead use `double` array\n",
    " - Can pass Python strings to `C++ std::string` and other C++ containers in a similar way\n",
    "\n"
   ]
  },
  {
   "cell_type": "markdown",
   "metadata": {},
   "source": [
    "# Alternatives (Briefly!)\n",
    "\n",
    "## Why?\n",
    "\n",
    "![Compatibility](cython_compat1.png)\n",
    "\n",
    "## Can we assume that our newly compiled Cython/C++ code will link correctly with `libnewimage.a`?\n",
    "\n",
    " - Often, yes, but in general, no\n",
    " - It depends on the compiler used for each - ideally they need to match\n",
    " - The compiler of your Cython extension is **fixed** by the version of Python you are using\n",
    " - Might need to recompile your dependency libraries with this compiler\n",
    " - If you can't do this (e.g. commercial binary) you may be **stuck**"
   ]
  },
  {
   "cell_type": "markdown",
   "metadata": {},
   "source": [
    "## Three common problem scenarios\n",
    "\n",
    " - On Mac, need to use the same C++ standard library (either `libc++` or `libstdc++`)\n",
    " - On Python 2, C++ compiler will be very old (may not support all of C++11)\n",
    " - On Windows, no two versions of VC++ are binary compatible\n",
    " "
   ]
  },
  {
   "cell_type": "markdown",
   "metadata": {},
   "source": [
    "# Alternative approach where this is a problem\n",
    "\n",
    " - Make your code a shared library with a *Pure C* API\n",
    " - Use `ctypes`\n",
    " \n",
    "## `ctypes`\n",
    "\n",
    " - Part of Python standard library\n",
    " - Allows you to call library functions from 'C' shared library (not C++)\n",
    " - **Pure 'C' libraries are (generally) binary compatible on a given platform**\n",
    " - We have to load the library manually\n",
    " - We have to tell Python about the input and return types\n",
    " "
   ]
  },
  {
   "cell_type": "markdown",
   "metadata": {},
   "source": [
    "# Pure 'C' API for our processing function\n",
    "\n",
    "    // my_analysis_purec.h\n",
    "\n",
    "    #ifdef __cplusplus\n",
    "    extern \"C\" {\n",
    "    #endif\n",
    "    \n",
    "    void process_array(float *input, int nx, int ny, int nz, int nt);\n",
    "    \n",
    "    #ifdef __cplusplus\n",
    "    }\n",
    "    #endif\n",
    "    \n"
   ]
  },
  {
   "cell_type": "markdown",
   "metadata": {},
   "source": [
    " - Note need to use `extern \"C\" { }` if we may want to include this header from C++\n",
    " - **On Windows, additional code is required to make the shared library (DLL) link correctly!**\n",
    " - Note that the implementation *can* use C++"
   ]
  },
  {
   "cell_type": "code",
   "execution_count": null,
   "metadata": {
    "collapsed": true
   },
   "outputs": [],
   "source": [
    "import ctypes import CDLL, c_int, c_char_p\n",
    "import numpy as np\n",
    "import numpy.ctypeslib\n",
    "\n",
    "def process_ctypes(data):\n",
    "    \n",
    "    clib = ctypes.cdll.LoadLibrary(\"libmy_analysis.so\")\n",
    "\n",
    "    # This is the data type of a 1-D Numpy array\n",
    "    c_float_arr = numpy.ctypeslib.ndpointer(dtype=np.float32, ndim=1, flags='CONTIGUOUS')\n",
    "\n",
    "    # This specifies the argument types for the 'process_array' function\n",
    "    # This is not actually required but enables ctypes to do some error checking\n",
    "    clib.process_array.argtypes = [c_float_arr, c_int, c_int, c_int, c_int]\n",
    "\n",
    "    # Put the Numpy data into row-major order and make sure it is contiguous in memory\n",
    "    item = np.ascontiguousarray(item.flatten(order='F'), dtype=np.float32)\n",
    "    \n",
    "    clib.process_carray(data, shape[0], shape[1], shape[2], shape[3])\n"
   ]
  },
  {
   "cell_type": "markdown",
   "metadata": {},
   "source": [
    "# Comparison with Cython\n",
    "\n",
    "## Cython advantages\n",
    "\n",
    " - Python wrapper is probably a little quicker and cleaner to write\n",
    " - Don't need to produce a new pure-C API provided we have an entry point using C++ types\n",
    " - Potential for better error-checking\n",
    " - Might integrate well if you are already using Cython\n",
    " - No need to build a shared library\n",
    " \n",
    "## `ctypes` advantages\n",
    "\n",
    " - Part of the Python standard library\n",
    " - No additional compile step in `setup.py`\n",
    " - Binary compatibility - no need to be tied to a single (perhaps old) C++ compiler\n",
    " \n",
    "## Conclusion?\n",
    "\n",
    " - Use Cython when you can, `ctypes` if you have to\n",
    " "
   ]
  },
  {
   "cell_type": "markdown",
   "metadata": {},
   "source": [
    "# Other alternatives (briefly for completeness)\n",
    "\n",
    "## Wrapper Generators (SWIG, shiboken, others)\n",
    "\n",
    " - Run a preprocessor on your C++ code to generate an 'automatic' Python wrapper\n",
    " - Generally need to write an 'interface specifier' for each C++ header to describe how it interfaces to Python\n",
    " - Great when you have a large, complex C++ API which needs to be consistently exposed to Python (e.g. wx/wxpython, QT/PyQT)\n",
    " - SWIG can support other languages as well as Python\n",
    " - Probably more work than Cython/ctypes if you have a single simple API\n"
   ]
  },
  {
   "cell_type": "markdown",
   "metadata": {},
   "source": [
    "## Just Wrap the Command Line\n",
    "\n",
    " - Quick and dirty\n",
    " - Copies all data to/from filesystem\n",
    " - Need to go via command line API, create temp directories, etc\n",
    " - Don't overlook as a way of getting started - can move to other solution later\n",
    " \n"
   ]
  },
  {
   "cell_type": "code",
   "execution_count": 4,
   "metadata": {},
   "outputs": [
    {
     "data": {
      "image/png": "[encoded data removed]",
      "text/plain": [
       "<matplotlib.figure.Figure at 0xb047588>"
      ]
     },
     "metadata": {},
     "output_type": "display_data"
    },
    {
     "data": {
      "image/png": "[encoded data removed]",
      "text/plain": [
       "<matplotlib.figure.Figure at 0xb0de518>"
      ]
     },
     "metadata": {},
     "output_type": "display_data"
    }
   ],
   "source": [
    "import os\n",
    "import tempfile\n",
    "import subprocess\n",
    "import tempfile\n",
    "import shutil\n",
    "\n",
    "import numpy as np\n",
    "import nibabel as nib\n",
    "os.environ[\"FSLOUTPUTTYPE\"] = \"NIFTI_GZ\"\n",
    "\n",
    "def binarise(data):\n",
    "    # Remember the directory where we started\n",
    "    cwd_orig = os.getcwd()\n",
    "    try:\n",
    "        # Create a temporary directory\n",
    "        tempdir = tempfile.mkdtemp(\"fsl\")\n",
    "        \n",
    "        # Save input data in temp directory\n",
    "        os.chdir(tempdir)\n",
    "        tmpin = nib.Nifti1Image(data, np.identity(4))\n",
    "        tmpin.to_filename(\"in.nii.gz\")\n",
    "        \n",
    "        # Run a command from $FSLDIR\n",
    "        fslmaths = os.path.join(os.environ[\"FSLDIR\"], \"bin\", \"fslmaths\")\n",
    "        \n",
    "        # We could use os.system here if we don't care about returning the stdout/stderr\n",
    "        p = subprocess.Popen([fslmaths, \"in.nii.gz\", \"-thr\", \"0.5\", \"-bin\", \"out.nii.gz\"], \n",
    "                             stdout=subprocess.PIPE, stderr=subprocess.STDOUT)\n",
    "        cmd_stdout = \"\"\n",
    "        while 1:\n",
    "            retcode = p.poll()\n",
    "            cmd_stdout += p.stdout.readline()\n",
    "            if retcode is not None: break\n",
    "        if retcode != 0:\n",
    "            raise RuntimeError(\"Error: %s\" % cmd_stdout)\n",
    "        \n",
    "        # Load the output file and return it with the command standard output\n",
    "        out_nii = nib.load(\"out.nii.gz\")\n",
    "        return out_nii.get_data(), cmd_stdout\n",
    "    finally:\n",
    "        # Change back to our starting directory\n",
    "        os.chdir(cwd_orig)\n",
    "\n",
    "data = np.random.rand(10, 10, 10, 10)\n",
    "plt.imshow(data[:,:,5,5])\n",
    "plt.show()\n",
    "\n",
    "output, stdout = binarise(data)\n",
    "plt.imshow(output[:,:,5,5])\n",
    "plt.show()\n",
    "\n"
   ]
  },
  {
   "cell_type": "markdown",
   "metadata": {},
   "source": [
    "# Summary\n",
    "\n",
    "## What we've done\n",
    "\n",
    " - It's not that hard to call existing C++ code from Python\n",
    " - Need to be a bit careful with Numpy arrays\n",
    " - Cython is probably the easiest method\n",
    " - Data copying can be minimised by passing data as C arrays (`float *` etc)\n",
    " - `ctypes` may be a good alternative if you have binary compatibility issues\n",
    " - Can always wrap a command line tool as a way of getting started!\n",
    " \n",
    " \n",
    " "
   ]
  },
  {
   "cell_type": "code",
   "execution_count": null,
   "metadata": {
    "collapsed": true
   },
   "outputs": [],
   "source": []
  }
 ],
 "metadata": {
  "kernelspec": {
   "display_name": "Python 2",
   "language": "python",
   "name": "python2"
  },
  "language_info": {
   "codemirror_mode": {
    "name": "ipython",
    "version": 2
   },
   "file_extension": ".py",
   "mimetype": "text/x-python",
   "name": "python",
   "nbconvert_exporter": "python",
   "pygments_lexer": "ipython2",
   "version": "2.7.14"
  }
 },
 "nbformat": 4,
 "nbformat_minor": 2
}
