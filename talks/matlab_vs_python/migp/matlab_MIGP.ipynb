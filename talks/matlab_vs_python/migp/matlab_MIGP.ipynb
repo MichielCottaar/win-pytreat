{
 "cells": [
  {
   "cell_type": "code",
   "execution_count": null,
   "metadata": {},
   "outputs": [],
   "source": [
    "from nilearn import plotting\n",
    "from nilearn import image\n",
    "import nibabel as nb\n",
    "import matplotlib.pyplot as plt\n",
    "import numpy as np"
   ]
  },
  {
   "cell_type": "code",
   "execution_count": null,
   "metadata": {},
   "outputs": [],
   "source": [
    "%%bash\n",
    "\n",
    "melodic -i matMIGP.nii.gz \\\n",
    "\t--mask=data/brain_mask.nii.gz \\\n",
    "\t-d 20 \\\n",
    "\t-v \\\n",
    "\t--nobet \\\n",
    "\t--disableMigp \\\n",
    "\t--varnorm \\\n",
    "\t-o matMIGP_dim20.ica"
   ]
  },
  {
   "cell_type": "code",
   "execution_count": null,
   "metadata": {},
   "outputs": [],
   "source": [
    "ics = nb.load('matMIGP_dim20.ica/melodic_IC.nii.gz')\n",
    "\n",
    "N = ics.shape[-1]\n",
    "\n",
    "fig, ax = plt.subplots(int(np.ceil((N/2))),2, figsize=(12, N))\n",
    "\n",
    "for img, ax0 in zip(image.iter_img(ics), ax.ravel()):\n",
    "    coord = plotting.find_xyz_cut_coords(img, activation_threshold=2.3)\n",
    "    plotting.plot_stat_map(img, cut_coords=coord, vmax=5, axes=ax0)"
   ]
  },
  {
   "cell_type": "code",
   "execution_count": null,
   "metadata": {},
   "outputs": [],
   "source": []
  }
 ],
 "metadata": {
  "kernelspec": {
   "display_name": "Python 3",
   "language": "python",
   "name": "python3"
  },
  "language_info": {
   "codemirror_mode": {
    "name": "ipython",
    "version": 3
   },
   "file_extension": ".py",
   "mimetype": "text/x-python",
   "name": "python",
   "nbconvert_exporter": "python",
   "pygments_lexer": "ipython3",
   "version": "3.7.4"
  }
 },
 "nbformat": 4,
 "nbformat_minor": 4
}
