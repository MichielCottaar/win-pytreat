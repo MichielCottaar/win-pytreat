{
 "cells": [
  {
   "cell_type": "markdown",
   "metadata": {},
   "source": [
    "# Main scientific python libraries\n",
    "See https://scipy.org/\n",
    "\n",
    "Most of these packages have or are in the progress of dropping support for python2.\n",
    "So use python3!\n",
    "\n",
    "## [Numpy](http://www.numpy.org/): arrays\n",
    "This is the main library underlying (nearly) all of the scientific python ecosystem.\n",
    "See the tutorial in the beginner session or [the official numpy tutorial](https://docs.scipy.org/doc/numpy-dev/user/quickstart.html) for usage details.\n",
    "\n",
    "The usual nickname of numpy is np:"
   ]
  },
  {
   "cell_type": "code",
   "execution_count": null,
   "metadata": {},
   "outputs": [],
   "source": [
    "import numpy as np"
   ]
  },
  {
   "cell_type": "markdown",
   "metadata": {},
   "source": [
    "Numpy includes support for:\n",
    "- N-dimensional arrays with various datatypes\n",
    "  - masked arrays\n",
    "  - matrices\n",
    "  - structured/record array\n",
    "- basic functions (e.g., sin, log, arctan, polynomials)\n",
    "- basic linear algebra\n",
    "- random number generation\n",
    "\n",
    "## [Scipy](https://scipy.org/scipylib/index.html): most general scientific tools\n",
    "At the top level this module includes all of the basic functionality from numpy.\n",
    "You could import this as, but you might as well import numpy directly."
   ]
  },
  {
   "cell_type": "code",
   "execution_count": null,
   "metadata": {},
   "outputs": [],
   "source": [
    "import scipy as sp"
   ]
  },
  {
   "cell_type": "markdown",
   "metadata": {},
   "source": [
    "The main strength in scipy lies in its sub-packages:"
   ]
  },
  {
   "cell_type": "code",
   "execution_count": null,
   "metadata": {},
   "outputs": [],
   "source": [
    "from scipy import optimize\n",
    "def costfunc(params):\n",
    "    return params[0] ** 2 * (params[1] - 3) ** 2 + (params[0] - 2) ** 2\n",
    "optimize.minimize(costfunc, x0=[0, 0], method='l-bfgs-b')"
   ]
  },
  {
   "cell_type": "markdown",
   "metadata": {},
   "source": [
    "Tutorials for all sub-packages can be found [here](https://docs.scipy.org/doc/scipy-1.0.0/reference/).\n",
    "\n",
    "## [Matplotlib](https://matplotlib.org/): Main plotting library"
   ]
  },
  {
   "cell_type": "code",
   "execution_count": null,
   "metadata": {},
   "outputs": [],
   "source": [
    "import matplotlib as mpl\n",
    "mpl.use('nbagg')\n",
    "import matplotlib.pyplot as plt"
   ]
  },
  {
   "cell_type": "markdown",
   "metadata": {},
   "source": [
    "The matplotlib tutorials are [here](https://matplotlib.org/tutorials/index.html)"
   ]
  },
  {
   "cell_type": "code",
   "execution_count": null,
   "metadata": {},
   "outputs": [],
   "source": [
    "x = np.linspace(0, 2, 100)\n",
    "\n",
    "plt.plot(x, x, label='linear')\n",
    "plt.plot(x, x**2, label='quadratic')\n",
    "plt.plot(x, x**3, label='cubic')\n",
    "\n",
    "plt.xlabel('x label')\n",
    "plt.ylabel('y label')\n",
    "\n",
    "plt.title(\"Simple Plot\")\n",
    "\n",
    "plt.legend()\n",
    "\n",
    "plt.show()"
   ]
  },
  {
   "cell_type": "markdown",
   "metadata": {},
   "source": [
    "Alternatives:\n",
    "- [Mayavi](http://docs.enthought.com/mayavi/mayavi/): 3D plotting (hard to install)\n",
    "- [Bokeh](https://bokeh.pydata.org/en/latest/) among many others: interactive plots in the browser (i.e., in javascript)\n",
    "\n",
    "## [Ipython](http://ipython.org/)/[Jupyter](https://jupyter.org/) notebook: interactive python environments\n",
    "There are many [useful extensions available](https://github.com/ipython-contrib/jupyter_contrib_nbextensions).\n",
    "\n",
    "## [Pandas](https://pandas.pydata.org/): Analyzing \"clean\" data\n",
    "Once your data is in tabular form (e.g. Biobank IDP's), you want to use pandas dataframes to analyze them.\n",
    "This brings most of the functionality of R into python.\n",
    "Pandas has excellent support for:\n",
    "- fast IO to many tabular formats\n",
    "- accurate handling of missing data\n",
    "- Many, many routines to handle data\n",
    "  - group by categorical data (i.e., male/female, or age groups)\n",
    "  - joining/merging data\n",
    "  - time series support\n",
    "- statistical models through [statsmodels](http://www.statsmodels.org/stable/index.html)\n",
    "- plotting though seaborn [seaborn](https://seaborn.pydata.org/)\n",
    "- Use [dask](https://dask.pydata.org/en/latest/) if your data is too big for memory (or if you want to run in parallel)\n",
    "\n",
    "You should also install `numexpr` and `bottleneck` for optimal performance.\n",
    "\n",
    "For the documentation check [here](http://pandas.pydata.org/pandas-docs/stable/index.html)\n",
    "\n",
    "### Adjusted example from statsmodels tutorial"
   ]
  },
  {
   "cell_type": "code",
   "execution_count": null,
   "metadata": {},
   "outputs": [],
   "source": [
    "import statsmodels.api as sm\n",
    "import statsmodels.formula.api as smf\n",
    "import numpy as np"
   ]
  },
  {
   "cell_type": "code",
   "execution_count": null,
   "metadata": {},
   "outputs": [],
   "source": [
    "df = sm.datasets.get_rdataset(\"Guerry\", \"HistData\").data\n",
    "df"
   ]
  },
  {
   "cell_type": "code",
   "execution_count": null,
   "metadata": {},
   "outputs": [],
   "source": [
    "df.describe()"
   ]
  },
  {
   "cell_type": "code",
   "execution_count": null,
   "metadata": {},
   "outputs": [],
   "source": [
    "df.groupby('Region').mean()"
   ]
  },
  {
   "cell_type": "code",
   "execution_count": null,
   "metadata": {},
   "outputs": [],
   "source": [
    "results = smf.ols('Lottery ~ Literacy + np.log(Pop1831)', data=df).fit()\n",
    "results.summary()"
   ]
  },
  {
   "cell_type": "code",
   "execution_count": null,
   "metadata": {},
   "outputs": [],
   "source": [
    "df['log_pop'] = np.log(df.Pop1831)\n",
    "df"
   ]
  },
  {
   "cell_type": "code",
   "execution_count": null,
   "metadata": {},
   "outputs": [],
   "source": [
    "results = smf.ols('Lottery ~ Literacy + log_pop', data=df).fit()\n",
    "results.summary()"
   ]
  },
  {
   "cell_type": "code",
   "execution_count": null,
   "metadata": {},
   "outputs": [],
   "source": [
    "results = smf.ols('Lottery ~ Literacy + np.log(Pop1831) + Region', data=df).fit()\n",
    "results.summary()"
   ]
  },
  {
   "cell_type": "code",
   "execution_count": null,
   "metadata": {},
   "outputs": [],
   "source": [
    "results = smf.ols('Lottery ~ Literacy + np.log(Pop1831) + Region + Region * Literacy', data=df).fit()\n",
    "results.summary()"
   ]
  },
  {
   "cell_type": "code",
   "execution_count": null,
   "metadata": {},
   "outputs": [],
   "source": [
    "%matplotlib nbagg\n",
    "import seaborn as sns\n",
    "sns.pairplot(df, hue=\"Region\", vars=('Lottery', 'Literacy', 'log_pop'))"
   ]
  },
  {
   "cell_type": "markdown",
   "metadata": {},
   "source": [
    "## [Sympy](http://www.sympy.org/en/index.html): Symbolic programming"
   ]
  },
  {
   "cell_type": "code",
   "execution_count": null,
   "metadata": {},
   "outputs": [],
   "source": [
    "import sympy as sym  # no standard nickname"
   ]
  },
  {
   "cell_type": "code",
   "execution_count": null,
   "metadata": {},
   "outputs": [],
   "source": [
    "x, a, b, c = sym.symbols('x, a, b, c')\n",
    "sym.solve(a * x ** 2 + b * x + c, x)"
   ]
  },
  {
   "cell_type": "code",
   "execution_count": null,
   "metadata": {},
   "outputs": [],
   "source": [
    "sym.integrate(x/(x**2+a*x+2), x)"
   ]
  },
  {
   "cell_type": "code",
   "execution_count": null,
   "metadata": {},
   "outputs": [],
   "source": [
    "f = sym.utilities.lambdify((x, a), sym.integrate((x**2+a*x+2), x))\n",
    "f(np.random.rand(10), np.random.rand(10))"
   ]
  },
  {
   "cell_type": "markdown",
   "metadata": {},
   "source": [
    "# Other topics\n",
    "## [Argparse](https://docs.python.org/3.6/howto/argparse.html): Command line arguments"
   ]
  },
  {
   "cell_type": "code",
   "execution_count": null,
   "metadata": {},
   "outputs": [],
   "source": [
    "%%writefile test_argparse.py\n",
    "import argparse\n",
    "\n",
    "def main():\n",
    "    parser = argparse.ArgumentParser(description=\"calculate X to the power of Y\")\n",
    "    parser.add_argument(\"-v\", \"--verbose\", action=\"store_true\")\n",
    "    parser.add_argument(\"x\", type=int, help=\"the base\")\n",
    "    parser.add_argument(\"y\", type=int, help=\"the exponent\")\n",
    "    args = parser.parse_args()\n",
    "    answer = args.x**args.y\n",
    "\n",
    "    if args.verbose:\n",
    "        print(\"{} to the power {} equals {}\".format(args.x, args.y, answer))\n",
    "    else:\n",
    "        print(\"{}^{} == {}\".format(args.x, args.y, answer))\n",
    "\n",
    "if __name__ == '__main__':\n",
    "    main()"
   ]
  },
  {
   "cell_type": "code",
   "execution_count": null,
   "metadata": {},
   "outputs": [],
   "source": [
    "%run test_argparse.py 3 8 -v"
   ]
  },
  {
   "cell_type": "code",
   "execution_count": null,
   "metadata": {},
   "outputs": [],
   "source": [
    "%run test_argparse.py -h"
   ]
  },
  {
   "cell_type": "code",
   "execution_count": null,
   "metadata": {},
   "outputs": [],
   "source": [
    "%run test_argparse.py 3 8.5 -q"
   ]
  },
  {
   "cell_type": "markdown",
   "metadata": {},
   "source": [
    "Alternatives:\n",
    "- [docopt](http://docopt.org/): You write a usage string, docopt will generate the parser\n",
    "> ```\n",
    "> # example from https://realpython.com/blog/python/comparing-python-command-line-parsing-libraries-argparse-docopt-click/\n",
    "> \"\"\"Greeter.\n",
    ">\n",
    "> Usage:\n",
    ">   commands.py hello\n",
    ">   commands.py goodbye\n",
    ">   commands.py -h | --help\n",
    ">\n",
    "> Options:\n",
    ">   -h --help     Show this screen.\n",
    "> \"\"\"\n",
    "> from docopt import docopt\n",
    ">\n",
    "> if __name__ == '__main__':\n",
    ">     arguments = docopt(__doc__)\n",
    "> ```\n",
    "- [clize](http://clize.readthedocs.io/en/stable/why.html): You write a function, clize will generate the parser\n",
    "> ```\n",
    "> from clize import run\n",
    ">\n",
    "> def echo(word):\n",
    ">     return word\n",
    ">\n",
    "> if __name__ == '__main__':\n",
    ">     run(echo)\n",
    "> ```\n",
    "\n",
    "### [Gooey](https://github.com/chriskiehl/Gooey): GUI from command line tool"
   ]
  },
  {
   "cell_type": "code",
   "execution_count": null,
   "metadata": {},
   "outputs": [],
   "source": [
    "%%writefile test_gooey.py\n",
    "import argparse\n",
    "from gooey import Gooey\n",
    "\n",
    "@Gooey\n",
    "def main():\n",
    "    parser = argparse.ArgumentParser(description=\"calculate X to the power of Y\")\n",
    "    parser.add_argument(\"-v\", \"--verbose\", action=\"store_true\")\n",
    "    parser.add_argument(\"x\", type=int, help=\"the base\")\n",
    "    parser.add_argument(\"y\", type=int, help=\"the exponent\")\n",
    "    args = parser.parse_args()\n",
    "    answer = args.x**args.y\n",
    "\n",
    "    if args.verbose:\n",
    "        print(\"{} to the power {} equals {}\".format(args.x, args.y, answer))\n",
    "    else:\n",
    "        print(\"{}^{} == {}\".format(args.x, args.y, answer))\n",
    "\n",
    "if __name__ == '__main__':\n",
    "    main()"
   ]
  },
  {
   "cell_type": "code",
   "execution_count": null,
   "metadata": {},
   "outputs": [],
   "source": [
    "%run test_gooey.py"
   ]
  },
  {
   "cell_type": "code",
   "execution_count": null,
   "metadata": {},
   "outputs": [],
   "source": [
    "!gcoord_gui"
   ]
  },
  {
   "cell_type": "markdown",
   "metadata": {},
   "source": [
    "## [Jinja2](http://jinja.pocoo.org/docs/2.10/): Templating language\n",
    "Jinja2 allows to create templates of files with placeholders, where future content will go.\n",
    "This allows for the creation of a large number of similar files.\n",
    "\n",
    "This can for example be used to produce static HTML output in a highly flexible manner."
   ]
  },
  {
   "cell_type": "code",
   "execution_count": null,
   "metadata": {},
   "outputs": [],
   "source": [
    "%%writefile image_list.jinja2\n",
    "<!DOCTYPE html>\n",
    "<html lang=\"en\">\n",
    "<head>\n",
    "    {% block head %}\n",
    "    <title>{{ title }}</title>\n",
    "    {% endblock %}\n",
    "</head>\n",
    "<body>\n",
    "    <div id=\"content\">\n",
    "        {% block content %}\n",
    "            {% for description, filenames in images %}\n",
    "                <p>\n",
    "                    {{ description }}\n",
    "                </p>\n",
    "                {% for filename in filenames %}\n",
    "                    <a href=\"{{ filename }}\">\n",
    "                        <img src=\"{{ filename }}\">\n",
    "                    </a>\n",
    "                {% endfor %}\n",
    "            {% endfor %}\n",
    "        {% endblock %}\n",
    "    </div>\n",
    "    <footer>\n",
    "        Created on {{ time }}\n",
    "    </footer>\n",
    "</body>\n",
    "</html>"
   ]
  },
  {
   "cell_type": "code",
   "execution_count": null,
   "metadata": {},
   "outputs": [],
   "source": [
    "def plot_sine(amplitude, frequency):\n",
    "    x = np.linspace(0, 2 * np.pi, 100)\n",
    "    y = amplitude * np.sin(frequency * x)\n",
    "    plt.plot(x, y)\n",
    "    plt.xticks([0, np.pi, 2 * np.pi], ['0', '$\\pi$', '$2 \\pi$'])\n",
    "    plt.ylim(-1.1, 1.1)\n",
    "    filename = 'plots/A{:.2f}_F{:.2f}.png'.format(amplitude, frequency)\n",
    "    plt.title('A={:.2f}, F={:.2f}'.format(amplitude, frequency))\n",
    "    plt.savefig(filename)\n",
    "    plt.close(plt.gcf())\n",
    "    return filename\n",
    "\n",
    "!mkdir plots\n",
    "amplitudes = [plot_sine(A, 1.) for A in [0.1, 0.3, 0.7, 1.0]]\n",
    "frequencies = [plot_sine(1., F) for F in [1, 2, 3, 4, 5, 6]]"
   ]
  },
  {
   "cell_type": "code",
   "execution_count": null,
   "metadata": {},
   "outputs": [],
   "source": [
    "from jinja2 import Environment, FileSystemLoader\n",
    "from datetime import datetime\n",
    "loader = FileSystemLoader('.')\n",
    "env = Environment(loader=loader)\n",
    "template = env.get_template('image_list.jinja2')\n",
    "\n",
    "images = [\n",
    "    ('Varying the amplitude', amplitudes),\n",
    "    ('Varying the frequency', frequencies),\n",
    "]\n",
    "\n",
    "with open('image_list.html', 'w') as f:\n",
    "    f.write(template.render(title='Lots of sines',\n",
    "                            images=images, time=datetime.now()))"
   ]
  },
  {
   "cell_type": "code",
   "execution_count": null,
   "metadata": {},
   "outputs": [],
   "source": [
    "!open image_list.html"
   ]
  },
  {
   "cell_type": "markdown",
   "metadata": {},
   "source": [
    "## Neuroimage packages\n",
    "The [nipy](http://nipy.org/) ecosystem covers most of these.\n",
    "\n",
    "## [networkx](https://networkx.github.io/): graph theory\n",
    "\n",
    "## GUI\n",
    "- [tkinter](https://docs.python.org/3.6/library/tkinter.html): thin wrapper around Tcl/Tk; included in python\n",
    "- [wxpython](https://www.wxpython.org/): Wrapper around the C++ wxWidgets library"
   ]
  },
  {
   "cell_type": "code",
   "execution_count": null,
   "metadata": {},
   "outputs": [],
   "source": [
    "%%writefile wx_hello_world.py\n",
    "#!/usr/bin/env python\n",
    "\"\"\"\n",
    "Hello World, but with more meat.\n",
    "\"\"\"\n",
    "\n",
    "import wx\n",
    "\n",
    "class HelloFrame(wx.Frame):\n",
    "    \"\"\"\n",
    "    A Frame that says Hello World\n",
    "    \"\"\"\n",
    "\n",
    "    def __init__(self, *args, **kw):\n",
    "        # ensure the parent's __init__ is called\n",
    "        super(HelloFrame, self).__init__(*args, **kw)\n",
    "\n",
    "        # create a panel in the frame\n",
    "        pnl = wx.Panel(self)\n",
    "\n",
    "        # and put some text with a larger bold font on it\n",
    "        st = wx.StaticText(pnl, label=\"Hello World!\", pos=(25,25))\n",
    "        font = st.GetFont()\n",
    "        font.PointSize += 10\n",
    "        font = font.Bold()\n",
    "        st.SetFont(font)\n",
    "\n",
    "        # create a menu bar\n",
    "        self.makeMenuBar()\n",
    "\n",
    "        # and a status bar\n",
    "        self.CreateStatusBar()\n",
    "        self.SetStatusText(\"Welcome to wxPython!\")\n",
    "\n",
    "\n",
    "    def makeMenuBar(self):\n",
    "        \"\"\"\n",
    "        A menu bar is composed of menus, which are composed of menu items.\n",
    "        This method builds a set of menus and binds handlers to be called\n",
    "        when the menu item is selected.\n",
    "        \"\"\"\n",
    "\n",
    "        # Make a file menu with Hello and Exit items\n",
    "        fileMenu = wx.Menu()\n",
    "        # The \"\\t...\" syntax defines an accelerator key that also triggers\n",
    "        # the same event\n",
    "        helloItem = fileMenu.Append(-1, \"&Hello...\\tCtrl-H\",\n",
    "                \"Help string shown in status bar for this menu item\")\n",
    "        fileMenu.AppendSeparator()\n",
    "        # When using a stock ID we don't need to specify the menu item's\n",
    "        # label\n",
    "        exitItem = fileMenu.Append(wx.ID_EXIT)\n",
    "\n",
    "        # Now a help menu for the about item\n",
    "        helpMenu = wx.Menu()\n",
    "        aboutItem = helpMenu.Append(wx.ID_ABOUT)\n",
    "\n",
    "        # Make the menu bar and add the two menus to it. The '&' defines\n",
    "        # that the next letter is the \"mnemonic\" for the menu item. On the\n",
    "        # platforms that support it those letters are underlined and can be\n",
    "        # triggered from the keyboard.\n",
    "        menuBar = wx.MenuBar()\n",
    "        menuBar.Append(fileMenu, \"&File\")\n",
    "        menuBar.Append(helpMenu, \"&Help\")\n",
    "\n",
    "        # Give the menu bar to the frame\n",
    "        self.SetMenuBar(menuBar)\n",
    "\n",
    "        # Finally, associate a handler function with the EVT_MENU event for\n",
    "        # each of the menu items. That means that when that menu item is\n",
    "        # activated then the associated handler function will be called.\n",
    "        self.Bind(wx.EVT_MENU, self.OnHello, helloItem)\n",
    "        self.Bind(wx.EVT_MENU, self.OnExit,  exitItem)\n",
    "        self.Bind(wx.EVT_MENU, self.OnAbout, aboutItem)\n",
    "\n",
    "\n",
    "    def OnExit(self, event):\n",
    "        \"\"\"Close the frame, terminating the application.\"\"\"\n",
    "        self.Close(True)\n",
    "\n",
    "\n",
    "    def OnHello(self, event):\n",
    "        \"\"\"Say hello to the user.\"\"\"\n",
    "        wx.MessageBox(\"Hello again from wxPython\")\n",
    "\n",
    "\n",
    "    def OnAbout(self, event):\n",
    "        \"\"\"Display an About Dialog\"\"\"\n",
    "        wx.MessageBox(\"This is a wxPython Hello World sample\",\n",
    "                      \"About Hello World 2\",\n",
    "                      wx.OK|wx.ICON_INFORMATION)\n",
    "\n",
    "\n",
    "if __name__ == '__main__':\n",
    "    # When this module is run (not imported) then create the app, the\n",
    "    # frame, show it, and start the event loop.\n",
    "    app = wx.App()\n",
    "    frm = HelloFrame(None, title='Hello World 2')\n",
    "    frm.Show()\n",
    "    app.MainLoop()"
   ]
  },
  {
   "cell_type": "code",
   "execution_count": null,
   "metadata": {},
   "outputs": [],
   "source": [
    "%run wx_hello_world.py"
   ]
  },
  {
   "cell_type": "markdown",
   "metadata": {},
   "source": [
    "## Machine learning\n",
    "- scikit-learn\n",
    "- theano/tensorflow/pytorch\n",
    "  - keras\n",
    "\n",
    "## [Pycuda](https://documen.tician.de/pycuda/): Programming the GPU\n",
    "Wrapper around [Cuda](https://developer.nvidia.com/cuda-zone).\n",
    "The alternative [Pyopencl](https://documen.tician.de/pyopencl/) provides a very similar wrapper around [OpenCL](https://www.khronos.org/opencl/)."
   ]
  },
  {
   "cell_type": "code",
   "execution_count": null,
   "metadata": {},
   "outputs": [],
   "source": [
    "import pycuda.autoinit\n",
    "import pycuda.driver as drv\n",
    "\n",
    "from pycuda.compiler import SourceModule\n",
    "mod = SourceModule(\"\"\"\n",
    "__global__ void multiply_them(double *dest, double *a, double *b)\n",
    "{\n",
    "  const int i = threadIdx.x;\n",
    "  dest[i] = a[i] * b[i];\n",
    "}\n",
    "\"\"\")\n",
    "\n",
    "multiply_them = mod.get_function(\"multiply_them\")\n",
    "\n",
    "a = np.random.randn(400)\n",
    "b = np.random.randn(400)\n",
    "\n",
    "dest = np.zeros_like(a)\n",
    "multiply_them(\n",
    "        drv.Out(dest), drv.In(a), drv.In(b),\n",
    "        block=(400,1,1), grid=(1,1))\n",
    "\n",
    "print(dest-a*b)"
   ]
  },
  {
   "cell_type": "markdown",
   "metadata": {},
   "source": [
    "Also see [pyopenGL](http://pyopengl.sourceforge.net/): graphics programming in python (used in FSLeyes)\n",
    "## Testing\n",
    "- [unittest](https://docs.python.org/3.6/library/unittest.html): python built-in testing\n",
    "> ```\n",
    "> import unittest\n",
    ">\n",
    "> class TestStringMethods(unittest.TestCase):\n",
    ">\n",
    ">     def test_upper(self):\n",
    ">         self.assertEqual('foo'.upper(), 'FOO')\n",
    ">\n",
    ">     def test_isupper(self):\n",
    ">         self.assertTrue('FOO'.isupper())\n",
    ">         self.assertFalse('Foo'.isupper())\n",
    ">\n",
    ">     def test_split(self):\n",
    ">         s = 'hello world'\n",
    ">         self.assertEqual(s.split(), ['hello', 'world'])\n",
    ">         # check that s.split fails when the separator is not a string\n",
    ">         with self.assertRaises(TypeError):\n",
    ">             s.split(2)\n",
    ">\n",
    "> if __name__ == '__main__':\n",
    ">     unittest.main()\n",
    "> ```\n",
    "- [doctest](https://docs.python.org/3.6/library/doctest.html): checks the example usage in the documentation\n",
    "> ```\n",
    "> def factorial(n):\n",
    ">     \"\"\"Return the factorial of n, an exact integer >= 0.\n",
    ">\n",
    ">     >>> [factorial(n) for n in range(6)]\n",
    ">     [1, 1, 2, 6, 24, 120]\n",
    ">     >>> factorial(30)\n",
    ">     265252859812191058636308480000000\n",
    ">     >>> factorial(-1)\n",
    ">     Traceback (most recent call last):\n",
    ">         ...\n",
    ">     ValueError: n must be >= 0\n",
    ">\n",
    ">     Factorials of floats are OK, but the float must be an exact integer:\n",
    ">     >>> factorial(30.1)\n",
    ">     Traceback (most recent call last):\n",
    ">         ...\n",
    ">     ValueError: n must be exact integer\n",
    ">     >>> factorial(30.0)\n",
    ">     265252859812191058636308480000000\n",
    ">\n",
    ">     It must also not be ridiculously large:\n",
    ">     >>> factorial(1e100)\n",
    ">     Traceback (most recent call last):\n",
    ">         ...\n",
    ">     OverflowError: n too large\n",
    ">     \"\"\"\n",
    ">\n",
    ">     import math\n",
    ">     if not n >= 0:\n",
    ">         raise ValueError(\"n must be >= 0\")\n",
    ">     if math.floor(n) != n:\n",
    ">         raise ValueError(\"n must be exact integer\")\n",
    ">     if n+1 == n:  # catch a value like 1e300\n",
    ">         raise OverflowError(\"n too large\")\n",
    ">     result = 1\n",
    ">     factor = 2\n",
    ">     while factor <= n:\n",
    ">         result *= factor\n",
    ">         factor += 1\n",
    ">     return result\n",
    ">\n",
    ">\n",
    "> if __name__ == \"__main__\":\n",
    ">     import doctest\n",
    ">     doctest.testmod()\n",
    "> ```\n",
    "Two external packages provide more convenient unit tests:\n",
    "- [py.test](https://docs.pytest.org/en/latest/)\n",
    "- [nose2](http://nose2.readthedocs.io/en/latest/usage.html)\n",
    "> ```\n",
    "> # content of test_sample.py\n",
    "> def inc(x):\n",
    ">     return x + 1\n",
    ">\n",
    "> def test_answer():\n",
    ">     assert inc(3) == 5\n",
    "> ```\n",
    "\n",
    "- [coverage](https://coverage.readthedocs.io/en/coverage-4.5.1/): measures which part of the code is covered by the tests\n",
    "\n",
    "## Linters\n",
    "Linters check the code for any syntax errors, [style errors](https://www.python.org/dev/peps/pep-0008/), unused variables, unreachable code, etc.\n",
    "- [pylint](https://pypi.python.org/pypi/pylint): most extensive linter\n",
    "- [pyflake](https://pypi.python.org/pypi/pyflakes): if you think pylint is too strict\n",
    "- [pep8](https://pypi.python.org/pypi/pep8): just checks for style errors\n",
    "- [mypy](http://mypy-lang.org/): adding explicit typing to python\n",
    "\n",
    "## Web frameworks\n",
    "- [Django2](https://www.djangoproject.com/): includes the most features, but also forces you to do things their way\n",
    "- [Pyramid](https://trypyramid.com): Intermediate options\n",
    "- [Flask](http://flask.pocoo.org/): Bare-bone web framework, but many extensions available\n",
    "\n",
    "There are also many, many libraries to interact with databases, but you will have to google those yourself.\n",
    "\n",
    "# Several honourable mentions\n",
    "- [trimesh](https://github.com/mikedh/trimesh): Triangular mesh algorithms\n",
    "- [Pillow](https://pillow.readthedocs.io/en/latest/): Read/write/manipulate a wide variety of images (png, jpg, tiff, etc.)\n",
    "- [psychopy](http://www.psychopy.org/): equivalent of psychtoolbox (workshop coming up in April in Nottingham)\n",
    "- [Buit-in libraries](https://docs.python.org/3/py-modindex.html)\n",
    "    - [collections](https://docs.python.org/3.6/library/collections.html): deque, OrderedDict, namedtuple, and more\n",
    "    - [datetime](https://docs.python.org/3/library/datetime.html): Basic date and time types\n",
    "    - [enum](https://docs.python.org/3/library/enum.html): Enumerators\n",
    "    - [fractions](https://docs.python.org/3/library/fractions.html): rational numbers\n",
    "    - [functools](https://docs.python.org/3/library/functools.html): caching, decorators, and support for functional programming\n",
    "    - [json](https://docs.python.org/3/library/json.html)/[ipaddress](https://docs.python.org/3/library/ipaddress.html)/[xml](https://docs.python.org/3/library/xml.html#module-xml): parsing/writing\n",
    "    - [itertools](https://docs.python.org/3/library/itertools.html): more tools to loop over sequences\n",
    "    - [logging](https://docs.python.org/3/library/logging.htm): log your output to stdout or a file (more flexible than print statements)\n",
    "    - [multiprocessing](https://docs.python.org/3/library/multiprocessing.html)\n",
    "    - [os](https://docs.python.org/3/library/os.html#module-os)/[sys](https://docs.python.org/3/library/sys.html): Miscellaneous operating system interfaces\n",
    "    - [os.path](https://docs.python.org/3/library/os.path.html)/[pathlib](https://docs.python.org/3/library/pathlib.html): utilities to deal with filesystem paths (latter provides an object-oriented interface)\n",
    "    - [pickle](https://docs.python.org/3/library/pickle.html): Store/load any python object\n",
    "    - [shutil](https://docs.python.org/3/library/shutil.html): copy/move files\n",
    "    - [subprocess](https://docs.python.org/3/library/subprocess.html): call shell commands\n",
    "    - [time](https://docs.python.org/3/library/time.html)/[timeit](https://docs.python.org/3/library/timeit.html): keeping track of it\n",
    "    - [turtule](https://docs.python.org/3/library/turtle.html#module-turtle): teach python to your kids!\n",
    "    - [warnings](https://docs.python.org/3/library/warnings.html#module-warnings): tell people they are not using your code properly"
   ]
  }
 ],
 "metadata": {},
 "nbformat": 4,
 "nbformat_minor": 2
}
