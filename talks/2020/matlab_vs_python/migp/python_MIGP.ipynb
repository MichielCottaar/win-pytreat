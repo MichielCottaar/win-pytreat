{
 "cells": [
  {
   "cell_type": "markdown",
   "metadata": {},
   "source": [
    "## Python MIGP\n",
    "\n",
    "This notebook will perform *python* MIGP dimension reduction, run group ICA, and then plot the group ICs.\n",
    "\n",
    "* [Run python `MIGP`](#run-python-migp)\n",
    "* [Run `melodic`](#run-python-melodic)\n",
    "* [Plot group ICs](#plot-python-group-ics)\n",
    "\n",
    "Firstly we will import the necessary packages for this notebook:  "
   ]
  },
  {
   "cell_type": "code",
   "execution_count": null,
   "metadata": {},
   "outputs": [],
   "source": [
    "import glob\n",
    "import random\n",
    "import nibabel as nb\n",
    "import numpy as np\n",
    "from scipy.sparse.linalg import svds, eigs\n",
    "import matplotlib.pyplot as plt\n",
    "from nilearn import plotting\n",
    "from nilearn import image\n",
    "import os.path as op"
   ]
  },
  {
   "cell_type": "markdown",
   "metadata": {},
   "source": [
    "It will be necessary to know the location where the data was stored so that we can load the brainmask. \n",
    "\n",
    "> **Note**: [`expanduser`](https://docs.python.org/3.7/library/os.path.html#os.path.expanduser) will expand the `~` to the be users home directory"
   ]
  },
  {
   "cell_type": "code",
   "execution_count": null,
   "metadata": {},
   "outputs": [],
   "source": [
    "data_dir = op.expanduser('~/nilearn_data')"
   ]
  },
  {
   "cell_type": "markdown",
   "metadata": {},
   "source": [
    "<a class=\"anchor\" id=\"run-python-migp\"></a>\n",
    "### Run python `MIGP`\n",
    "\n",
    "Firstly we need to set the MIGP parameters:\n",
    "\n",
    "> **Note:**\n",
    "> 1. [`glob.glob`](https://docs.python.org/3/library/glob.html) will create a list of filenames that match the glob/wildcard pattern\n",
    "> 2. [`nb.load`](https://nipy.org/nibabel/gettingstarted.html) from the [`nibabel`](https://nipy.org/nibabel/index.html) package will load the image into [`nibabel.Nifti1Image`](https://nipy.org/nibabel/reference/nibabel.nifti1.html) object.  This will not load the actual data though.\n",
    "> 3. We use a list comprehension to loop through all the filenames and load them with [`nibabel`](https://nipy.org/nibabel/index.html)"
   ]
  },
  {
   "cell_type": "code",
   "execution_count": null,
   "metadata": {},
   "outputs": [],
   "source": [
    "# create lists of (nibabel) image objects\n",
    "in_list = [nb.load(f) for f in glob.glob(f'{data_dir}/cobre/fmri_*_smooth.nii.gz')]\n",
    "in_mask = nb.load(f'{data_dir}/brain_mask.nii.gz')\n",
    "\n",
    "# set user parameters (equivalent to melodic defaults)\n",
    "GO = 'pyMIGP.nii.gz'  # output filename\n",
    "dPCA_int = 299        # internal number of components - typically 2-4 times number of timepoints in each run (if you have enough RAM for that)\n",
    "dPCA_out = 299        # number of eigenvectors to output - should be less than dPCAint and more than the final ICA dimensionality\n",
    "sep_vn = False        # switch on separate variance nomalisation for each input dataset"
   ]
  },
  {
   "cell_type": "markdown",
   "metadata": {},
   "source": [
    "> **Note:**\n",
    "> 1. [`random.shuffle`](https://docs.python.org/3.7/library/random.html#random.shuffle) will shuffle a list, in this instance it shuffles the list of [`nibabel.Nifti1Image`](https://nipy.org/nibabel/reference/nibabel.nifti1.html) objects\n",
    "> 2. [`ravel`](https://docs.scipy.org/doc/numpy/reference/generated/numpy.ravel.html) will unfold a n-d array into vector.  Similar to the `:` operator in Matlab\n",
    "> 3. [`reshape`](https://docs.scipy.org/doc/numpy/reference/generated/numpy.reshape.html) works similarly to reshape in Matlab, but be careful becase the default order is different from Matlab.\n",
    "> 4. [`.T`](https://docs.scipy.org/doc/numpy/reference/generated/numpy.ndarray.T.html) does a transpose in `numpy`\n",
    "> 5. The final element of an array is indexed with `-1` in `numpy`, as opposed to `end` in Matlab\n",
    "> 6. [`svds`](https://docs.scipy.org/doc/scipy/reference/generated/scipy.sparse.linalg.svds.html) and [`eigs`](https://docs.scipy.org/doc/scipy/reference/generated/scipy.sparse.linalg.eigs.html?highlight=eigs#scipy.sparse.linalg.eigs) come from the [`scipy.sparse.linalg`](https://docs.scipy.org/doc/scipy/reference/sparse.linalg.html) package\n",
    "> 7. [`svds`](https://docs.scipy.org/doc/scipy/reference/generated/scipy.sparse.linalg.svds.html) and [`eigs`](https://docs.scipy.org/doc/scipy/reference/generated/scipy.sparse.linalg.eigs.html?highlight=eigs#scipy.sparse.linalg.eigs) are very similar to their Matlab counterparts, but be careful because Matlab `svds` returns $U$, $S$, and $V$, whereas python `svds` returns $U$, $S$, and $V^T$\n",
    "> 8. We index into the output of `eigs(W@W.T, dPCA_int)[1]` to only return the 2nd output (index 1)"
   ]
  },
  {
   "cell_type": "code",
   "execution_count": null,
   "metadata": {},
   "outputs": [],
   "source": [
    "# randomise the subject order\n",
    "random.shuffle(in_list)\n",
    "\n",
    "# load and unravel brainmask\n",
    "mask = in_mask.get_fdata(caching='unchanged') != 0.0\n",
    "\n",
    "# function to demean the data\n",
    "def demean(x):\n",
    "    return x - np.mean(x, axis=0)\n",
    "\n",
    "# loop through input files/subjects\n",
    "for i, f in enumerate(in_list):\n",
    "    \n",
    "    # read data\n",
    "    print(f'Reading data file {f.get_filename()}')\n",
    "    grot = f.get_fdata(caching='unchanged')[mask].T\n",
    "    \n",
    "    # demean\n",
    "    print(f'\\tRemoving mean image')\n",
    "    grot = demean(grot)\n",
    "    \n",
    "    # var-norm\n",
    "    if sep_vn:\n",
    "        print(f'\\tNormalising by voxel-wise variance')\n",
    "        [uu, ss, vt] = svds(grot, k=30)\n",
    "        vt[np.abs(vt) < (2.3 * np.std(vt))] = 0;\n",
    "        stddevs = np.maximum(np.std(grot - (uu @ np.diag(ss) @ vt), axis=0), 0.001)\n",
    "        grot = grot/stddevs\n",
    "    \n",
    "    if i == 0:\n",
    "        W = demean(grot)\n",
    "    else:\n",
    "        # concat\n",
    "        W = np.concatenate((W, demean(grot)), axis=0)\n",
    "        \n",
    "        # reduce W to dPCA_int eigenvectors\n",
    "        if W.shape[0]-10 > dPCA_int:\n",
    "            print(f'\\tReducing data matrix to a {dPCA_int} dimensional subspace')\n",
    "            uu = eigs(np.dot(W, W.T), dPCA_int)[1]\n",
    "            uu = np.real(uu)\n",
    "            W = np.dot(uu.T, W)\n",
    "        \n",
    "# reshape and save\n",
    "grot = np.zeros([mask.size, dPCA_out])\n",
    "grot[mask.ravel(), :] = W[:dPCA_out, :].T\n",
    "grot = np.reshape(grot, in_list[0].shape[:3] + (dPCA_out,))\n",
    "\n",
    "print(f'Save to {GO}')\n",
    "nb.Nifti1Image(grot, affine=in_list[0].affine).to_filename(GO)\n"
   ]
  },
  {
   "cell_type": "markdown",
   "metadata": {},
   "source": [
    "<a class=\"anchor\" id=\"run-python-melodic\"></a>\n",
    "### Run ```melodic```\n",
    "\n",
    "Generate a command line string and run group ```melodic``` on the Matlab MIGP dimension reduced data with a dimension of 10 components.  We disable MIGP because it was already run separately in Matlab.\n",
    "\n",
    "> **Note**: \n",
    "> 1. Here we use python [f-strings](https://www.python.org/dev/peps/pep-0498/), formally known as literal string interpolation, which allow for easy formatting\n",
    "> 2. [`op.join`](https://docs.python.org/3.7/library/os.path.html#os.path.join) will join path strings using the platform-specific directory separator"
   ]
  },
  {
   "cell_type": "code",
   "execution_count": null,
   "metadata": {},
   "outputs": [],
   "source": [
    "# generate melodic command line string\n",
    "melodic_cmd = f\"melodic -i pyMIGP.nii.gz --mask={op.join(data_dir, 'brain_mask.nii.gz')} -d 10 -v --nobet --disableMigp -o pymigp.gica\"\n",
    "print(melodic_cmd)"
   ]
  },
  {
   "cell_type": "markdown",
   "metadata": {},
   "source": [
    "> **Note:** \n",
    "> 1. Here we use the `!` operator to execute the command in the shell\n",
    "> 2. The `{}` will expand the contained python variable in the shell"
   ]
  },
  {
   "cell_type": "code",
   "execution_count": null,
   "metadata": {},
   "outputs": [],
   "source": [
    "# run melodic\n",
    "! {melodic_cmd}"
   ]
  },
  {
   "cell_type": "markdown",
   "metadata": {},
   "source": [
    "<a class=\"anchor\" id=\"plot-python-group-ics\"></a>\n",
    "### Plot group ICs\n",
    "\n",
    "Now we can load and plot the group ICs generated by ```melodic```.\n",
    "\n",
    "This function will be used to plot ICs:\n",
    "\n",
    "> **NOTE:**\n",
    "> 1. Here we use [`plot_stat_map`](https://nilearn.github.io/modules/generated/nilearn.plotting.plot_stat_map.html) from the [`nilearn`](https://nilearn.github.io/index.html) package to plot the orthographic images\n",
    "> 2. [`subplots`](https://matplotlib.org/api/_as_gen/matplotlib.pyplot.subplots.html) from `matplotlib.pyplot` creates a figure and multiple subplots\n",
    "> 3. [`find_xyz_cut_coords`](https://nilearn.github.io/modules/generated/nilearn.plotting.find_xyz_cut_coords.html) from the [`nilearn`](https://nilearn.github.io/index.html) package will find the image coordinates of the center of the largest activation connected component\n",
    "> 4. [`zip`](https://docs.python.org/3.3/library/functions.html#zip) takes iterables and aggregates them in a tuple.  Here it is used to iterate through two lists simultaneously\n",
    "> 5. [`iter_img`](https://nilearn.github.io/modules/generated/nilearn.image.iter_img.html) from the [`nilearn`](https://nilearn.github.io/index.html) package creates an iterator from an image that steps through each volume/time-point of the image"
   ]
  },
  {
   "cell_type": "code",
   "execution_count": null,
   "metadata": {},
   "outputs": [],
   "source": [
    "def map_plot(d):\n",
    "\n",
    "    N = d.shape[-1]\n",
    "\n",
    "    fig, ax = plt.subplots(int(np.ceil((N/2))),2, figsize=(12, N))\n",
    "\n",
    "    for img, ax0 in zip(image.iter_img(d), ax.ravel()):\n",
    "        coord = plotting.find_xyz_cut_coords(img, activation_threshold=3.5)\n",
    "        plotting.plot_stat_map(img, cut_coords=coord, vmax=10, axes=ax0)\n",
    "        \n",
    "    return fig"
   ]
  },
  {
   "cell_type": "markdown",
   "metadata": {},
   "source": [
    "Hopefully you can see some familiar looking RSN spatial patterns:"
   ]
  },
  {
   "cell_type": "code",
   "execution_count": null,
   "metadata": {},
   "outputs": [],
   "source": [
    "ics = nb.load('pymigp.gica/melodic_IC.nii.gz')\n",
    "fig = map_plot(ics)"
   ]
  },
  {
   "cell_type": "code",
   "execution_count": null,
   "metadata": {},
   "outputs": [],
   "source": []
  }
 ],
 "metadata": {
  "kernelspec": {
   "display_name": "Python 3",
   "language": "python",
   "name": "python3"
  },
  "language_info": {
   "codemirror_mode": {
    "name": "ipython",
    "version": 3
   },
   "file_extension": ".py",
   "mimetype": "text/x-python",
   "name": "python",
   "nbconvert_exporter": "python",
   "pygments_lexer": "ipython3",
   "version": "3.7.6"
  }
 },
 "nbformat": 4,
 "nbformat_minor": 4
}
